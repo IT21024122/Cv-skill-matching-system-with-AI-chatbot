{
 "cells": [
  {
   "cell_type": "code",
   "execution_count": 581,
   "metadata": {},
   "outputs": [],
   "source": [
    "from pdfminer.converter import TextConverter\n",
    "from pdfminer.pdfinterp import PDFPageInterpreter\n",
    "from pdfminer.pdfinterp import PDFResourceManager\n",
    "from pdfminer.layout import LAParams\n",
    "from pdfminer.pdfpage import PDFPage\n",
    "import io\n",
    "\n",
    "def extract_text_from_pdf(pdf_path):\n",
    "    with open(pdf_path, 'rb') as fh:\n",
    "        # iterate over all pages of PDF document\n",
    "        for page in PDFPage.get_pages(fh, caching=True, check_extractable=True,):\n",
    "            # creating a resoure manager\n",
    "            resource_manager = PDFResourceManager()\n",
    "            \n",
    "            # create a file handle\n",
    "            fake_file_handle = io.StringIO()\n",
    "            \n",
    "            # creating a text converter object\n",
    "            converter = TextConverter(\n",
    "                                resource_manager, \n",
    "                                fake_file_handle, \n",
    "                                codec='utf-8', \n",
    "                                laparams=LAParams()\n",
    "                        )\n",
    "\n",
    "            # creating a page interpreter\n",
    "            page_interpreter = PDFPageInterpreter(\n",
    "                                resource_manager, \n",
    "                                converter\n",
    "                            )\n",
    "\n",
    "            # process current page\n",
    "            page_interpreter.process_page(page)\n",
    "            \n",
    "            # extract text\n",
    "            text = fake_file_handle.getvalue()\n",
    "            yield text\n",
    "\n",
    "            # close open handles\n",
    "            converter.close()\n",
    "            fake_file_handle.close()\n",
    "\n"
   ]
  },
  {
   "cell_type": "code",
   "execution_count": 582,
   "metadata": {},
   "outputs": [],
   "source": [
    "text = \"\"\n",
    "for page in extract_text_from_pdf(\"Curriculum Vitae -Shehan Krishan.pdf\"):\n",
    "    text += ' ' + page\n"
   ]
  },
  {
   "cell_type": "code",
   "execution_count": 583,
   "metadata": {},
   "outputs": [
    {
     "data": {
      "text/plain": [
       "' Shehan Krishan\\nData Science Graduate\\n\\nContact:\\n\\n0767158801\\n\\nshehankrishan6@gmail.com\\n\\n34/25 Kelaninadee rd,Mulleriyawa \\n\\nhttps://www.linkedin.com/in/shehan-\\nkrishan/\\n\\nTECHNICAL SKILLS:\\n\\nProgramming Languages\\n\\n●\\n●\\n●\\n\\nPython\\nDart\\nJavascript\\n\\nProfessional Profile:\\n\\nA motivated and results-oriented Ml Engineer with one \\n\\nyear of experience in AI /ML ,Web Development, API \\n\\nDevelopment,Mobile App Development . Possesses a \\n\\nstrong a strong Problem Solving,Time Management \\n\\nand Analytical Thinking.Adept at AI, Machine Learning, \\n\\nFlutter, Python, and API development.I am a mature \\n\\nteam  worker and adaptable to all challenging \\n\\nsituations. I can work well  both in a team environment \\n\\nas well as using my own initiative.Seeking to leverage \\n\\nmy skills and experience to contribute effectively to \\n\\nyour company where my skills can shine. Moreover,I \\n\\nam looking for an opportunity that offers me to \\n\\ndevelop  new skills while strengthening those I already \\n\\nMobile Application Development\\n\\npossess.\\n\\n●\\n●\\n\\nFlutter\\nJava\\n\\nWeb Development\\n\\n●\\n●\\n●\\n\\nFlutter\\nNextJS\\nHTML,CSS,Tailwind css \\n\\nDatabase Handling\\n\\n●\\n●\\n●\\n●\\n\\nOracle\\nMySQL , MSSQL\\nFirebase\\nMongoDB\\n\\nSkilled in\\n●\\n●\\n●\\n●\\n●\\n●\\n\\nMachine Learning\\nData analysis\\nETL processing\\nPower BI\\nTableau\\nAWS\\n\\nACHIEVEMENTS:\\n\\n●\\n\\n1st Runner-Up at HackX 7.0\\nan Inter-University Startup\\nChallenge organized by the\\nDepartment of Industrial\\nmanagement, University of\\nKelaniya.\\n\\nExperience:\\n\\nAI /Ml Engineer - ICT Options PVT\\n\\n : 02/2023 - 04/2024 \\n\\n●\\n\\n●\\n\\n●\\n\\n●\\n\\n●\\n\\n●\\n\\n●\\n\\nDeveloped  Computer Vision projects using \\n\\nPython,Flutter,NextJS \\n\\nDeveloped ML and Custom Algorithm projects \\n\\nusing  Python,Flutter,NextJS \\n\\nDeveloped Web Applications using \\n\\nFlutter,NextJS\\n\\nDeveloped Mobile Applications using Flutter\\n\\nDeveloped APIs using python FastAPI/Flask \\n\\nframeworks\\n\\nData Analysis and Data Preprocessing and \\n\\nData Migrations\\n\\nDeveloped Chat/Voice Bots using \\n\\nPython,Flutter ,rasa \\n\\nJunior Ml Engineer - Emuq Tech (Miami, Florida US)\\n : 03/2023 - 09/2023\\n\\n●\\n\\n●\\n\\n●\\n\\n●\\n\\nDeveloped Generative Ml models using Python\\n\\nTrain Ml Models using Python\\n\\nDeveloped APIs using python FastAPI/Flask \\n\\nframeworks\\n\\nExperience in AWS (instance,s3,sagemaker)   \\n\\n\\x0c ●\\n\\n●\\n\\nSelected for top 10 teams in\\nDatarush 1.0 organized by\\nDSSC of SLIIT.\\nSelected for the Top 10 \\nteams of Intellihack 2.0 \\norganised by IEEE of \\nUniversity of Colombo.\\n\\nSOFT SKILLS:\\nQuick learner\\nTeamwork\\nCritical Thinking\\nTime Management\\nProblem solving\\nOrganization\\nWork under minimum\\nsupervision\\n\\n●\\n●\\n●\\n●\\n●\\n●\\n●\\n●\\n\\nREFERENCES:\\n\\nProf. Samantha Thelijjagoda\\nPro Vice-Chancellor (Research &\\nInternational),\\nSri Lanka Institute of Information and\\nTechnology.\\nsamantha.t@sliit.lk\\n\\nMr. Vishwa Priyanatha\\nSenior Software Engineer -global \\ntote\\n0756149970\\n\\nIntern Data Analyst - Dialog Axiata PLC\\n\\n : 12/2021 - 09/2022\\n\\n●\\n\\n●\\n\\n●\\n\\n●\\n\\nDashboard development and optimization \\n\\nusing Power BI,Tableau\\n\\nDeveloping machine learning models for \\n\\ncustomer prediction using Python \\n\\nCreation of automation scripts using SQL\\n\\nDevelop data pipelines using Python \\n\\nEducation:\\n\\n●\\n\\n●\\n\\n●\\n\\n●\\n\\nB.Sc. Special (Hons) – Information \\n\\nTechnology (Specialization – Data Science) \\n\\nat Sri Lanka Institute of Information \\n\\nTechnology (SLIIT) Graduate. (2019 - 2023)\\n\\nSuccessfully completed an Online Bootcamp \\n\\n“Python and Machine learning” at SHAPEAI in \\n\\nCollaboration with Google Developer Group. \\n\\n(June 6,2021)\\n\\nSuccessful completion of Software \\n\\nDevelopment Diploma Course at Advanced \\n\\nTechnologies and Research Institute. (2018)\\n\\nG.C.E (Advance Level) Exam at Sri Subuthi \\n\\nNational School, Battaramulla in 2017. \\n\\nUniversity Project  Experience:\\n\\nResearch\\n\\nSinhala language speech assistive bot to aid children \\n\\nin managing stuttering (IEEE accepted publication) \\n\\nTechnologies : Python ,Flutter\\n\\nWeb Application for a housing type prediction using \\n\\nclassification models and Market Basket Analysis \\n\\nusing Association rules.\\n\\nusing classification models to predict the best \\n\\nhousing type according to user requirements and a \\n\\nMarket Basket Analysis using Association rules to\\n\\ncapture frequent item sets and give suggestions \\n\\naccordingly.\\n\\n●\\n\\n●\\n\\n●\\n\\nTechnologies : Python, Streamlit, Heroku, \\n\\nPandas and Scikit-learn libraries\\n\\nApp Deployed link: \\n\\nhttps://streamlitapp-heroku.herokuapp.com/\\n\\nGitHub : https://github.com/Krishan-\\n\\nShehan/StreamlitApp_Heroku.git   \\n\\nYummy mobile application.\\n\\nA recipe by ingredient mobile application designed to \\n\\nget recipes when you enter the ingredients and \\n\\nincludes a number of various other features.\\n\\nTechnologies : Java , Firebase\\n\\n\\x0c'"
      ]
     },
     "execution_count": 583,
     "metadata": {},
     "output_type": "execute_result"
    }
   ],
   "source": [
    "text"
   ]
  },
  {
   "cell_type": "code",
   "execution_count": 224,
   "metadata": {},
   "outputs": [],
   "source": [
    "import re\n",
    "\n",
    "def extract_mobile_number(text):\n",
    "    phone = re.findall(re.compile(r'(?:(?:\\+?([1-9]|[0-9][0-9]|[0-9][0-9][0-9])\\s*(?:[.-]\\s*)?)?(?:\\(\\s*([2-9]1[02-9]|[2-9][02-8]1|[2-9][02-8][02-9])\\s*\\)|([0-9][1-9]|[0-9]1[02-9]|[2-9][02-8]1|[2-9][02-8][02-9]))\\s*(?:[.-]\\s*)?)?([2-9]1[02-9]|[2-9][02-9]1|[2-9][02-9]{2})\\s*(?:[.-]\\s*)?([0-9]{4})(?:\\s*(?:#|x\\.?|ext\\.?|extension)\\s*(\\d+))?'), text)\n",
    "    \n",
    "    if phone:\n",
    "        number = ''.join(phone[0])\n",
    "        if len(number) > 10:\n",
    "            return '+' + number\n",
    "        else:\n",
    "            return number"
   ]
  },
  {
   "cell_type": "code",
   "execution_count": 225,
   "metadata": {},
   "outputs": [
    {
     "data": {
      "text/plain": [
       "'076715880'"
      ]
     },
     "execution_count": 225,
     "metadata": {},
     "output_type": "execute_result"
    }
   ],
   "source": [
    "extract_mobile_number(text)"
   ]
  },
  {
   "cell_type": "code",
   "execution_count": 599,
   "metadata": {},
   "outputs": [],
   "source": [
    "from spacy.matcher import Matcher\n",
    "import spacy\n",
    "nlp = spacy.load('en_core_web_sm')\n",
    "matcher = Matcher(nlp.vocab)\n",
    "\n",
    "def extract_name(resume_text):\n",
    "    nlp_text = nlp(resume_text)\n",
    "    \n",
    "    # First name and Last name are always Proper Nouns\n",
    "    pattern = [{'POS': 'PROPN'}, {'POS': 'PROPN'}]\n",
    "    \n",
    "    matcher.add('NAME', None, pattern)\n",
    "    \n",
    "    matches = matcher(nlp_text)\n",
    "    \n",
    "    for match_id, start, end in matches:\n",
    "        span = nlp_text[start:end]\n",
    "        return span.text"
   ]
  },
  {
   "cell_type": "code",
   "execution_count": 600,
   "metadata": {},
   "outputs": [
    {
     "data": {
      "text/plain": [
       "'Shehan Krishan'"
      ]
     },
     "execution_count": 600,
     "metadata": {},
     "output_type": "execute_result"
    }
   ],
   "source": [
    "extract_name(text)"
   ]
  },
  {
   "cell_type": "code",
   "execution_count": 226,
   "metadata": {},
   "outputs": [],
   "source": [
    "def extract_email(email):\n",
    "    email = re.findall(\"([^@|\\s]+@[^@]+\\.[^@|\\s]+)\", email)\n",
    "    if email:\n",
    "        try:\n",
    "            return email[0].split()[0].strip(';')\n",
    "        except IndexError:\n",
    "            return None"
   ]
  },
  {
   "cell_type": "code",
   "execution_count": 227,
   "metadata": {},
   "outputs": [
    {
     "data": {
      "text/plain": [
       "'shehankrishan6@gmail.com'"
      ]
     },
     "execution_count": 227,
     "metadata": {},
     "output_type": "execute_result"
    }
   ],
   "source": [
    "extract_email(text)"
   ]
  },
  {
   "cell_type": "code",
   "execution_count": 228,
   "metadata": {},
   "outputs": [],
   "source": [
    "import spacy\n",
    "import pandas as pd\n",
    "\n",
    "nlp = spacy.load('en_core_web_sm')\n",
    "\n",
    "def extract_skills(resume_text):\n",
    "    nlp_text = nlp(resume_text)\n",
    "\n",
    "    # removing stop words and implementing word tokenization\n",
    "    tokens = [token.text for token in nlp_text if not token.is_stop]\n",
    "    \n",
    "    # reading the csv file\n",
    "    data = pd.read_csv(\"skills.csv\") \n",
    "    \n",
    "    # extract values\n",
    "    skills = list(data.columns.values)\n",
    "    \n",
    "    skillset = []\n",
    "    \n",
    "    # check for one-grams (example: python)\n",
    "    for token in tokens:\n",
    "        if token.lower() in skills:\n",
    "            skillset.append(token)\n",
    "    \n",
    "    # check for bi-grams and tri-grams (example: machine learning)\n",
    "    for chunk in nlp_text.noun_chunks:\n",
    "        chunk_text = chunk.text.lower().strip()\n",
    "        if chunk_text in skills:\n",
    "            skillset.append(chunk_text)\n",
    "    \n",
    "    return list(set([i.capitalize() for i in skillset]))"
   ]
  },
  {
   "cell_type": "code",
   "execution_count": 601,
   "metadata": {},
   "outputs": [
    {
     "name": "stdout",
     "output_type": "stream",
     "text": [
      "['Github', 'Technical skills', 'Analysis', 'Automation', 'Startup', 'Ai', 'Database', 'Java', 'Oracle', 'Css', 'Technical', 'Machine learning', 'Flask', 'Programming', 'Research', 'Tableau', 'Sql', 'Javascript', 'Pandas', 'Flutter', 'Apis', 'Mysql', 'Python', 'Html', 'Api', 'Mobile', 'Data analysis', 'Analytical', 'Etl', 'Aws', 'International', 'Time management']\n"
     ]
    }
   ],
   "source": [
    "skills = extract_skills(text)\n",
    "print(skills) "
   ]
  },
  {
   "cell_type": "code",
   "execution_count": 236,
   "metadata": {},
   "outputs": [],
   "source": [
    "new_text = re.sub(r'●\\n', ' ', text)"
   ]
  },
  {
   "cell_type": "code",
   "execution_count": 237,
   "metadata": {},
   "outputs": [],
   "source": [
    "new_text = re.sub(r'\\n', ' ', new_text)"
   ]
  },
  {
   "cell_type": "code",
   "execution_count": 238,
   "metadata": {},
   "outputs": [],
   "source": [
    "new_text = re.sub(r':', ' - ', new_text)"
   ]
  },
  {
   "cell_type": "code",
   "execution_count": 239,
   "metadata": {},
   "outputs": [
    {
     "data": {
      "text/plain": [
       "' Shehan Krishan Data Science Graduate  Contact -   0767158801  shehankrishan6@gmail.com  34/25 Kelaninadee rd,Mulleriyawa   https - //www.linkedin.com/in/shehan- krishan/  TECHNICAL SKILLS -   Programming Languages      Python Dart Javascript  Professional Profile -   A motivated and results-oriented Ml Engineer with one   year of experience in AI /ML ,Web Development, API   Development,Mobile App Development . Possesses a   strong a strong Problem Solving,Time Management   and Analytical Thinking.Adept at AI, Machine Learning,   Flutter, Python, and API development.I am a mature   team  worker and adaptable to all challenging   situations. I can work well  both in a team environment   as well as using my own initiative.Seeking to leverage   my skills and experience to contribute effectively to   your company where my skills can shine. Moreover,I   am looking for an opportunity that offers me to   develop  new skills while strengthening those I already   Mobile Application Development  possess.     Flutter Java  Web Development      Flutter NextJS HTML,CSS,Tailwind css   Database Handling       Oracle MySQL , MSSQL Firebase MongoDB  Skilled in        Machine Learning Data analysis ETL processing Power BI Tableau AWS  ACHIEVEMENTS -     1st Runner-Up at HackX 7.0 an Inter-University Startup Challenge organized by the Department of Industrial management, University of Kelaniya.  Experience -   AI /Ml Engineer - ICT Options PVT    -  02/2023 - 04/2024                 Developed  Computer Vision projects using   Python,Flutter,NextJS   Developed ML and Custom Algorithm projects   using  Python,Flutter,NextJS   Developed Web Applications using   Flutter,NextJS  Developed Mobile Applications using Flutter  Developed APIs using python FastAPI/Flask   frameworks  Data Analysis and Data Preprocessing and   Data Migrations  Developed Chat/Voice Bots using   Python,Flutter ,rasa   Junior Ml Engineer - Emuq Tech (Miami, Florida US)   -  03/2023 - 09/2023          Developed Generative Ml models using Python  Train Ml Models using Python  Developed APIs using python FastAPI/Flask   frameworks  Experience in AWS (instance,s3,sagemaker)     \\x0c     Selected for top 10 teams in Datarush 1.0 organized by DSSC of SLIIT. Selected for the Top 10  teams of Intellihack 2.0  organised by IEEE of  University of Colombo.  SOFT SKILLS -  Quick learner Teamwork Critical Thinking Time Management Problem solving Organization Work under minimum supervision           REFERENCES -   Prof. Samantha Thelijjagoda Pro Vice-Chancellor (Research & International), Sri Lanka Institute of Information and Technology. samantha.t@sliit.lk  Mr. Vishwa Priyanatha Senior Software Engineer -global  tote 0756149970  Intern Data Analyst - Dialog Axiata PLC    -  12/2021 - 09/2022          Dashboard development and optimization   using Power BI,Tableau  Developing machine learning models for   customer prediction using Python   Creation of automation scripts using SQL  Develop data pipelines using Python   Education -           B.Sc. Special (Hons) – Information   Technology (Specialization – Data Science)   at Sri Lanka Institute of Information   Technology (SLIIT) Graduate. (2019 - 2023)  Successfully completed an Online Bootcamp   “Python and Machine learning” at SHAPEAI in   Collaboration with Google Developer Group.   (June 6,2021)  Successful completion of Software   Development Diploma Course at Advanced   Technologies and Research Institute. (2018)  G.C.E (Advance Level) Exam at Sri Subuthi   National School, Battaramulla in 2017.   University Project  Experience -   Research  Sinhala language speech assistive bot to aid children   in managing stuttering (IEEE accepted publication)   Technologies  -  Python ,Flutter  Web Application for a housing type prediction using   classification models and Market Basket Analysis   using Association rules.  using classification models to predict the best   housing type according to user requirements and a   Market Basket Analysis using Association rules to  capture frequent item sets and give suggestions   accordingly.        Technologies  -  Python, Streamlit, Heroku,   Pandas and Scikit-learn libraries  App Deployed link -    https - //streamlitapp-heroku.herokuapp.com/  GitHub  -  https - //github.com/Krishan-  Shehan/StreamlitApp_Heroku.git     Yummy mobile application.  A recipe by ingredient mobile application designed to   get recipes when you enter the ingredients and   includes a number of various other features.  Technologies  -  Java , Firebase  \\x0c'"
      ]
     },
     "execution_count": 239,
     "metadata": {},
     "output_type": "execute_result"
    }
   ],
   "source": [
    "new_text"
   ]
  },
  {
   "cell_type": "code",
   "execution_count": 280,
   "metadata": {},
   "outputs": [],
   "source": [
    "EDUCATION = ['BSC', 'B.Tech', 'B.E.', 'M.Sc.', 'M.Tech', 'M.E.', 'Ph.D.', 'DIPLOMA','GCE']\n",
    "STOPWORDS = ['and', 'in', 'of', 'at']\n",
    "\n",
    "\n",
    "def extract_education(resume_text):\n",
    "    nlp_text = nlp(resume_text)\n",
    "\n",
    "    # Sentence Tokenizer\n",
    "    nlp_text = [sent.text.strip() for sent in nlp_text.sents]\n",
    "    # nlp_text = [sent.string.strip() for sent in nlp_text.sents]\n",
    "    print(\"nlp_text\",nlp_text)\n",
    "    \n",
    "    edu = {}\n",
    "    # Extract education degree\n",
    "    for index, text in enumerate(nlp_text[:-1]):\n",
    "        # print(text)\n",
    "        text = re.sub(r'[?|$|.|!|,]', r'', text)\n",
    "        # print(text)\n",
    "\n",
    "        # next_text = nlp_text[index + 1]\n",
    "        # print(\"next_text\",next_text)\n",
    "        # next_text = re.sub(r'[?|$|.|!|,]', r'', next_text)\n",
    "        # print(\"next_text\",next_text)\n",
    "        for tex in text.split():\n",
    "            # print(\"tex\",tex)\n",
    "            if tex.upper() in EDUCATION and tex not in STOPWORDS:\n",
    "                next_text = nlp_text[index + 1]\n",
    "                next_text = re.sub(r'[?|$|.|!|,]', r'', next_text)\n",
    "                cleaned_text = re.sub(r'●\\n', '', next_text)\n",
    "                print(cleaned_text)\n",
    "                # for x in range(len(nlp_text) - index):\n",
    "                #     print(x)\n",
    "                #     next_text = nlp_text[index + x]\n",
    "                #     print(\"next_text\",next_text)\n",
    "                #     years = re.findall(r'\\b\\d{4}\\b', next_text)\n",
    "                #     if years:\n",
    "                #         edu[\"years\"] = years\n",
    "                #         break\n",
    "                edu[tex] = cleaned_text\n",
    "                # edu[\"gg\"] = cleaned_text\n",
    "    print(edu)\n",
    "\n",
    "    # Extract year\n",
    "    education = []\n",
    "    # for key in edu.keys():\n",
    "    #     year = re.search(r'(\\b(?:20|19)\\d{2}\\b)', edu[key])\n",
    "    #     if year:\n",
    "    #         education.append((key, year.group(0)))\n",
    "    #     else:\n",
    "    #         education.append(key)\n",
    "    return education,edu"
   ]
  },
  {
   "cell_type": "code",
   "execution_count": 603,
   "metadata": {},
   "outputs": [
    {
     "name": "stdout",
     "output_type": "stream",
     "text": [
      "nlp_text [' Shehan Krishan Data Science Graduate  Contact -   0767158801  shehankrishan6@gmail.com  34/25 Kelaninadee rd,Mulleriyawa   https - //www.linkedin.com/in/shehan- krishan/  TECHNICAL SKILLS -   Programming Languages      Python Dart Javascript  Professional Profile -   A motivated and results-oriented Ml Engineer with one   year of experience in AI /ML ,Web Development, API   Development,Mobile App Development .', 'Possesses a   strong a strong Problem Solving,Time Management   and Analytical Thinking.Adept at AI, Machine Learning,   Flutter, Python, and API development.I am a mature   team  worker and adaptable to all challenging   situations.', 'I can work well  both in a team environment   as well as using my own initiative.Seeking to leverage   my skills and experience to contribute effectively to   your company where my skills can shine.', 'Moreover,I   am looking for an opportunity that offers me to   develop  new skills while strengthening those I already   Mobile Application Development  possess.', 'Flutter Java  Web Development      Flutter NextJS HTML,CSS,Tailwind css   Database Handling       Oracle MySQL , MSSQL Firebase MongoDB  Skilled in        Machine Learning Data analysis ETL processing Power BI Tableau AWS  ACHIEVEMENTS -     1st Runner-Up at HackX 7.0 an Inter-University Startup Challenge organized by the Department of Industrial management, University of Kelaniya.', 'Experience -   AI /Ml Engineer - ICT Options PVT    -  02/2023 - 04/2024                 Developed  Computer Vision projects using   Python,Flutter,NextJS   Developed ML and Custom Algorithm projects   using  Python,Flutter,NextJS   Developed Web Applications using   Flutter,NextJS  Developed Mobile Applications using Flutter  Developed APIs using python FastAPI/Flask   frameworks  Data Analysis and Data Preprocessing and   Data Migrations  Developed Chat/Voice Bots using   Python,Flutter ,rasa   Junior Ml Engineer - Emuq Tech (Miami, Florida US)   -  03/2023 - 09/2023          Developed Generative Ml models using Python  Train Ml Models using Python  Developed APIs using python FastAPI/Flask   frameworks  Experience in AWS (instance,s3,sagemaker)     \\x0c     Selected for top 10 teams in Datarush 1.0 organized by DSSC of SLIIT.', 'Selected for the Top 10  teams of Intellihack 2.0  organised by IEEE of  University of Colombo.', 'SOFT SKILLS -  Quick learner Teamwork Critical Thinking Time Management Problem solving Organization Work under minimum supervision           REFERENCES -   Prof. Samantha Thelijjagoda Pro Vice-Chancellor (Research & International), Sri Lanka Institute of Information and Technology.', 'samantha.t@sliit.lk  Mr. Vishwa Priyanatha Senior Software Engineer -global  tote 0756149970  Intern Data Analyst - Dialog Axiata PLC    -  12/2021 - 09/2022          Dashboard development and optimization   using Power BI,Tableau  Developing machine learning models for   customer prediction using Python   Creation of automation scripts using SQL  Develop data pipelines using Python   Education -           B.Sc.', 'Special (Hons) – Information   Technology (Specialization – Data Science)   at Sri Lanka Institute of Information   Technology (SLIIT) Graduate.', '(2019 - 2023)  Successfully completed an Online Bootcamp   “Python and Machine learning” at SHAPEAI in   Collaboration with Google Developer Group.', '(June 6,2021)  Successful completion of Software   Development Diploma Course at Advanced   Technologies and Research Institute.', '(2018)  G.C.E (Advance Level) Exam at Sri Subuthi   National School, Battaramulla in 2017.', 'University Project  Experience -   Research  Sinhala language speech assistive bot to aid children   in managing stuttering (IEEE accepted publication)   Technologies  -  Python ,Flutter  Web Application for a housing type prediction using   classification models and Market Basket Analysis   using Association rules.', 'using classification models to predict the best   housing type according to user requirements and a   Market Basket Analysis using Association rules to  capture frequent item sets and give suggestions   accordingly.', 'Technologies  -  Python, Streamlit, Heroku,   Pandas and Scikit-learn libraries  App Deployed link -    https - //streamlitapp-heroku.herokuapp.com/  GitHub  -  https - //github.com/Krishan-  Shehan/StreamlitApp_Heroku.git     Yummy mobile application.', 'A recipe by ingredient mobile application designed to   get recipes when you enter the ingredients and   includes a number of various other features.', 'Technologies  -  Java , Firebase']\n",
      "Special (Hons) – Information   Technology (Specialization – Data Science)   at Sri Lanka Institute of Information   Technology (SLIIT) Graduate\n",
      "{'years': ['2019', '2023'], 'BSc': 'Special (Hons) – Information   Technology (Specialization – Data Science)   at Sri Lanka Institute of Information   Technology (SLIIT) Graduate'}\n",
      "years\n"
     ]
    }
   ],
   "source": [
    "education,edu = extract_education(new_text)\n",
    "print(education)"
   ]
  },
  {
   "cell_type": "code",
   "execution_count": 604,
   "metadata": {},
   "outputs": [],
   "source": [
    "EDUCATION = ['BSC', 'B.Tech', 'B.E.', 'M.Sc.', 'M.Tech', 'M.E.', 'Ph.D.']\n",
    "STOPWORDS = ['and', 'in', 'of', 'at']\n",
    "\n",
    "\n",
    "def extract_education(resume_text):\n",
    "    # nlp_text = nlp(resume_text)\n",
    "\n",
    "    # Sentence Tokenizer\n",
    "    # nlp_text = [sent.text.strip() for sent in nlp_text.sents]\n",
    "    nlp_text = nltk.sent_tokenize(resume_text)\n",
    "    # nlp_text = [sent.string.strip() for sent in nlp_text.sents]\n",
    "    print(\"nlp_text\",nlp_text)\n",
    "    \n",
    "    edu = {}\n",
    "    # Extract education degree\n",
    "    for index, text in enumerate(nlp_text[:-1]):\n",
    "        # print(text)\n",
    "        text = re.sub(r'[?|$|.|!|,]', r'', text)\n",
    "        # print(text)\n",
    "\n",
    "        # next_text = nlp_text[index + 1]\n",
    "        # print(\"next_text\",next_text)\n",
    "        # next_text = re.sub(r'[?|$|.|!|,]', r'', next_text)\n",
    "        # print(\"next_text\",next_text)\n",
    "        for tex in text.split():\n",
    "            # print(\"tex\",tex)\n",
    "            if tex.upper() in EDUCATION and tex not in STOPWORDS:\n",
    "                next_text = nlp_text[index + 1]\n",
    "                next_text = re.sub(r'[?|$|.|!|,]', r'', next_text)\n",
    "                cleaned_text = re.sub(r'●\\n', '', next_text)\n",
    "                print(cleaned_text)\n",
    "                # next_text = nlp_text[index + 2]\n",
    "                # print(\"next_text 2:\",next_text)\n",
    "                # years = re.findall(r'\\b\\d{4}\\b', next_text)\n",
    "                # print(years)\n",
    "                for x in range(len(nlp_text) - index + 1):\n",
    "                    next_text_c = nlp_text[index + x +1]\n",
    "                    years = re.findall(r'\\b\\d{4}\\b', next_text_c)\n",
    "                    if years:\n",
    "                        edu[\"years\"] = years\n",
    "                        # print(years)\n",
    "                        break\n",
    "                edu[tex] = cleaned_text\n",
    "                # edu[\"gg\"] = cleaned_text\n",
    "    print(edu)\n",
    "    return edu"
   ]
  },
  {
   "cell_type": "code",
   "execution_count": 607,
   "metadata": {},
   "outputs": [
    {
     "name": "stdout",
     "output_type": "stream",
     "text": [
      "nlp_text [' Shehan Krishan Data Science Graduate  Contact -   0767158801  shehankrishan6@gmail.com  34/25 Kelaninadee rd,Mulleriyawa   https - //www.linkedin.com/in/shehan- krishan/  TECHNICAL SKILLS -   Programming Languages      Python Dart Javascript  Professional Profile -   A motivated and results-oriented Ml Engineer with one   year of experience in AI /ML ,Web Development, API   Development,Mobile App Development .', 'Possesses a   strong a strong Problem Solving,Time Management   and Analytical Thinking.Adept at AI, Machine Learning,   Flutter, Python, and API development.I am a mature   team  worker and adaptable to all challenging   situations.', 'I can work well  both in a team environment   as well as using my own initiative.Seeking to leverage   my skills and experience to contribute effectively to   your company where my skills can shine.', 'Moreover,I   am looking for an opportunity that offers me to   develop  new skills while strengthening those I already   Mobile Application Development  possess.', 'Flutter Java  Web Development      Flutter NextJS HTML,CSS,Tailwind css   Database Handling       Oracle MySQL , MSSQL Firebase MongoDB  Skilled in        Machine Learning Data analysis ETL processing Power BI Tableau AWS  ACHIEVEMENTS -     1st Runner-Up at HackX 7.0 an Inter-University Startup Challenge organized by the Department of Industrial management, University of Kelaniya.', 'Experience -   AI /Ml Engineer - ICT Options PVT    -  02/2023 - 04/2024                 Developed  Computer Vision projects using   Python,Flutter,NextJS   Developed ML and Custom Algorithm projects   using  Python,Flutter,NextJS   Developed Web Applications using   Flutter,NextJS  Developed Mobile Applications using Flutter  Developed APIs using python FastAPI/Flask   frameworks  Data Analysis and Data Preprocessing and   Data Migrations  Developed Chat/Voice Bots using   Python,Flutter ,rasa   Junior Ml Engineer - Emuq Tech (Miami, Florida US)   -  03/2023 - 09/2023          Developed Generative Ml models using Python  Train Ml Models using Python  Developed APIs using python FastAPI/Flask   frameworks  Experience in AWS (instance,s3,sagemaker)     \\x0c     Selected for top 10 teams in Datarush 1.0 organized by DSSC of SLIIT.', 'Selected for the Top 10  teams of Intellihack 2.0  organised by IEEE of  University of Colombo.', 'SOFT SKILLS -  Quick learner Teamwork Critical Thinking Time Management Problem solving Organization Work under minimum supervision           REFERENCES -   Prof. Samantha Thelijjagoda Pro Vice-Chancellor (Research & International), Sri Lanka Institute of Information and Technology.', 'samantha.t@sliit.lk  Mr. Vishwa Priyanatha Senior Software Engineer -global  tote 0756149970  Intern Data Analyst - Dialog Axiata PLC    -  12/2021 - 09/2022          Dashboard development and optimization   using Power BI,Tableau  Developing machine learning models for   customer prediction using Python   Creation of automation scripts using SQL  Develop data pipelines using Python   Education -           B.Sc.', 'Special (Hons) – Information   Technology (Specialization – Data Science)   at Sri Lanka Institute of Information   Technology (SLIIT) Graduate.', '(2019 - 2023)  Successfully completed an Online Bootcamp   “Python and Machine learning” at SHAPEAI in   Collaboration with Google Developer Group.', '(June 6,2021)  Successful completion of Software   Development Diploma Course at Advanced   Technologies and Research Institute.', '(2018)  G.C.E (Advance Level) Exam at Sri Subuthi   National School, Battaramulla in 2017.', 'University Project  Experience -   Research  Sinhala language speech assistive bot to aid children   in managing stuttering (IEEE accepted publication)   Technologies  -  Python ,Flutter  Web Application for a housing type prediction using   classification models and Market Basket Analysis   using Association rules.', 'using classification models to predict the best   housing type according to user requirements and a   Market Basket Analysis using Association rules to  capture frequent item sets and give suggestions   accordingly.', 'Technologies  -  Python, Streamlit, Heroku,   Pandas and Scikit-learn libraries  App Deployed link -    https - //streamlitapp-heroku.herokuapp.com/  GitHub  -  https - //github.com/Krishan-  Shehan/StreamlitApp_Heroku.git     Yummy mobile application.', 'A recipe by ingredient mobile application designed to   get recipes when you enter the ingredients and   includes a number of various other features.', 'Technologies  -  Java , Firebase']\n",
      "Special (Hons) – Information   Technology (Specialization – Data Science)   at Sri Lanka Institute of Information   Technology (SLIIT) Graduate\n",
      "{'years': ['2019', '2023'], 'BSc': 'Special (Hons) – Information   Technology (Specialization – Data Science)   at Sri Lanka Institute of Information   Technology (SLIIT) Graduate'}\n",
      "years\n"
     ]
    }
   ],
   "source": [
    "edu = extract_education(new_text)\n",
    "print(education)"
   ]
  },
  {
   "cell_type": "code",
   "execution_count": 608,
   "metadata": {},
   "outputs": [
    {
     "data": {
      "text/plain": [
       "{'years': ['2019', '2023'],\n",
       " 'BSc': 'Special (Hons) – Information   Technology (Specialization – Data Science)   at Sri Lanka Institute of Information   Technology (SLIIT) Graduate'}"
      ]
     },
     "execution_count": 608,
     "metadata": {},
     "output_type": "execute_result"
    }
   ],
   "source": [
    "edu"
   ]
  },
  {
   "cell_type": "code",
   "execution_count": 609,
   "metadata": {},
   "outputs": [
    {
     "data": {
      "text/plain": [
       "' Shehan Krishan Data Science Graduate  Contact -   0767158801  shehankrishan6@gmail.com  34/25 Kelaninadee rd,Mulleriyawa   https - //www.linkedin.com/in/shehan- krishan/  TECHNICAL SKILLS -   Programming Languages      Python Dart Javascript  Professional Profile -   A motivated and results-oriented Ml Engineer with one   year of experience in AI /ML ,Web Development, API   Development,Mobile App Development . Possesses a   strong a strong Problem Solving,Time Management   and Analytical Thinking.Adept at AI, Machine Learning,   Flutter, Python, and API development.I am a mature   team  worker and adaptable to all challenging   situations. I can work well  both in a team environment   as well as using my own initiative.Seeking to leverage   my skills and experience to contribute effectively to   your company where my skills can shine. Moreover,I   am looking for an opportunity that offers me to   develop  new skills while strengthening those I already   Mobile Application Development  possess.     Flutter Java  Web Development      Flutter NextJS HTML,CSS,Tailwind css   Database Handling       Oracle MySQL , MSSQL Firebase MongoDB  Skilled in        Machine Learning Data analysis ETL processing Power BI Tableau AWS  ACHIEVEMENTS -     1st Runner-Up at HackX 7.0 an Inter-University Startup Challenge organized by the Department of Industrial management, University of Kelaniya.  Experience -   AI /Ml Engineer - ICT Options PVT    -  02/2023 - 04/2024                 Developed  Computer Vision projects using   Python,Flutter,NextJS   Developed ML and Custom Algorithm projects   using  Python,Flutter,NextJS   Developed Web Applications using   Flutter,NextJS  Developed Mobile Applications using Flutter  Developed APIs using python FastAPI/Flask   frameworks  Data Analysis and Data Preprocessing and   Data Migrations  Developed Chat/Voice Bots using   Python,Flutter ,rasa   Junior Ml Engineer - Emuq Tech (Miami, Florida US)   -  03/2023 - 09/2023          Developed Generative Ml models using Python  Train Ml Models using Python  Developed APIs using python FastAPI/Flask   frameworks  Experience in AWS (instance,s3,sagemaker)     \\x0c     Selected for top 10 teams in Datarush 1.0 organized by DSSC of SLIIT. Selected for the Top 10  teams of Intellihack 2.0  organised by IEEE of  University of Colombo.  SOFT SKILLS -  Quick learner Teamwork Critical Thinking Time Management Problem solving Organization Work under minimum supervision           REFERENCES -   Prof. Samantha Thelijjagoda Pro Vice-Chancellor (Research & International), Sri Lanka Institute of Information and Technology. samantha.t@sliit.lk  Mr. Vishwa Priyanatha Senior Software Engineer -global  tote 0756149970  Intern Data Analyst - Dialog Axiata PLC    -  12/2021 - 09/2022          Dashboard development and optimization   using Power BI,Tableau  Developing machine learning models for   customer prediction using Python   Creation of automation scripts using SQL  Develop data pipelines using Python   Education -           B.Sc. Special (Hons) – Information   Technology (Specialization – Data Science)   at Sri Lanka Institute of Information   Technology (SLIIT) Graduate. (2019 - 2023)  Successfully completed an Online Bootcamp   “Python and Machine learning” at SHAPEAI in   Collaboration with Google Developer Group.   (June 6,2021)  Successful completion of Software   Development Diploma Course at Advanced   Technologies and Research Institute. (2018)  G.C.E (Advance Level) Exam at Sri Subuthi   National School, Battaramulla in 2017.   University Project  Experience -   Research  Sinhala language speech assistive bot to aid children   in managing stuttering (IEEE accepted publication)   Technologies  -  Python ,Flutter  Web Application for a housing type prediction using   classification models and Market Basket Analysis   using Association rules.  using classification models to predict the best   housing type according to user requirements and a   Market Basket Analysis using Association rules to  capture frequent item sets and give suggestions   accordingly.        Technologies  -  Python, Streamlit, Heroku,   Pandas and Scikit-learn libraries  App Deployed link -    https - //streamlitapp-heroku.herokuapp.com/  GitHub  -  https - //github.com/Krishan-  Shehan/StreamlitApp_Heroku.git     Yummy mobile application.  A recipe by ingredient mobile application designed to   get recipes when you enter the ingredients and   includes a number of various other features.  Technologies  -  Java , Firebase  \\x0c'"
      ]
     },
     "execution_count": 609,
     "metadata": {},
     "output_type": "execute_result"
    }
   ],
   "source": [
    "new_text"
   ]
  },
  {
   "cell_type": "code",
   "execution_count": 376,
   "metadata": {},
   "outputs": [
    {
     "name": "stdout",
     "output_type": "stream",
     "text": [
      "\n",
      "--------------------------------------------------\n",
      "AI /Ml Engineer - ICT Options PVT\n",
      "--------------------------------------------------\n",
      "\n",
      "--------------------------------------------------\n",
      "Research\n",
      "--------------------------------------------------\n"
     ]
    }
   ],
   "source": [
    "# Using regular expressions to extract work experience\n",
    "experience = re.findall(r'(?s)(?<=Experience:)(.*?)(?=\\n\\n)', text)\n",
    "\n",
    "for exp in experience:\n",
    "    print(exp.strip())\n",
    "    print(\"-\" * 50)"
   ]
  },
  {
   "cell_type": "code",
   "execution_count": 375,
   "metadata": {},
   "outputs": [
    {
     "data": {
      "text/plain": [
       "' Shehan Krishan\\nData Science Graduate\\n\\nContact:\\n\\n0767158801\\n\\nshehankrishan6@gmail.com\\n\\n34/25 Kelaninadee rd,Mulleriyawa \\n\\nhttps://www.linkedin.com/in/shehan-\\nkrishan/\\n\\nTECHNICAL SKILLS:\\n\\nProgramming Languages\\n\\n●\\n●\\n●\\n\\nPython\\nDart\\nJavascript\\n\\nProfessional Profile:\\n\\nA motivated and results-oriented Ml Engineer with one \\n\\nyear of experience in AI /ML ,Web Development, API \\n\\nDevelopment,Mobile App Development . Possesses a \\n\\nstrong a strong Problem Solving,Time Management \\n\\nand Analytical Thinking.Adept at AI, Machine Learning, \\n\\nFlutter, Python, and API development.I am a mature \\n\\nteam  worker and adaptable to all challenging \\n\\nsituations. I can work well  both in a team environment \\n\\nas well as using my own initiative.Seeking to leverage \\n\\nmy skills and experience to contribute effectively to \\n\\nyour company where my skills can shine. Moreover,I \\n\\nam looking for an opportunity that offers me to \\n\\ndevelop  new skills while strengthening those I already \\n\\nMobile Application Development\\n\\npossess.\\n\\n●\\n●\\n\\nFlutter\\nJava\\n\\nWeb Development\\n\\n●\\n●\\n●\\n\\nFlutter\\nNextJS\\nHTML,CSS,Tailwind css \\n\\nDatabase Handling\\n\\n●\\n●\\n●\\n●\\n\\nOracle\\nMySQL , MSSQL\\nFirebase\\nMongoDB\\n\\nSkilled in\\n●\\n●\\n●\\n●\\n●\\n●\\n\\nMachine Learning\\nData analysis\\nETL processing\\nPower BI\\nTableau\\nAWS\\n\\nACHIEVEMENTS:\\n\\n●\\n\\n1st Runner-Up at HackX 7.0\\nan Inter-University Startup\\nChallenge organized by the\\nDepartment of Industrial\\nmanagement, University of\\nKelaniya.\\n\\nExperience:\\n\\nAI /Ml Engineer - ICT Options PVT\\n\\n : 02/2023 - 04/2024 \\n\\n●\\n\\n●\\n\\n●\\n\\n●\\n\\n●\\n\\n●\\n\\n●\\n\\nDeveloped  Computer Vision projects using \\n\\nPython,Flutter,NextJS \\n\\nDeveloped ML and Custom Algorithm projects \\n\\nusing  Python,Flutter,NextJS \\n\\nDeveloped Web Applications using \\n\\nFlutter,NextJS\\n\\nDeveloped Mobile Applications using Flutter\\n\\nDeveloped APIs using python FastAPI/Flask \\n\\nframeworks\\n\\nData Analysis and Data Preprocessing and \\n\\nData Migrations\\n\\nDeveloped Chat/Voice Bots using \\n\\nPython,Flutter ,rasa \\n\\nJunior Ml Engineer - Emuq Tech (Miami, Florida US)\\n : 03/2023 - 09/2023\\n\\n●\\n\\n●\\n\\n●\\n\\n●\\n\\nDeveloped Generative Ml models using Python\\n\\nTrain Ml Models using Python\\n\\nDeveloped APIs using python FastAPI/Flask \\n\\nframeworks\\n\\nExperience in AWS (instance,s3,sagemaker)   \\n\\n\\x0c ●\\n\\n●\\n\\nSelected for top 10 teams in\\nDatarush 1.0 organized by\\nDSSC of SLIIT.\\nSelected for the Top 10 \\nteams of Intellihack 2.0 \\norganised by IEEE of \\nUniversity of Colombo.\\n\\nSOFT SKILLS:\\nQuick learner\\nTeamwork\\nCritical Thinking\\nTime Management\\nProblem solving\\nOrganization\\nWork under minimum\\nsupervision\\n\\n●\\n●\\n●\\n●\\n●\\n●\\n●\\n●\\n\\nREFERENCES:\\n\\nProf. Samantha Thelijjagoda\\nPro Vice-Chancellor (Research &\\nInternational),\\nSri Lanka Institute of Information and\\nTechnology.\\nsamantha.t@sliit.lk\\n\\nMr. Vishwa Priyanatha\\nSenior Software Engineer -global \\ntote\\n0756149970\\n\\nIntern Data Analyst - Dialog Axiata PLC\\n\\n : 12/2021 - 09/2022\\n\\n●\\n\\n●\\n\\n●\\n\\n●\\n\\nDashboard development and optimization \\n\\nusing Power BI,Tableau\\n\\nDeveloping machine learning models for \\n\\ncustomer prediction using Python \\n\\nCreation of automation scripts using SQL\\n\\nDevelop data pipelines using Python \\n\\nEducation:\\n\\n●\\n\\n●\\n\\n●\\n\\n●\\n\\nB.Sc. Special (Hons) – Information \\n\\nTechnology (Specialization – Data Science) \\n\\nat Sri Lanka Institute of Information \\n\\nTechnology (SLIIT) Graduate. (2019 - 2023)\\n\\nSuccessfully completed an Online Bootcamp \\n\\n“Python and Machine learning” at SHAPEAI in \\n\\nCollaboration with Google Developer Group. \\n\\n(June 6,2021)\\n\\nSuccessful completion of Software \\n\\nDevelopment Diploma Course at Advanced \\n\\nTechnologies and Research Institute. (2018)\\n\\nG.C.E (Advance Level) Exam at Sri Subuthi \\n\\nNational School, Battaramulla in 2017. \\n\\nUniversity Project  Experience:\\n\\nResearch\\n\\nSinhala language speech assistive bot to aid children \\n\\nin managing stuttering (IEEE accepted publication) \\n\\nTechnologies : Python ,Flutter\\n\\nWeb Application for a housing type prediction using \\n\\nclassification models and Market Basket Analysis \\n\\nusing Association rules.\\n\\nusing classification models to predict the best \\n\\nhousing type according to user requirements and a \\n\\nMarket Basket Analysis using Association rules to\\n\\ncapture frequent item sets and give suggestions \\n\\naccordingly.\\n\\n●\\n\\n●\\n\\n●\\n\\nTechnologies : Python, Streamlit, Heroku, \\n\\nPandas and Scikit-learn libraries\\n\\nApp Deployed link: \\n\\nhttps://streamlitapp-heroku.herokuapp.com/\\n\\nGitHub : https://github.com/Krishan-\\n\\nShehan/StreamlitApp_Heroku.git   \\n\\nYummy mobile application.\\n\\nA recipe by ingredient mobile application designed to \\n\\nget recipes when you enter the ingredients and \\n\\nincludes a number of various other features.\\n\\nTechnologies : Java , Firebase\\n\\n\\x0c'"
      ]
     },
     "execution_count": 375,
     "metadata": {},
     "output_type": "execute_result"
    }
   ],
   "source": [
    "text"
   ]
  },
  {
   "cell_type": "code",
   "execution_count": 377,
   "metadata": {},
   "outputs": [
    {
     "name": "stdout",
     "output_type": "stream",
     "text": [
      "Job Role: Ml Engineer\n",
      "Company: ICT Options PVT\n",
      "\n",
      "Responsibilities: 02/2023 - 04/2024\n",
      "--------------------------------------------------\n",
      "Job Role: Data Analyst\n",
      "Company: Dialog Axiata PLC\n",
      "\n",
      "Responsibilities: 12/2021 - 09/2022\n",
      "--------------------------------------------------\n"
     ]
    }
   ],
   "source": [
    "# Using regular expressions to extract job roles and corresponding sentences\n",
    "job_roles = re.findall(r'([A-Z][a-z]+ [A-Z][a-z]+) - ([\\w\\s,]+)\\n\\s*:\\s*([\\w\\s,/.()-]+)\\n', text)\n",
    "\n",
    "for role, company, responsibilities in job_roles:\n",
    "    print(\"Job Role:\", role)\n",
    "    print(\"Company:\", company)\n",
    "    print(\"Responsibilities:\", responsibilities.strip())\n",
    "    print(\"-\" * 50)"
   ]
  },
  {
   "cell_type": "code",
   "execution_count": 430,
   "metadata": {},
   "outputs": [],
   "source": [
    "text = \"\"\n",
    "for page in extract_text_from_pdf(\"Curriculum Vitae -Shehan Krishan.pdf\"):\n",
    "    text += ' ' + page"
   ]
  },
  {
   "cell_type": "code",
   "execution_count": 413,
   "metadata": {},
   "outputs": [],
   "source": [
    "# job_roles = re.findall(r'([A-Z][a-z]+ [A-Z][a-z]+) - ([\\w\\s,]+)\\n\\s*:\\s*([\\w\\s,/.()-]+)\\n', text)\n",
    "job_roles = re.findall(r'([A-Z][a-z]+ [A-Z][a-z]+) - ([\\w\\s,()]+)\\n\\s*:\\s*([\\w\\s,/.()-]+)\\n', text)\n",
    "\n",
    "for role, company, responsibilities in job_roles:\n",
    "    print(\"Job Role:\", role)\n",
    "    print(\"Company:\", company)\n",
    "    print(\"Responsibilities:\", responsibilities.strip())\n",
    "    print(\"-\" * 50)"
   ]
  },
  {
   "cell_type": "code",
   "execution_count": 431,
   "metadata": {},
   "outputs": [
    {
     "data": {
      "text/plain": [
       "' Shehan Krishan\\nData Science Graduate\\n\\nContact:\\n\\n0767158801\\n\\nshehankrishan6@gmail.com\\n\\n34/25 Kelaninadee rd,Mulleriyawa \\n\\nhttps://www.linkedin.com/in/shehan-\\nkrishan/\\n\\nTECHNICAL SKILLS:\\n\\nProgramming Languages\\n\\n●\\n●\\n●\\n\\nPython\\nDart\\nJavascript\\n\\nProfessional Profile:\\n\\nA motivated and results-oriented Ml Engineer with one \\n\\nyear of experience in AI /ML ,Web Development, API \\n\\nDevelopment,Mobile App Development . Possesses a \\n\\nstrong a strong Problem Solving,Time Management \\n\\nand Analytical Thinking.Adept at AI, Machine Learning, \\n\\nFlutter, Python, and API development.I am a mature \\n\\nteam  worker and adaptable to all challenging \\n\\nsituations. I can work well  both in a team environment \\n\\nas well as using my own initiative.Seeking to leverage \\n\\nmy skills and experience to contribute effectively to \\n\\nyour company where my skills can shine. Moreover,I \\n\\nam looking for an opportunity that offers me to \\n\\ndevelop  new skills while strengthening those I already \\n\\nMobile Application Development\\n\\npossess.\\n\\n●\\n●\\n\\nFlutter\\nJava\\n\\nWeb Development\\n\\n●\\n●\\n●\\n\\nFlutter\\nNextJS\\nHTML,CSS,Tailwind css \\n\\nDatabase Handling\\n\\n●\\n●\\n●\\n●\\n\\nOracle\\nMySQL , MSSQL\\nFirebase\\nMongoDB\\n\\nSkilled in\\n●\\n●\\n●\\n●\\n●\\n●\\n\\nMachine Learning\\nData analysis\\nETL processing\\nPower BI\\nTableau\\nAWS\\n\\nACHIEVEMENTS:\\n\\n●\\n\\n1st Runner-Up at HackX 7.0\\nan Inter-University Startup\\nChallenge organized by the\\nDepartment of Industrial\\nmanagement, University of\\nKelaniya.\\n\\nExperience:\\n\\nAI /Ml Engineer - ICT Options PVT\\n\\n : 02/2023 - 04/2024 \\n\\n●\\n\\n●\\n\\n●\\n\\n●\\n\\n●\\n\\n●\\n\\n●\\n\\nDeveloped  Computer Vision projects using \\n\\nPython,Flutter,NextJS \\n\\nDeveloped ML and Custom Algorithm projects \\n\\nusing  Python,Flutter,NextJS \\n\\nDeveloped Web Applications using \\n\\nFlutter,NextJS\\n\\nDeveloped Mobile Applications using Flutter\\n\\nDeveloped APIs using python FastAPI/Flask \\n\\nframeworks\\n\\nData Analysis and Data Preprocessing and \\n\\nData Migrations\\n\\nDeveloped Chat/Voice Bots using \\n\\nPython,Flutter ,rasa \\n\\nJunior Ml Engineer - Emuq Tech (Miami, Florida US)\\n : 03/2023 - 09/2023\\n\\n●\\n\\n●\\n\\n●\\n\\n●\\n\\nDeveloped Generative Ml models using Python\\n\\nTrain Ml Models using Python\\n\\nDeveloped APIs using python FastAPI/Flask \\n\\nframeworks\\n\\nExperience in AWS (instance,s3,sagemaker)   \\n\\n\\x0c ●\\n\\n●\\n\\nSelected for top 10 teams in\\nDatarush 1.0 organized by\\nDSSC of SLIIT.\\nSelected for the Top 10 \\nteams of Intellihack 2.0 \\norganised by IEEE of \\nUniversity of Colombo.\\n\\nSOFT SKILLS:\\nQuick learner\\nTeamwork\\nCritical Thinking\\nTime Management\\nProblem solving\\nOrganization\\nWork under minimum\\nsupervision\\n\\n●\\n●\\n●\\n●\\n●\\n●\\n●\\n●\\n\\nREFERENCES:\\n\\nProf. Samantha Thelijjagoda\\nPro Vice-Chancellor (Research &\\nInternational),\\nSri Lanka Institute of Information and\\nTechnology.\\nsamantha.t@sliit.lk\\n\\nMr. Vishwa Priyanatha\\nSenior Software Engineer -global \\ntote\\n0756149970\\n\\nIntern Data Analyst - Dialog Axiata PLC\\n\\n : 12/2021 - 09/2022\\n\\n●\\n\\n●\\n\\n●\\n\\n●\\n\\nDashboard development and optimization \\n\\nusing Power BI,Tableau\\n\\nDeveloping machine learning models for \\n\\ncustomer prediction using Python \\n\\nCreation of automation scripts using SQL\\n\\nDevelop data pipelines using Python \\n\\nEducation:\\n\\n●\\n\\n●\\n\\n●\\n\\n●\\n\\nB.Sc. Special (Hons) – Information \\n\\nTechnology (Specialization – Data Science) \\n\\nat Sri Lanka Institute of Information \\n\\nTechnology (SLIIT) Graduate. (2019 - 2023)\\n\\nSuccessfully completed an Online Bootcamp \\n\\n“Python and Machine learning” at SHAPEAI in \\n\\nCollaboration with Google Developer Group. \\n\\n(June 6,2021)\\n\\nSuccessful completion of Software \\n\\nDevelopment Diploma Course at Advanced \\n\\nTechnologies and Research Institute. (2018)\\n\\nG.C.E (Advance Level) Exam at Sri Subuthi \\n\\nNational School, Battaramulla in 2017. \\n\\nUniversity Project  Experience:\\n\\nResearch\\n\\nSinhala language speech assistive bot to aid children \\n\\nin managing stuttering (IEEE accepted publication) \\n\\nTechnologies : Python ,Flutter\\n\\nWeb Application for a housing type prediction using \\n\\nclassification models and Market Basket Analysis \\n\\nusing Association rules.\\n\\nusing classification models to predict the best \\n\\nhousing type according to user requirements and a \\n\\nMarket Basket Analysis using Association rules to\\n\\ncapture frequent item sets and give suggestions \\n\\naccordingly.\\n\\n●\\n\\n●\\n\\n●\\n\\nTechnologies : Python, Streamlit, Heroku, \\n\\nPandas and Scikit-learn libraries\\n\\nApp Deployed link: \\n\\nhttps://streamlitapp-heroku.herokuapp.com/\\n\\nGitHub : https://github.com/Krishan-\\n\\nShehan/StreamlitApp_Heroku.git   \\n\\nYummy mobile application.\\n\\nA recipe by ingredient mobile application designed to \\n\\nget recipes when you enter the ingredients and \\n\\nincludes a number of various other features.\\n\\nTechnologies : Java , Firebase\\n\\n\\x0c'"
      ]
     },
     "execution_count": 431,
     "metadata": {},
     "output_type": "execute_result"
    }
   ],
   "source": [
    "text"
   ]
  },
  {
   "cell_type": "code",
   "execution_count": 432,
   "metadata": {},
   "outputs": [
    {
     "data": {
      "text/plain": [
       "[' Shehan Krishan',\n",
       " 'Data Science Graduate',\n",
       " '',\n",
       " 'Contact:',\n",
       " '',\n",
       " '0767158801',\n",
       " '',\n",
       " 'shehankrishan6@gmail.com',\n",
       " '',\n",
       " '34/25 Kelaninadee rd,Mulleriyawa ',\n",
       " '',\n",
       " 'https://www.linkedin.com/in/shehan-',\n",
       " 'krishan/',\n",
       " '',\n",
       " 'TECHNICAL SKILLS:',\n",
       " '',\n",
       " 'Programming Languages',\n",
       " '',\n",
       " '●',\n",
       " '●',\n",
       " '●',\n",
       " '',\n",
       " 'Python',\n",
       " 'Dart',\n",
       " 'Javascript',\n",
       " '',\n",
       " 'Professional Profile:',\n",
       " '',\n",
       " 'A motivated and results-oriented Ml Engineer with one ',\n",
       " '',\n",
       " 'year of experience in AI /ML ,Web Development, API ',\n",
       " '',\n",
       " 'Development,Mobile App Development . Possesses a ',\n",
       " '',\n",
       " 'strong a strong Problem Solving,Time Management ',\n",
       " '',\n",
       " 'and Analytical Thinking.Adept at AI, Machine Learning, ',\n",
       " '',\n",
       " 'Flutter, Python, and API development.I am a mature ',\n",
       " '',\n",
       " 'team  worker and adaptable to all challenging ',\n",
       " '',\n",
       " 'situations. I can work well  both in a team environment ',\n",
       " '',\n",
       " 'as well as using my own initiative.Seeking to leverage ',\n",
       " '',\n",
       " 'my skills and experience to contribute effectively to ',\n",
       " '',\n",
       " 'your company where my skills can shine. Moreover,I ',\n",
       " '',\n",
       " 'am looking for an opportunity that offers me to ',\n",
       " '',\n",
       " 'develop  new skills while strengthening those I already ',\n",
       " '',\n",
       " 'Mobile Application Development',\n",
       " '',\n",
       " 'possess.',\n",
       " '',\n",
       " '●',\n",
       " '●',\n",
       " '',\n",
       " 'Flutter',\n",
       " 'Java',\n",
       " '',\n",
       " 'Web Development',\n",
       " '',\n",
       " '●',\n",
       " '●',\n",
       " '●',\n",
       " '',\n",
       " 'Flutter',\n",
       " 'NextJS',\n",
       " 'HTML,CSS,Tailwind css ',\n",
       " '',\n",
       " 'Database Handling',\n",
       " '',\n",
       " '●',\n",
       " '●',\n",
       " '●',\n",
       " '●',\n",
       " '',\n",
       " 'Oracle',\n",
       " 'MySQL , MSSQL',\n",
       " 'Firebase',\n",
       " 'MongoDB',\n",
       " '',\n",
       " 'Skilled in',\n",
       " '●',\n",
       " '●',\n",
       " '●',\n",
       " '●',\n",
       " '●',\n",
       " '●',\n",
       " '',\n",
       " 'Machine Learning',\n",
       " 'Data analysis',\n",
       " 'ETL processing',\n",
       " 'Power BI',\n",
       " 'Tableau',\n",
       " 'AWS',\n",
       " '',\n",
       " 'ACHIEVEMENTS:',\n",
       " '',\n",
       " '●',\n",
       " '',\n",
       " '1st Runner-Up at HackX 7.0',\n",
       " 'an Inter-University Startup',\n",
       " 'Challenge organized by the',\n",
       " 'Department of Industrial',\n",
       " 'management, University of',\n",
       " 'Kelaniya.',\n",
       " '',\n",
       " 'Experience:',\n",
       " '',\n",
       " 'AI /Ml Engineer - ICT Options PVT',\n",
       " '',\n",
       " ' : 02/2023 - 04/2024 ',\n",
       " '',\n",
       " '●',\n",
       " '',\n",
       " '●',\n",
       " '',\n",
       " '●',\n",
       " '',\n",
       " '●',\n",
       " '',\n",
       " '●',\n",
       " '',\n",
       " '●',\n",
       " '',\n",
       " '●',\n",
       " '',\n",
       " 'Developed  Computer Vision projects using ',\n",
       " '',\n",
       " 'Python,Flutter,NextJS ',\n",
       " '',\n",
       " 'Developed ML and Custom Algorithm projects ',\n",
       " '',\n",
       " 'using  Python,Flutter,NextJS ',\n",
       " '',\n",
       " 'Developed Web Applications using ',\n",
       " '',\n",
       " 'Flutter,NextJS',\n",
       " '',\n",
       " 'Developed Mobile Applications using Flutter',\n",
       " '',\n",
       " 'Developed APIs using python FastAPI/Flask ',\n",
       " '',\n",
       " 'frameworks',\n",
       " '',\n",
       " 'Data Analysis and Data Preprocessing and ',\n",
       " '',\n",
       " 'Data Migrations',\n",
       " '',\n",
       " 'Developed Chat/Voice Bots using ',\n",
       " '',\n",
       " 'Python,Flutter ,rasa ',\n",
       " '',\n",
       " 'Junior Ml Engineer - Emuq Tech (Miami, Florida US)',\n",
       " ' : 03/2023 - 09/2023',\n",
       " '',\n",
       " '●',\n",
       " '',\n",
       " '●',\n",
       " '',\n",
       " '●',\n",
       " '',\n",
       " '●',\n",
       " '',\n",
       " 'Developed Generative Ml models using Python',\n",
       " '',\n",
       " 'Train Ml Models using Python',\n",
       " '',\n",
       " 'Developed APIs using python FastAPI/Flask ',\n",
       " '',\n",
       " 'frameworks',\n",
       " '',\n",
       " 'Experience in AWS (instance,s3,sagemaker)   ',\n",
       " '',\n",
       " '\\x0c ●',\n",
       " '',\n",
       " '●',\n",
       " '',\n",
       " 'Selected for top 10 teams in',\n",
       " 'Datarush 1.0 organized by',\n",
       " 'DSSC of SLIIT.',\n",
       " 'Selected for the Top 10 ',\n",
       " 'teams of Intellihack 2.0 ',\n",
       " 'organised by IEEE of ',\n",
       " 'University of Colombo.',\n",
       " '',\n",
       " 'SOFT SKILLS:',\n",
       " 'Quick learner',\n",
       " 'Teamwork',\n",
       " 'Critical Thinking',\n",
       " 'Time Management',\n",
       " 'Problem solving',\n",
       " 'Organization',\n",
       " 'Work under minimum',\n",
       " 'supervision',\n",
       " '',\n",
       " '●',\n",
       " '●',\n",
       " '●',\n",
       " '●',\n",
       " '●',\n",
       " '●',\n",
       " '●',\n",
       " '●',\n",
       " '',\n",
       " 'REFERENCES:',\n",
       " '',\n",
       " 'Prof. Samantha Thelijjagoda',\n",
       " 'Pro Vice-Chancellor (Research &',\n",
       " 'International),',\n",
       " 'Sri Lanka Institute of Information and',\n",
       " 'Technology.',\n",
       " 'samantha.t@sliit.lk',\n",
       " '',\n",
       " 'Mr. Vishwa Priyanatha',\n",
       " 'Senior Software Engineer -global ',\n",
       " 'tote',\n",
       " '0756149970',\n",
       " '',\n",
       " 'Intern Data Analyst - Dialog Axiata PLC',\n",
       " '',\n",
       " ' : 12/2021 - 09/2022',\n",
       " '',\n",
       " '●',\n",
       " '',\n",
       " '●',\n",
       " '',\n",
       " '●',\n",
       " '',\n",
       " '●',\n",
       " '',\n",
       " 'Dashboard development and optimization ',\n",
       " '',\n",
       " 'using Power BI,Tableau',\n",
       " '',\n",
       " 'Developing machine learning models for ',\n",
       " '',\n",
       " 'customer prediction using Python ',\n",
       " '',\n",
       " 'Creation of automation scripts using SQL',\n",
       " '',\n",
       " 'Develop data pipelines using Python ',\n",
       " '',\n",
       " 'Education:',\n",
       " '',\n",
       " '●',\n",
       " '',\n",
       " '●',\n",
       " '',\n",
       " '●',\n",
       " '',\n",
       " '●',\n",
       " '',\n",
       " 'B.Sc. Special (Hons) – Information ',\n",
       " '',\n",
       " 'Technology (Specialization – Data Science) ',\n",
       " '',\n",
       " 'at Sri Lanka Institute of Information ',\n",
       " '',\n",
       " 'Technology (SLIIT) Graduate. (2019 - 2023)',\n",
       " '',\n",
       " 'Successfully completed an Online Bootcamp ',\n",
       " '',\n",
       " '“Python and Machine learning” at SHAPEAI in ',\n",
       " '',\n",
       " 'Collaboration with Google Developer Group. ',\n",
       " '',\n",
       " '(June 6,2021)',\n",
       " '',\n",
       " 'Successful completion of Software ',\n",
       " '',\n",
       " 'Development Diploma Course at Advanced ',\n",
       " '',\n",
       " 'Technologies and Research Institute. (2018)',\n",
       " '',\n",
       " 'G.C.E (Advance Level) Exam at Sri Subuthi ',\n",
       " '',\n",
       " 'National School, Battaramulla in 2017. ',\n",
       " '',\n",
       " 'University Project  Experience:',\n",
       " '',\n",
       " 'Research',\n",
       " '',\n",
       " 'Sinhala language speech assistive bot to aid children ',\n",
       " '',\n",
       " 'in managing stuttering (IEEE accepted publication) ',\n",
       " '',\n",
       " 'Technologies : Python ,Flutter',\n",
       " '',\n",
       " 'Web Application for a housing type prediction using ',\n",
       " '',\n",
       " 'classification models and Market Basket Analysis ',\n",
       " '',\n",
       " 'using Association rules.',\n",
       " '',\n",
       " 'using classification models to predict the best ',\n",
       " '',\n",
       " 'housing type according to user requirements and a ',\n",
       " '',\n",
       " 'Market Basket Analysis using Association rules to',\n",
       " '',\n",
       " 'capture frequent item sets and give suggestions ',\n",
       " '',\n",
       " 'accordingly.',\n",
       " '',\n",
       " '●',\n",
       " '',\n",
       " '●',\n",
       " '',\n",
       " '●',\n",
       " '',\n",
       " 'Technologies : Python, Streamlit, Heroku, ',\n",
       " '',\n",
       " 'Pandas and Scikit-learn libraries',\n",
       " '',\n",
       " 'App Deployed link: ',\n",
       " '',\n",
       " 'https://streamlitapp-heroku.herokuapp.com/',\n",
       " '',\n",
       " 'GitHub : https://github.com/Krishan-',\n",
       " '',\n",
       " 'Shehan/StreamlitApp_Heroku.git   ',\n",
       " '',\n",
       " 'Yummy mobile application.',\n",
       " '',\n",
       " 'A recipe by ingredient mobile application designed to ',\n",
       " '',\n",
       " 'get recipes when you enter the ingredients and ',\n",
       " '',\n",
       " 'includes a number of various other features.',\n",
       " '',\n",
       " 'Technologies : Java , Firebase',\n",
       " '',\n",
       " '\\x0c']"
      ]
     },
     "execution_count": 432,
     "metadata": {},
     "output_type": "execute_result"
    }
   ],
   "source": [
    "lines = text.split('\\n')\n",
    "lines"
   ]
  },
  {
   "cell_type": "code",
   "execution_count": 436,
   "metadata": {},
   "outputs": [
    {
     "data": {
      "text/plain": [
       "112"
      ]
     },
     "execution_count": 436,
     "metadata": {},
     "output_type": "execute_result"
    }
   ],
   "source": [
    "# Experience:\n",
    "experience_index = lines.index('Experience:')\n",
    "experience_index"
   ]
  },
  {
   "cell_type": "code",
   "execution_count": 466,
   "metadata": {},
   "outputs": [],
   "source": [
    "def get_number_of_pages(file_name):\n",
    "    try:\n",
    "        if isinstance(file_name, io.BytesIO):\n",
    "            # for remote pdf file\n",
    "            count = 0\n",
    "            for page in PDFPage.get_pages(\n",
    "                        file_name,\n",
    "                        caching=True,\n",
    "                        check_extractable=True\n",
    "            ):\n",
    "                count += 1\n",
    "            return count\n",
    "        else:\n",
    "            # for local pdf file\n",
    "            if file_name.endswith('.pdf'):\n",
    "                count = 0\n",
    "                with open(file_name, 'rb') as fh:\n",
    "                    for page in PDFPage.get_pages(\n",
    "                            fh,\n",
    "                            caching=True,\n",
    "                            check_extractable=True\n",
    "                    ):\n",
    "                        count += 1\n",
    "                return count\n",
    "            else:\n",
    "                return None\n",
    "    except PDFSyntaxError:\n",
    "        return None"
   ]
  },
  {
   "cell_type": "code",
   "execution_count": 467,
   "metadata": {},
   "outputs": [
    {
     "data": {
      "text/plain": [
       "2"
      ]
     },
     "execution_count": 467,
     "metadata": {},
     "output_type": "execute_result"
    }
   ],
   "source": [
    "get_number_of_pages(\"Shehan_Krishan_CV (1).pdf\")"
   ]
  },
  {
   "cell_type": "code",
   "execution_count": 475,
   "metadata": {},
   "outputs": [],
   "source": [
    "def extract_text_from_pdf(pdf_path,mxpage):\n",
    "    with open(pdf_path, 'rb') as fh:\n",
    "        # iterate over all pages of PDF document\n",
    "        for page in PDFPage.get_pages(fh, caching=True, check_extractable=True,maxpages=mxpage):\n",
    "            # creating a resoure manager\n",
    "            resource_manager = PDFResourceManager()\n",
    "            \n",
    "            # create a file handle\n",
    "            fake_file_handle = io.StringIO()\n",
    "            \n",
    "            # creating a text converter object\n",
    "            converter = TextConverter(\n",
    "                                resource_manager, \n",
    "                                fake_file_handle, \n",
    "                                codec='utf-8', \n",
    "                                laparams=LAParams()\n",
    "                        )\n",
    "\n",
    "            # creating a page interpreter\n",
    "            page_interpreter = PDFPageInterpreter(\n",
    "                                resource_manager, \n",
    "                                converter\n",
    "                            )\n",
    "\n",
    "            # process current page\n",
    "            page_interpreter.process_page(page)\n",
    "            \n",
    "            # extract text\n",
    "            text = fake_file_handle.getvalue()\n",
    "            yield text\n",
    "\n",
    "            # close open handles\n",
    "            converter.close()\n",
    "            fake_file_handle.close()"
   ]
  },
  {
   "cell_type": "code",
   "execution_count": 476,
   "metadata": {},
   "outputs": [],
   "source": [
    "def extract_text(file_path, extension,mxpage):\n",
    "    text_pdf = ''\n",
    "    if extension == '.pdf':\n",
    "        for page in extract_text_from_pdf(file_path,mxpage):\n",
    "            text_pdf += ' ' + page\n",
    "    return text_pdf"
   ]
  },
  {
   "cell_type": "code",
   "execution_count": 499,
   "metadata": {},
   "outputs": [],
   "source": [
    "text_pdf = extract_text(\"Curriculum Vitae -Shehan Krishan.pdf\",'.pdf',1)"
   ]
  },
  {
   "cell_type": "code",
   "execution_count": 493,
   "metadata": {},
   "outputs": [],
   "source": [
    "lines = text_pdf.split('\\n')"
   ]
  },
  {
   "cell_type": "code",
   "execution_count": 494,
   "metadata": {},
   "outputs": [
    {
     "data": {
      "text/plain": [
       "1"
      ]
     },
     "execution_count": 494,
     "metadata": {},
     "output_type": "execute_result"
    }
   ],
   "source": [
    "len(lines)"
   ]
  },
  {
   "cell_type": "code",
   "execution_count": 495,
   "metadata": {},
   "outputs": [
    {
     "data": {
      "text/plain": [
       "[' \\x0c']"
      ]
     },
     "execution_count": 495,
     "metadata": {},
     "output_type": "execute_result"
    }
   ],
   "source": [
    "lines"
   ]
  },
  {
   "cell_type": "code",
   "execution_count": null,
   "metadata": {},
   "outputs": [],
   "source": []
  },
  {
   "cell_type": "code",
   "execution_count": 491,
   "metadata": {},
   "outputs": [
    {
     "name": "stdout",
     "output_type": "stream",
     "text": [
      " : 02/2023 - 04/2024 \n",
      " : 03/2023 - 09/2023\n",
      "181\n",
      "AI /Ml Engineer - ICT Options PVT\n",
      "('AI /Ml Engineer - ICT Options PVT', ' : 02/2023 - 04/2024 ')\n",
      "Junior Ml Engineer - Emuq Tech (Miami, Florida US)\n",
      "('Junior Ml Engineer - Emuq Tech (Miami, Florida US)', ' : 03/2023 - 09/2023')\n"
     ]
    }
   ],
   "source": [
    "# Splitting the text by new lines\n",
    "lines = text.split('\\n')\n",
    "\n",
    "# Finding the index of 'Experience' in the text\n",
    "experience_index = lines.index('Experience:')\n",
    "\n",
    "# Iterating over the lines after 'Experience' to extract job roles, companies, and responsibilities\n",
    "job_roles = []\n",
    "# for line in lines[experience_index + 1:]:\n",
    "for idx, line in enumerate(lines[experience_index + 1:]):\n",
    "    if 180 < experience_index + idx :\n",
    "        print(experience_index+idx)\n",
    "        break\n",
    "    # print(idx)\n",
    "    # Checking if the line contains a job role (Engineer, Manager, Intern, etc.)\n",
    "    if any(role in line.lower() for role in ['engineer', 'manager', 'intern']):\n",
    "        for _,y in enumerate(lines[experience_index + idx + 2:]):\n",
    "            # next_text_c = nlp_text[y]\n",
    "            # print(next_text_c)\n",
    "            years = re.findall(r'\\b\\d{4}\\b', y)\n",
    "            if years:\n",
    "                print(y)\n",
    "                break\n",
    "            \n",
    "        # Appending the job role, company, and responsibilities to the list\n",
    "        job_roles.append(line.strip())\n",
    "        job_roles.append((line.strip(), y))\n",
    "    \n",
    "# Printing the extracted job roles, companies, and responsibilities\n",
    "for job in job_roles:\n",
    "    print(job)"
   ]
  },
  {
   "cell_type": "code",
   "execution_count": 438,
   "metadata": {},
   "outputs": [
    {
     "name": "stdout",
     "output_type": "stream",
     "text": [
      "Job Role: ['Junior Ml Engineer', 'Emuq Tech (Miami, Florida US)']\n",
      "Company: None\n",
      "Dates: None\n",
      "Responsibilities: : 02/2023 - 04/2024 ● ● ● ● ● ● ● Developed  Computer Vision projects using Python,Flutter,NextJS Developed ML and Custom Algorithm projects using  Python,Flutter,NextJS Developed Web Applications using Flutter,NextJS Developed Mobile Applications using Flutter Developed APIs using python FastAPI/Flask frameworks Data Analysis and Data Preprocessing and Data Migrations Developed Chat/Voice Bots using Python,Flutter ,rasa : 03/2023 - 09/2023 ● ● ● ● Developed Generative Ml models using Python Train Ml Models using Python Developed APIs using python FastAPI/Flask frameworks\n",
      "--------------------------------------------------\n",
      "Job Role: ['Intern Data Analyst', 'Dialog Axiata PLC']\n",
      "Company: None\n",
      "Dates: Technology (Specialization – Data Science)\n",
      "Responsibilities: ● ● Selected for top 10 teams in Datarush 1.0 organized by DSSC of SLIIT. Selected for the Top 10 teams of Intellihack 2.0 organised by IEEE of University of Colombo. SOFT SKILLS: Quick learner Teamwork Critical Thinking Time Management Problem solving Organization Work under minimum supervision ● ● ● ● ● ● ● ● REFERENCES: Prof. Samantha Thelijjagoda Pro Vice-Chancellor (Research & Sri Lanka Institute of Information and Technology. samantha.t@sliit.lk Mr. Vishwa Priyanatha tote 0756149970 : 12/2021 - 09/2022 ● ● ● ● Dashboard development and optimization using Power BI,Tableau Developing machine learning models for customer prediction using Python Creation of automation scripts using SQL Develop data pipelines using Python Education: ● ● ● ● at Sri Lanka Institute of Information Technology (SLIIT) Graduate. (2019 - 2023) Successfully completed an Online Bootcamp “Python and Machine learning” at SHAPEAI in Collaboration with Google Developer Group. (June 6,2021) Successful completion of Software Development Diploma Course at Advanced Technologies and Research Institute. (2018) G.C.E (Advance Level) Exam at Sri Subuthi National School, Battaramulla in 2017.\n",
      "--------------------------------------------------\n",
      "Job Role: None\n",
      "Company: None\n",
      "Dates: None\n",
      "Responsibilities: Research Sinhala language speech assistive bot to aid children in managing stuttering (IEEE accepted publication) Technologies : Python ,Flutter Web Application for a housing type prediction using classification models and Market Basket Analysis using Association rules. using classification models to predict the best housing type according to user requirements and a Market Basket Analysis using Association rules to capture frequent item sets and give suggestions accordingly. ● ● ● Technologies : Python, Streamlit, Heroku, Pandas and Scikit-learn libraries App Deployed link: https://streamlitapp-heroku.herokuapp.com/ GitHub : https://github.com/Krishan- Shehan/StreamlitApp_Heroku.git Yummy mobile application. A recipe by ingredient mobile application designed to get recipes when you enter the ingredients and includes a number of various other features. Technologies : Java , Firebase\n",
      "--------------------------------------------------\n"
     ]
    }
   ],
   "source": [
    "# Splitting the text by new lines\n",
    "lines = text.split('\\n')\n",
    "\n",
    "# Finding the index of 'Experience' in the text\n",
    "experience_index = lines.index('Experience:')\n",
    "\n",
    "# Iterating over the lines after 'Experience' to extract job roles, companies, responsibilities, and dates\n",
    "job_roles = []\n",
    "current_job = {}\n",
    "for line in lines[experience_index + 1:]:\n",
    "    if 'Experience' in line:\n",
    "        # If a new job is encountered, add the current one to the list and initialize a new one\n",
    "        if current_job:\n",
    "            job_roles.append(current_job)\n",
    "            current_job = {}\n",
    "    elif any(role in line.lower() for role in ['engineer', 'manager', 'intern']):\n",
    "        # Extracting job role and company\n",
    "        current_job['role']= [part.strip() for part in line.split('-')]\n",
    "    elif '–' in line:\n",
    "        # Extracting job dates\n",
    "        current_job['dates'] = line.strip()\n",
    "\n",
    "    elif line.strip() and not line.strip().startswith('•'):\n",
    "        # If a line is not starting with a bullet point, consider it as responsibility\n",
    "        if 'responsibilities' in current_job:\n",
    "            current_job['responsibilities'] += ' ' + line.strip()\n",
    "        else:\n",
    "            current_job['responsibilities'] = line.strip()\n",
    "\n",
    "# Adding the last job to the list\n",
    "if current_job:\n",
    "    job_roles.append(current_job)\n",
    "\n",
    "# Printing the extracted job roles, companies, responsibilities, and dates\n",
    "for job in job_roles:\n",
    "    print(\"Job Role:\", job.get('role'))\n",
    "    print(\"Company:\", job.get('company'))\n",
    "    print(\"Dates:\", job.get('dates'))\n",
    "    print(\"Responsibilities:\", job.get('responsibilities'))\n",
    "    print(\"-\" * 50)"
   ]
  },
  {
   "cell_type": "code",
   "execution_count": 400,
   "metadata": {},
   "outputs": [
    {
     "name": "stdout",
     "output_type": "stream",
     "text": [
      "  Prabhashwara \n",
      "Karunarathne \n",
      "\n",
      "prabhashwarabandara665@gmaill.com \n",
      "\n",
      "+94716201971 \n",
      "\n",
      "52,Viduhalpathana, Bandarawela \n",
      "\n",
      "linkedin.com/in/prabhashwara-\n",
      "karunarathne \n",
      "     N7365984 \n",
      "\n",
      "Achievements \n",
      "\n",
      "•  Gold Star Award winner in 2008 \n",
      "• \n",
      "Chess Champion of India and Sri \n",
      "Lanka in 2011 \n",
      "\n",
      "Hobbies \n",
      "\n",
      "• \n",
      "• \n",
      "• \n",
      "\n",
      "Photography \n",
      "Travel \n",
      "Listening to music \n",
      "\n",
      "Skill Highlights \n",
      "\n",
      "• \n",
      "\n",
      "• \n",
      "\n",
      "• \n",
      "• \n",
      "• \n",
      "\n",
      "Customer-focused and solutions \n",
      "driven. \n",
      "Strong decision maker \n",
      "\n",
      "Complex analytical person \n",
      "Innovative \n",
      "Excellent interpersonal and \n",
      "communication skills \n",
      "\n",
      "Summary \n",
      "I am a resolute, Organized, and Methodical individual. I am seeking a challenge \n",
      "offering  growth  and  potential  in  a  progressive  organization.  I  am  a  motivated, \n",
      "highly enthusiastic, hardworking individual who consistently strives to enhance \n",
      "my learning and personal development whenever possible. \n",
      "\n",
      "Experience \n",
      "\n",
      "Executive- Recovery Services  \n",
      "HNB Finance PLC \n",
      "(2023 October – Present) \n",
      "\n",
      "•  Manage  the  entire  process  of  letter  correspondence,  starting  from \n",
      "\n",
      "• \n",
      "\n",
      "reminder letters to agreement termination letters. \n",
      "Ensure timely dispatch and receipt of letters to customers and follow up \n",
      "accordingly. \n",
      "\n",
      "•  Maintain  records  of  all  communications  and  update  the  system  with \n",
      "\n",
      "relevant information. \n",
      "\n",
      "•  Address customer requests regarding settlement invoices promptly and \n",
      "\n",
      "• \n",
      "\n",
      "accurately. \n",
      "Provide  necessary  documentation  and  information  as  requested  by \n",
      "customers. \n",
      "Process ODI (Overdraft Interest) waive-offs through the system. \n",
      "\n",
      "• \n",
      "•  Verify  and  validate  waive-off  requests  against  company  policies  and \n",
      "\n",
      "• \n",
      "\n",
      "procedures. \n",
      "Ensure  proper  authorization  and  approvals  are  obtained  before \n",
      "processing waive-offs. \n",
      "\n",
      "•  Verify and ensure that all authority approvals are obtained for necessary \n",
      "\n",
      "• \n",
      "\n",
      "actions, such as terminations or waive-offs. \n",
      "Coordinate  the  timely  release  of  security  documents  to  relevant \n",
      "customers  upon  completion  of  the  settlement  process.  Verify  the \n",
      "authenticity  of  requests  and  ensure  that  documents  are  released \n",
      "securely and in compliance with legal and regulatory requirements. \n",
      "\n",
      "Junior Executive- Security Documentation -  \n",
      "UB Finance PLC \n",
      "(2021 April – 2023 October) \n",
      "\n",
      "•  Receiving and placing customer service telephone calls regarding loan \n",
      "\n",
      "• \n",
      "\n",
      "settlements \n",
      "Proceeding  system  settlements  throughout  the  system  entered \n",
      "information into the database.  \n",
      "\n",
      "•  Attending  all  the \n",
      "\n",
      "issues  related  to  the  settlement  process  and \n",
      "\n",
      "coordinating with branches. \n",
      "\n",
      "•  Maintaining  solid  customer  relationships  by  handling  questions  and \n",
      "\n",
      "concerns related to loan settlements with speed and professionalism. \n",
      "\n",
      "•  Maintain detailed records of settlement activities, transaction \n",
      "histories, and documentation releases. Ensure that records are \n",
      "accurate, up-to-date, and securely stored in accordance with data \n",
      "protection regulations. \n",
      "Coordinate  the  timely  release  of  security  documents  to  relevant \n",
      "customers  upon  completion  of  the  settlement  process.  Verify  the \n",
      "authenticity  of  requests  and  ensure  that  documents  are  released \n",
      "securely and in compliance with legal and regulatory requirements. \n",
      "\n",
      "• \n",
      "\n",
      " \n",
      " \n",
      " \n",
      " \n",
      " \n",
      " \n",
      " \n",
      " \n",
      " \n",
      " \n",
      "\f Education \n",
      "\n",
      "•  G.C.E Advanced Level (2017) – S.Thomas’ College – Bandarawela \n",
      "•  G.C.E Ordinary Level (2013)- S.Thomas’ College – Bandarawela \n",
      "\n",
      "Certifications \n",
      "\n",
      "College Prefect (S.Thomas’ College – Bandarawela 2015-16) \n",
      "President of College Chess Club – (2015-16) \n",
      "Secretary of College Scout Guild (2015-2016) \n",
      "Secretary of College Indoor Games Club (2015-2016) \n",
      "College Vice President of English Literary Association (2015-2016) \n",
      "College Vice Secretary of Chemistry Circle (2015-2016) \n",
      "\n",
      "• \n",
      "• \n",
      "• \n",
      "• \n",
      "• \n",
      "• \n",
      "•  Member of Buddhist Student Association (2015) \n",
      "•  Vice-captain of College Basketball Team (2015-2016) \n",
      "•  Member of College Cricket Team  \n",
      "•  Member of Athletic Club \n",
      "• \n",
      "\n",
      "Captain of De Saram House (Inter School Sportsmeet-2016) \n",
      "\n",
      "Non-Relative referees \n",
      "\n",
      "•  Mr S A Palitha Jayasooriya \n",
      "Works collins aerospace \n",
      "I-12,B/E Aerospace, \n",
      "P.O Box 293665,DFZA, \n",
      " Dubai, UAE. \n",
      "+971 50 565 8608 \n",
      "samarakkody2003@yahoo.com \n",
      "\n",
      "•  Mr.Chaiminda Weerasinghe \n",
      "\n",
      "Assistance General Manager- Recoveries, \n",
      "UB Finance PLC, \n",
      "Colombo 04. \n",
      "+9477 780 8801 \n",
      "chamindaw@ubf.lk \n",
      "\n",
      " \n",
      " \n",
      " \n",
      " \n",
      " \n",
      "\f\n"
     ]
    }
   ],
   "source": [
    "print(text)"
   ]
  },
  {
   "cell_type": "code",
   "execution_count": 572,
   "metadata": {},
   "outputs": [],
   "source": [
    "text_service_Letter = \"\"\"\n",
    "TO WHOM IT MAY CONCERN\n",
    "This is to certify that Mr T N R Peiris S/No 16132 was employed at SriLankan Airlines Limited as Customer Service Agent (Ticketing) since 05.07.2004 to 04.07.2005 on contract basis. He was absorbed in to the permanent cadre since 05.07.2005 and left the Company Service with effect from 05.07.2009.\n",
    "We thank Mr Peiris for the services rendered to the Company and wish him every success in his future endeavours.\n",
    "R.Mewhas\n",
    "RUKMANI MANOHAR\n",
    "HUMAN RESOURCES SERVICES MANAGER\n",
    "10.11.2010\n",
    "mc\n",
    "\"\"\""
   ]
  },
  {
   "cell_type": "code",
   "execution_count": 563,
   "metadata": {},
   "outputs": [],
   "source": [
    "text_service_Letter = \"\"\"\n",
    "SADISA MANAGEMENT & TECHNOLOGIES\n",
    "SADISA M&T\n",
    "B.R. No. 1998/M3 No. 5/61 138, Thalgaspedesa, Kirimatimulla, Thelijavila. \n",
    "077-8603555/071-8081809 \n",
    "sadisamanagment@gmail.com\n",
    "22nd AUGUST 2023\n",
    "\n",
    "TO WHOM IT MAY CONCERN.\n",
    "\n",
    "This is to certify that DON KODITHUWAKKU KARUNARATHNE RAVEEN SHENOL of 28/A/1, WALANA, WELIGAMA, bearer of NIC 200118200862 is employed at our organization as a 'Production Associator 'on sub-contract basis from 20th July 2021 to 30th March 2022.\n",
    "\n",
    "During this period he has been assigned to the production department of Midigama Air Tire division at Michelin Lanka (pvt) Ltd.\n",
    "\n",
    "During this period, we found him to be honest, loyal & hard working. He performed all the duties entrusted to him to the satisfaction of his superiors.\n",
    "\n",
    "He bears a good moral character & I have no hesitation in recommending him to any prospective employer who needs his service in the same field.\n",
    "\n",
    "We wish him all success in his future endeavors.\n",
    "\n",
    "This letter was issued on his request and without prejudice.\n",
    "\n",
    "Thanking you,\n",
    "\n",
    "Yours truly,\n",
    "\n",
    "Sadisa Management & Technologies\n",
    "\n",
    "N.A.G.D Krishantha\n",
    "Manager Administration\n",
    "SADISA MANAGEMENT & TECHNOLOGIES\n",
    "61/5, 13/B, Thalgaspedesa, Kirimetimulla, Thelejjavila.\n",
    "\"\"\""
   ]
  },
  {
   "cell_type": "code",
   "execution_count": 511,
   "metadata": {},
   "outputs": [],
   "source": [
    "def change_month_to_number(text):\n",
    "    month_dict = {\n",
    "        'JANUARY': '01',\n",
    "        'FEBRUARY': '02',\n",
    "        'MARCH': '03',\n",
    "        'APRIL': '04',\n",
    "        'MAY': '05',\n",
    "        'JUNE': '06',\n",
    "        'JULY': '07',\n",
    "        'AUGUST': '08',\n",
    "        'SEPTEMBER': '09',\n",
    "        'OCTOBER': '10',\n",
    "        'NOVEMBER': '11',\n",
    "        'DECEMBER': '12'\n",
    "    }\n",
    "    for month, value in month_dict.items():\n",
    "        text = re.sub(r'\\b{}\\b'.format(month), value, text.upper())\n",
    "    return text"
   ]
  },
  {
   "cell_type": "code",
   "execution_count": 573,
   "metadata": {},
   "outputs": [
    {
     "name": "stdout",
     "output_type": "stream",
     "text": [
      "\n",
      "TO WHOM IT 05 CONCERN\n",
      "THIS IS TO CERTIFY THAT MR T N R PEIRIS S/NO 16132 WAS EMPLOYED AT SRILANKAN AIRLINES LIMITED AS CUSTOMER SERVICE AGENT (TICKETING) SINCE 05.07.2004 TO 04.07.2005 ON CONTRACT BASIS. HE WAS ABSORBED IN TO THE PERMANENT CADRE SINCE 05.07.2005 AND LEFT THE COMPANY SERVICE WITH EFFECT FROM 05.07.2009.\n",
      "WE THANK MR PEIRIS FOR THE SERVICES RENDERED TO THE COMPANY AND WISH HIM EVERY SUCCESS IN HIS FUTURE ENDEAVOURS.\n",
      "R.MEWHAS\n",
      "RUKMANI MANOHAR\n",
      "HUMAN RESOURCES SERVICES MANAGER\n",
      "10.11.2010\n",
      "MC\n",
      "\n"
     ]
    }
   ],
   "source": [
    "tt = change_month_to_number(text_service_Letter)\n",
    "print(tt)"
   ]
  },
  {
   "cell_type": "code",
   "execution_count": 574,
   "metadata": {},
   "outputs": [],
   "source": [
    "tt = re.sub(r'(\\d{2})(?:ST|ND|RD|TH) (\\d{2}) (\\d{4})', r'\\1 \\2 \\3', tt)\n",
    "tt = re.sub(r'\\.', ' ', tt)"
   ]
  },
  {
   "cell_type": "code",
   "execution_count": 575,
   "metadata": {},
   "outputs": [
    {
     "name": "stdout",
     "output_type": "stream",
     "text": [
      "\n",
      "TO WHOM IT 05 CONCERN\n",
      "THIS IS TO CERTIFY THAT MR T N R PEIRIS S/NO 16132 WAS EMPLOYED AT SRILANKAN AIRLINES LIMITED AS CUSTOMER SERVICE AGENT (TICKETING) SINCE 05 07 2004 TO 04 07 2005 ON CONTRACT BASIS  HE WAS ABSORBED IN TO THE PERMANENT CADRE SINCE 05 07 2005 AND LEFT THE COMPANY SERVICE WITH EFFECT FROM 05 07 2009 \n",
      "WE THANK MR PEIRIS FOR THE SERVICES RENDERED TO THE COMPANY AND WISH HIM EVERY SUCCESS IN HIS FUTURE ENDEAVOURS \n",
      "R MEWHAS\n",
      "RUKMANI MANOHAR\n",
      "HUMAN RESOURCES SERVICES MANAGER\n",
      "10 11 2010\n",
      "MC\n",
      "\n"
     ]
    }
   ],
   "source": [
    "print(tt)"
   ]
  },
  {
   "cell_type": "code",
   "execution_count": 576,
   "metadata": {},
   "outputs": [
    {
     "name": "stdout",
     "output_type": "stream",
     "text": [
      "Date range: 05 07 2004 to 04 07 2005\n"
     ]
    }
   ],
   "source": [
    "lines = tt.split(\"\\n\")\n",
    "\n",
    "for indx, line in enumerate(lines):\n",
    "    # print(line)\n",
    "    if \" TO \" in line:\n",
    "        # dates = re.findall(r'\\b\\d{2}(?:ST|ND|RD|TH) \\d{2} \\d{4}\\b', line)\n",
    "        dates = re.findall(r'\\b\\d{2} \\d{2} \\d{4}\\b', line)\n",
    "        if dates:\n",
    "            date_indexes = [line.index(date) for date in dates]\n",
    "            to_index = line.index(\" TO \")\n",
    "            \n",
    "            for date_index in date_indexes:\n",
    "                print(\"Date range:\", dates[date_indexes.index(date_index)], \"to\", dates[date_indexes.index(date_index)+1])\n",
    "                break"
   ]
  },
  {
   "cell_type": "code",
   "execution_count": null,
   "metadata": {},
   "outputs": [],
   "source": []
  },
  {
   "cell_type": "code",
   "execution_count": null,
   "metadata": {},
   "outputs": [],
   "source": []
  },
  {
   "cell_type": "code",
   "execution_count": null,
   "metadata": {},
   "outputs": [],
   "source": []
  },
  {
   "cell_type": "code",
   "execution_count": 538,
   "metadata": {},
   "outputs": [
    {
     "name": "stdout",
     "output_type": "stream",
     "text": [
      "[]\n",
      "[]\n",
      "[]\n",
      "[]\n",
      "077-8603555/071-8081809\n",
      "SADISAMANAGMENT@GMAIL.COM\n",
      "22ND\n",
      "08\n",
      "2023\n",
      "TO\n",
      "WHOM\n",
      "IT\n",
      "05\n",
      "CONCERN.\n",
      "['TO']\n",
      "THIS\n",
      "IS\n",
      "TO\n",
      "CERTIFY\n",
      "THAT\n",
      "DON\n",
      "KODITHUWAKKU\n",
      "KARUNARATHNE\n",
      "RAVEEN\n",
      "SHENOL\n",
      "OF\n",
      "28/A/1,\n",
      "WALANA,\n",
      "WELIGAMA,\n",
      "BEARER\n",
      "OF\n",
      "NIC\n",
      "200118200862\n",
      "IS\n",
      "EMPLOYED\n",
      "AT\n",
      "OUR\n",
      "ORGANIZATION\n",
      "AS\n",
      "A\n",
      "'PRODUCTION\n",
      "ASSOCIATOR\n",
      "'ON\n",
      "SUB-CONTRACT\n",
      "BASIS\n",
      "FROM\n",
      "20TH\n",
      "07\n",
      "2021\n",
      "TO\n",
      "30TH\n",
      "03\n",
      "2022.\n",
      "['TO', 'TO', 'TO']\n",
      "DURING\n",
      "THIS\n",
      "PERIOD\n",
      "HE\n",
      "HAS\n",
      "BEEN\n",
      "ASSIGNED\n",
      "TO\n",
      "THE\n",
      "PRODUCTION\n",
      "DEPARTMENT\n",
      "OF\n",
      "MIDIGAMA\n",
      "AIR\n",
      "TIRE\n",
      "DIVISION\n",
      "AT\n",
      "MICHELIN\n",
      "LANKA\n",
      "(PVT)\n",
      "LTD.\n",
      "DURING\n",
      "THIS\n",
      "PERIOD,\n",
      "WE\n",
      "FOUND\n",
      "HIM\n",
      "TO\n",
      "BE\n",
      "HONEST,\n",
      "LOYAL\n",
      "&\n",
      "HARD\n",
      "WORKING.\n",
      "['TO', 'TO']\n",
      "HE\n",
      "PERFORMED\n",
      "ALL\n",
      "THE\n",
      "DUTIES\n",
      "ENTRUSTED\n",
      "TO\n",
      "HIM\n",
      "TO\n",
      "THE\n",
      "SATISFACTION\n",
      "OF\n",
      "HIS\n",
      "SUPERIORS.\n",
      "['TO', 'TO']\n",
      "HE\n",
      "BEARS\n",
      "A\n",
      "GOOD\n",
      "MORAL\n",
      "CHARACTER\n",
      "&\n",
      "I\n",
      "HAVE\n",
      "NO\n",
      "HESITATION\n",
      "IN\n",
      "RECOMMENDING\n",
      "HIM\n",
      "TO\n",
      "ANY\n",
      "PROSPECTIVE\n",
      "EMPLOYER\n",
      "WHO\n",
      "NEEDS\n",
      "HIS\n",
      "SERVICE\n",
      "IN\n",
      "THE\n",
      "SAME\n",
      "FIELD.\n",
      "['TO']\n",
      "[]\n",
      "[]\n",
      "[]\n"
     ]
    }
   ],
   "source": [
    "for indx,line in enumerate(fk):\n",
    "    # print(line)\n",
    "    findTo = re.findall(r'TO', line)\n",
    "    if findTo:\n",
    "        for tex in line.split():\n",
    "            print(tex)\n",
    "\n",
    "    # dates = re.findall(r'\\b\\d{2}(?:ST|ND|RD|TH) \\d{2} \\d{4}\\b', line)\n",
    "    print(findTo)"
   ]
  },
  {
   "cell_type": "code",
   "execution_count": 529,
   "metadata": {},
   "outputs": [
    {
     "data": {
      "text/plain": [
       "['\\nSADISA MANAGEMENT & TECHNOLOGIES\\nSADISA M&T\\nB.R.',\n",
       " 'NO.',\n",
       " '1998/M3 NO.',\n",
       " '5/61 138, THALGASPEDESA, KIRIMATIMULLA, THELIJAVILA.',\n",
       " '077-8603555/071-8081809 \\nSADISAMANAGMENT@GMAIL.COM\\n22ND 08 2023\\n\\nTO WHOM IT 05 CONCERN.',\n",
       " \"THIS IS TO CERTIFY THAT DON KODITHUWAKKU KARUNARATHNE RAVEEN SHENOL OF 28/A/1, WALANA, WELIGAMA, BEARER OF NIC 200118200862 IS EMPLOYED AT OUR ORGANIZATION AS A 'PRODUCTION ASSOCIATOR 'ON SUB-CONTRACT BASIS FROM 20TH 07 2021 TO 30TH 03 2022.\",\n",
       " 'DURING THIS PERIOD HE HAS BEEN ASSIGNED TO THE PRODUCTION DEPARTMENT OF MIDIGAMA AIR TIRE DIVISION AT MICHELIN LANKA (PVT) LTD.\\n\\nDURING THIS PERIOD, WE FOUND HIM TO BE HONEST, LOYAL & HARD WORKING.',\n",
       " 'HE PERFORMED ALL THE DUTIES ENTRUSTED TO HIM TO THE SATISFACTION OF HIS SUPERIORS.',\n",
       " 'HE BEARS A GOOD MORAL CHARACTER & I HAVE NO HESITATION IN RECOMMENDING HIM TO ANY PROSPECTIVE EMPLOYER WHO NEEDS HIS SERVICE IN THE SAME FIELD.',\n",
       " 'WE WISH HIM ALL SUCCESS IN HIS FUTURE ENDEAVORS.',\n",
       " 'THIS LETTER WAS ISSUED ON HIS REQUEST AND WITHOUT PREJUDICE.',\n",
       " 'THANKING YOU,\\n\\nYOURS TRULY,\\n\\nSADISA MANAGEMENT & TECHNOLOGIES\\n\\nN.A.G.D KRISHANTHA\\nMANAGER ADMINISTRATION\\nSADISA MANAGEMENT & TECHNOLOGIES\\n61/5, 13/B, THALGASPEDESA, KIRIMETIMULLA, THELEJJAVILA.']"
      ]
     },
     "execution_count": 529,
     "metadata": {},
     "output_type": "execute_result"
    }
   ],
   "source": [
    "fk"
   ]
  },
  {
   "cell_type": "code",
   "execution_count": null,
   "metadata": {},
   "outputs": [],
   "source": []
  },
  {
   "cell_type": "code",
   "execution_count": 527,
   "metadata": {},
   "outputs": [
    {
     "ename": "ValueError",
     "evalue": "substring not found",
     "output_type": "error",
     "traceback": [
      "\u001b[1;31m---------------------------------------------------------------------------\u001b[0m",
      "\u001b[1;31mValueError\u001b[0m                                Traceback (most recent call last)",
      "Cell \u001b[1;32mIn[527], line 2\u001b[0m\n\u001b[0;32m      1\u001b[0m dates \u001b[38;5;241m=\u001b[39m re\u001b[38;5;241m.\u001b[39mfindall(\u001b[38;5;124mr\u001b[39m\u001b[38;5;124m'\u001b[39m\u001b[38;5;124m\\\u001b[39m\u001b[38;5;124mb\u001b[39m\u001b[38;5;124m\\\u001b[39m\u001b[38;5;124md\u001b[39m\u001b[38;5;132;01m{2}\u001b[39;00m\u001b[38;5;124m(?:ST|ND|RD|TH) \u001b[39m\u001b[38;5;124m\\\u001b[39m\u001b[38;5;124md\u001b[39m\u001b[38;5;132;01m{2}\u001b[39;00m\u001b[38;5;124m \u001b[39m\u001b[38;5;124m\\\u001b[39m\u001b[38;5;124md\u001b[39m\u001b[38;5;132;01m{4}\u001b[39;00m\u001b[38;5;124m\\\u001b[39m\u001b[38;5;124mb\u001b[39m\u001b[38;5;124m'\u001b[39m, tt)\n\u001b[1;32m----> 2\u001b[0m to_index \u001b[38;5;241m=\u001b[39m \u001b[43mtext\u001b[49m\u001b[38;5;241;43m.\u001b[39;49m\u001b[43mindex\u001b[49m\u001b[43m(\u001b[49m\u001b[38;5;124;43m\"\u001b[39;49m\u001b[38;5;124;43m TO \u001b[39;49m\u001b[38;5;124;43m\"\u001b[39;49m\u001b[43m)\u001b[49m\n\u001b[0;32m      3\u001b[0m selected_date \u001b[38;5;241m=\u001b[39m \u001b[38;5;28;01mNone\u001b[39;00m\n\u001b[0;32m      5\u001b[0m \u001b[38;5;28;01mfor\u001b[39;00m date \u001b[38;5;129;01min\u001b[39;00m dates:\n",
      "\u001b[1;31mValueError\u001b[0m: substring not found"
     ]
    }
   ],
   "source": [
    "dates = re.findall(r'\\b\\d{2}(?:ST|ND|RD|TH) \\d{2} \\d{4}\\b', tt)\n",
    "to_index = text.index(\" TO \")\n",
    "selected_date = None\n",
    "\n",
    "for date in dates:\n",
    "    index = text.index(date)\n",
    "    if index < to_index:\n",
    "        selected_date = (date, index)\n",
    "        break\n",
    "\n",
    "print(selected_date)"
   ]
  },
  {
   "cell_type": "code",
   "execution_count": null,
   "metadata": {},
   "outputs": [],
   "source": [
    "# Regular expression pattern to match dates in the format \"ddth Month yyyy\"\n",
    "date_pattern = r'\\b(\\d{1,2}(?:st|nd|rd|th)\\s(?:January|February|March|April|May|June|July|August|September|October|November|December)\\s\\d{4})\\b'\n",
    "\n",
    "# Find all dates in the text\n",
    "dates = re.findall(date_pattern, text)\n",
    "\n",
    "# Extract start and end dates\n",
    "start_date = dates[0]\n",
    "end_date = dates[1]\n",
    "\n",
    "print(\"Start Date:\", start_date)\n",
    "print(\"End Date:\", end_date)"
   ]
  },
  {
   "cell_type": "code",
   "execution_count": null,
   "metadata": {},
   "outputs": [],
   "source": []
  },
  {
   "cell_type": "markdown",
   "metadata": {},
   "source": [
    "/ gggg"
   ]
  },
  {
   "cell_type": "code",
   "execution_count": 344,
   "metadata": {},
   "outputs": [
    {
     "data": {
      "text/plain": [
       "' Shehan Krishan Data Science Graduate  Contact -   0767158801  shehankrishan6@gmail.com  34/25 Kelaninadee rd,Mulleriyawa   https - //www.linkedin.com/in/shehan- krishan/  TECHNICAL SKILLS -   Programming Languages      Python Dart Javascript  Professional Profile -   A motivated and results-oriented Ml Engineer with one   year of experience in AI /ML ,Web Development, API   Development,Mobile App Development . Possesses a   strong a strong Problem Solving,Time Management   and Analytical Thinking.Adept at AI, Machine Learning,   Flutter, Python, and API development.I am a mature   team  worker and adaptable to all challenging   situations. I can work well  both in a team environment   as well as using my own initiative.Seeking to leverage   my skills and experience to contribute effectively to   your company where my skills can shine. Moreover,I   am looking for an opportunity that offers me to   develop  new skills while strengthening those I already   Mobile Application Development  possess.     Flutter Java  Web Development      Flutter NextJS HTML,CSS,Tailwind css   Database Handling       Oracle MySQL , MSSQL Firebase MongoDB  Skilled in        Machine Learning Data analysis ETL processing Power BI Tableau AWS  ACHIEVEMENTS -     1st Runner-Up at HackX 7.0 an Inter-University Startup Challenge organized by the Department of Industrial management, University of Kelaniya.  Experience -   AI /Ml Engineer - ICT Options PVT    -  02/2023 - 04/2024                 Developed  Computer Vision projects using   Python,Flutter,NextJS   Developed ML and Custom Algorithm projects   using  Python,Flutter,NextJS   Developed Web Applications using   Flutter,NextJS  Developed Mobile Applications using Flutter  Developed APIs using python FastAPI/Flask   frameworks  Data Analysis and Data Preprocessing and   Data Migrations  Developed Chat/Voice Bots using   Python,Flutter ,rasa   Junior Ml Engineer - Emuq Tech (Miami, Florida US)   -  03/2023 - 09/2023          Developed Generative Ml models using Python  Train Ml Models using Python  Developed APIs using python FastAPI/Flask   frameworks  Experience in AWS (instance,s3,sagemaker)     \\x0c     Selected for top 10 teams in Datarush 1.0 organized by DSSC of SLIIT. Selected for the Top 10  teams of Intellihack 2.0  organised by IEEE of  University of Colombo.  SOFT SKILLS -  Quick learner Teamwork Critical Thinking Time Management Problem solving Organization Work under minimum supervision           REFERENCES -   Prof. Samantha Thelijjagoda Pro Vice-Chancellor (Research & International), Sri Lanka Institute of Information and Technology. samantha.t@sliit.lk  Mr. Vishwa Priyanatha Senior Software Engineer -global  tote 0756149970  Intern Data Analyst - Dialog Axiata PLC    -  12/2021 - 09/2022          Dashboard development and optimization   using Power BI,Tableau  Developing machine learning models for   customer prediction using Python   Creation of automation scripts using SQL  Develop data pipelines using Python   Education -           B.Sc. Special (Hons) – Information   Technology (Specialization – Data Science)   at Sri Lanka Institute of Information   Technology (SLIIT) Graduate. (2019 - 2023)  Successfully completed an Online Bootcamp   “Python and Machine learning” at SHAPEAI in   Collaboration with Google Developer Group.   (June 6,2021)  Successful completion of Software   Development Diploma Course at Advanced   Technologies and Research Institute. (2018)  G.C.E. (Advance Level) Exam at Sri Subuthi   National School, Battaramulla in 2017.   University Project  Experience -   Research  Sinhala language speech assistive bot to aid children   in managing stuttering (IEEE accepted publication)   Technologies  -  Python ,Flutter  Web Application for a housing type prediction using   classification models and Market Basket Analysis   using Association rules.  using classification models to predict the best   housing type according to user requirements and a   Market Basket Analysis using Association rules to  capture frequent item sets and give suggestions   accordingly.        Technologies  -  Python, Streamlit, Heroku,   Pandas and Scikit-learn libraries  App Deployed link -    https - //streamlitapp-heroku.herokuapp.com/  GitHub  -  https - //github.com/Krishan-  Shehan/StreamlitApp_Heroku.git     Yummy mobile application.  A recipe by ingredient mobile application designed to   get recipes when you enter the ingredients and   includes a number of various other features.  Technologies  -  Java , Firebase  \\x0c'"
      ]
     },
     "execution_count": 344,
     "metadata": {},
     "output_type": "execute_result"
    }
   ],
   "source": [
    "test2 = re.sub(r'G.C.E',r'G.C.E.',new_text)\n",
    "test2"
   ]
  },
  {
   "cell_type": "code",
   "execution_count": 343,
   "metadata": {},
   "outputs": [
    {
     "data": {
      "text/plain": [
       "' Shehan Krishan Data Science Graduate  Contact -   0767158801  shehankrishan6@gmail.com  34/25 Kelaninadee rd,Mulleriyawa   https - //www.linkedin.com/in/shehan- krishan/  TECHNICAL SKILLS -   Programming Languages      Python Dart Javascript  Professional Profile -   A motivated and results-oriented Ml Engineer with one   year of experience in AI /ML ,Web Development, API   Development,Mobile App Development . Possesses a   strong a strong Problem Solving,Time Management   and Analytical Thinking.Adept at AI, Machine Learning,   Flutter, Python, and API development.I am a mature   team  worker and adaptable to all challenging   situations. I can work well  both in a team environment   as well as using my own initiative.Seeking to leverage   my skills and experience to contribute effectively to   your company where my skills can shine. Moreover,I   am looking for an opportunity that offers me to   develop  new skills while strengthening those I already   Mobile Application Development  possess.     Flutter Java  Web Development      Flutter NextJS HTML,CSS,Tailwind css   Database Handling       Oracle MySQL , MSSQL Firebase MongoDB  Skilled in        Machine Learning Data analysis ETL processing Power BI Tableau AWS  ACHIEVEMENTS -     1st Runner-Up at HackX 7.0 an Inter-University Startup Challenge organized by the Department of Industrial management, University of Kelaniya.  Experience -   AI /Ml Engineer - ICT Options PVT    -  02/2023 - 04/2024                 Developed  Computer Vision projects using   Python,Flutter,NextJS   Developed ML and Custom Algorithm projects   using  Python,Flutter,NextJS   Developed Web Applications using   Flutter,NextJS  Developed Mobile Applications using Flutter  Developed APIs using python FastAPI/Flask   frameworks  Data Analysis and Data Preprocessing and   Data Migrations  Developed Chat/Voice Bots using   Python,Flutter ,rasa   Junior Ml Engineer - Emuq Tech (Miami, Florida US)   -  03/2023 - 09/2023          Developed Generative Ml models using Python  Train Ml Models using Python  Developed APIs using python FastAPI/Flask   frameworks  Experience in AWS (instance,s3,sagemaker)     \\x0c     Selected for top 10 teams in Datarush 1.0 organized by DSSC of SLIIT. Selected for the Top 10  teams of Intellihack 2.0  organised by IEEE of  University of Colombo.  SOFT SKILLS -  Quick learner Teamwork Critical Thinking Time Management Problem solving Organization Work under minimum supervision           REFERENCES -   Prof. Samantha Thelijjagoda Pro Vice-Chancellor (Research & International), Sri Lanka Institute of Information and Technology. samantha.t@sliit.lk  Mr. Vishwa Priyanatha Senior Software Engineer -global  tote 0756149970  Intern Data Analyst - Dialog Axiata PLC    -  12/2021 - 09/2022          Dashboard development and optimization   using Power BI,Tableau  Developing machine learning models for   customer prediction using Python   Creation of automation scripts using SQL  Develop data pipelines using Python   Education -           B.Sc. Special (Hons) – Information   Technology (Specialization – Data Science)   at Sri Lanka Institute of Information   Technology (SLIIT) Graduate. (2019 - 2023)  Successfully completed an Online Bootcamp   “Python and Machine learning” at SHAPEAI in   Collaboration with Google Developer Group.   (June 6,2021)  Successful completion of Software   Development Diploma. Course at Advanced   Technologies and Research Institute. (2018)  G.C.E (Advance Level) Exam at Sri Subuthi   National School, Battaramulla in 2017.   University Project  Experience -   Research  Sinhala language speech assistive bot to aid children   in managing stuttering (IEEE accepted publication)   Technologies  -  Python ,Flutter  Web Application for a housing type prediction using   classification models and Market Basket Analysis   using Association rules.  using classification models to predict the best   housing type according to user requirements and a   Market Basket Analysis using Association rules to  capture frequent item sets and give suggestions   accordingly.        Technologies  -  Python, Streamlit, Heroku,   Pandas and Scikit-learn libraries  App Deployed link -    https - //streamlitapp-heroku.herokuapp.com/  GitHub  -  https - //github.com/Krishan-  Shehan/StreamlitApp_Heroku.git     Yummy mobile application.  A recipe by ingredient mobile application designed to   get recipes when you enter the ingredients and   includes a number of various other features.  Technologies  -  Java , Firebase  \\x0c'"
      ]
     },
     "execution_count": 343,
     "metadata": {},
     "output_type": "execute_result"
    }
   ],
   "source": [
    "test2 = re.sub(r'Diploma',r'Diploma.',new_text)\n",
    "test2"
   ]
  },
  {
   "cell_type": "code",
   "execution_count": 259,
   "metadata": {},
   "outputs": [],
   "source": [
    "test2 = re.sub(r'  ',r' ',new_text)"
   ]
  },
  {
   "cell_type": "code",
   "execution_count": 260,
   "metadata": {},
   "outputs": [
    {
     "name": "stdout",
     "output_type": "stream",
     "text": [
      "nlp_text ['Shehan Krishan Data Science Graduate Contact -  0767158801 shehankrishan6@gmail.com 34/25 Kelaninadee rd,Mulleriyawa  https - //www.linkedin.com/', 'in/shehan-', 'krishan/ TECHNICAL SKILLS -  Programming Languages', 'Python', 'Dart Javascript Professional Profile -  A motivated and results-oriented Ml Engineer with one  year of experience in AI', '/ML ,Web Development, API  Development,Mobile App Development .', 'Possesses a  strong a strong Problem Solving,Time Management  and Analytical Thinking.', 'Adept at AI, Machine Learning,  Flutter, Python, and API development.', 'I am a mature  team worker and adaptable to all challenging  situations.', 'I can work well both in a team environment  as well as using my own initiative.', 'Seeking to leverage  my skills and experience to contribute effectively to  your company where my skills can shine.', 'Moreover,I  am looking for an opportunity that offers me to  develop new skills while strengthening those I already  Mobile Application Development possess.', 'Flutter Java Web Development   Flutter NextJS HTML,CSS,Tailwind css', 'Database Handling    Oracle MySQL , MSSQL Firebase MongoDB Skilled in', 'Machine Learning Data analysis ETL processing Power', 'BI', 'Tableau AWS ACHIEVEMENTS -   1st', 'Runner-Up at HackX 7.0', 'an Inter-University Startup Challenge organized by the Department of Industrial management, University of Kelaniya.', 'Experience -  AI /Ml', 'Engineer - ICT Options PVT  - 02/2023 - 04/2024', 'Developed Computer Vision projects using  Python,Flutter,NextJS  Developed ML and Custom Algorithm projects  using Python,Flutter,NextJS  Developed Web Applications using  Flutter,NextJS Developed Mobile Applications using Flutter Developed APIs using python FastAPI', '/Flask  frameworks Data Analysis and Data Preprocessing and  Data Migrations', 'Developed Chat/Voice Bots using  Python,Flutter ,rasa', 'Junior Ml Engineer - Emuq Tech (Miami, Florida US)  - 03/2023 - 09/2023', 'Developed Generative Ml models using Python Train Ml Models using Python Developed APIs using python FastAPI', '/Flask  frameworks Experience in AWS (instance,s3,sagemaker)', 'Selected for top 10 teams in Datarush 1.0 organized by DSSC of SLIIT.', 'Selected for the Top 10 teams of Intellihack 2.0 organised by IEEE of University of Colombo.', 'SOFT SKILLS - Quick learner Teamwork Critical Thinking Time Management Problem solving Organization Work under minimum supervision', 'REFERENCES -  Prof. Samantha', 'Thelijjagoda Pro Vice-Chancellor (Research & International), Sri Lanka Institute of Information and Technology.', 'samantha.t@sliit.lk Mr. Vishwa Priyanatha Senior Software Engineer -global tote 0756149970', 'Intern Data Analyst - Dialog Axiata PLC  - 12/2021 - 09/2022     Dashboard development and optimization', 'using Power BI,Tableau Developing machine learning models for  customer prediction using Python  Creation of automation scripts using SQL Develop data pipelines using Python', 'Education -      B.Sc.', 'Special (Hons) –', 'Information  Technology (Specialization – Data Science)  at Sri Lanka Institute of Information  Technology (SLIIT) Graduate.', '(2019 - 2023)', 'Successfully completed an Online Bootcamp  “Python and Machine learning” at SHAPEAI in  Collaboration with Google Developer Group.', '(June 6,2021)', 'Successful completion of Software  Development Diploma Course at Advanced  Technologies and Research Institute.', '(2018) G.C.E (Advance Level) Exam at Sri Subuthi  National School, Battaramulla in 2017.', 'University Project Experience -  Research Sinhala language speech assistive bot to aid children  in managing stuttering (IEEE accepted publication)', 'Technologies - Python ,Flutter Web Application for a housing type prediction using  classification models and Market Basket Analysis  using Association rules.', 'using classification models to predict the best  housing type according to user requirements and a  Market Basket Analysis using Association rules to capture frequent item sets and give suggestions  accordingly.', 'Technologies - Python, Streamlit, Heroku,  Pandas and Scikit-learn libraries', 'App Deployed link -  https - //streamlitapp-heroku.herokuapp.com/', 'GitHub - https - //github.com', '/Krishan-', 'Shehan/', 'StreamlitApp_Heroku.git', 'Yummy mobile application.', 'A recipe by ingredient mobile application designed to  get recipes when you enter the ingredients and  includes a number of various other features.', 'Technologies - Java , Firebase']\n",
      "Special (Hons) –\n",
      "(2018) GCE (Advance Level) Exam at Sri Subuthi  National School Battaramulla in 2017\n",
      "University Project Experience -  Research Sinhala language speech assistive bot to aid children  in managing stuttering (IEEE accepted publication)\n",
      "{'BSc': 'Special (Hons) –', 'Diploma': '(2018) GCE (Advance Level) Exam at Sri Subuthi  National School Battaramulla in 2017', 'GCE': 'University Project Experience -  Research Sinhala language speech assistive bot to aid children  in managing stuttering (IEEE accepted publication)'}\n",
      "{'BSc': 'Special (Hons) –', 'Diploma': '(2018) GCE (Advance Level) Exam at Sri Subuthi  National School Battaramulla in 2017', 'GCE': 'University Project Experience -  Research Sinhala language speech assistive bot to aid children  in managing stuttering (IEEE accepted publication)'}\n"
     ]
    }
   ],
   "source": [
    "education,edu = extract_education(test2)\n",
    "print(edu)"
   ]
  },
  {
   "cell_type": "code",
   "execution_count": 267,
   "metadata": {},
   "outputs": [
    {
     "data": {
      "text/plain": [
       "' Shehan Krishan Data Science Graduate Contact -  0767158801 shehankrishan6@gmail.com 34/25 Kelaninadee rd,Mulleriyawa  https - //www.linkedin.com/in/shehan- krishan/ TECHNICAL SKILLS -  Programming Languages   Python Dart Javascript Professional Profile -  A motivated and results-oriented Ml Engineer with one  year of experience in AI /ML ,Web Development, API  Development,Mobile App Development . Possesses a  strong a strong Problem Solving,Time Management  and Analytical Thinking.Adept at AI, Machine Learning,  Flutter, Python, and API development.I am a mature  team worker and adaptable to all challenging  situations. I can work well both in a team environment  as well as using my own initiative.Seeking to leverage  my skills and experience to contribute effectively to  your company where my skills can shine. Moreover,I  am looking for an opportunity that offers me to  develop new skills while strengthening those I already  Mobile Application Development possess.   Flutter Java Web Development   Flutter NextJS HTML,CSS,Tailwind css  Database Handling    Oracle MySQL , MSSQL Firebase MongoDB Skilled in    Machine Learning Data analysis ETL processing Power BI Tableau AWS ACHIEVEMENTS -   1st Runner-Up at HackX 7.0 an Inter-University Startup Challenge organized by the Department of Industrial management, University of Kelaniya. Experience -  AI /Ml Engineer - ICT Options PVT  - 02/2023 - 04/2024         Developed Computer Vision projects using  Python,Flutter,NextJS  Developed ML and Custom Algorithm projects  using Python,Flutter,NextJS  Developed Web Applications using  Flutter,NextJS Developed Mobile Applications using Flutter Developed APIs using python FastAPI/Flask  frameworks Data Analysis and Data Preprocessing and  Data Migrations Developed Chat/Voice Bots using  Python,Flutter ,rasa  Junior Ml Engineer - Emuq Tech (Miami, Florida US)  - 03/2023 - 09/2023     Developed Generative Ml models using Python Train Ml Models using Python Developed APIs using python FastAPI/Flask  frameworks Experience in AWS (instance,s3,sagemaker)   \\x0c   Selected for top 10 teams in Datarush 1.0 organized by DSSC of SLIIT. Selected for the Top 10 teams of Intellihack 2.0 organised by IEEE of University of Colombo. SOFT SKILLS - Quick learner Teamwork Critical Thinking Time Management Problem solving Organization Work under minimum supervision      REFERENCES -  Prof. Samantha Thelijjagoda Pro Vice-Chancellor (Research & International), Sri Lanka Institute of Information and Technology. samantha.t@sliit.lk Mr. Vishwa Priyanatha Senior Software Engineer -global tote 0756149970 Intern Data Analyst - Dialog Axiata PLC  - 12/2021 - 09/2022     Dashboard development and optimization  using Power BI,Tableau Developing machine learning models for  customer prediction using Python  Creation of automation scripts using SQL Develop data pipelines using Python  Education -      B.Sc. Special (Hons) – Information  Technology (Specialization – Data Science)  at Sri Lanka Institute of Information  Technology (SLIIT) Graduate. (2019 - 2023) Successfully completed an Online Bootcamp  “Python and Machine learning” at SHAPEAI in  Collaboration with Google Developer Group.  (June 6,2021) Successful completion of Software  Development Diploma Course at Advanced  Technologies and Research Institute. (2018) G.C.E (Advance Level) Exam at Sri Subuthi  National School, Battaramulla in 2017.  University Project Experience -  Research Sinhala language speech assistive bot to aid children  in managing stuttering (IEEE accepted publication)  Technologies - Python ,Flutter Web Application for a housing type prediction using  classification models and Market Basket Analysis  using Association rules. using classification models to predict the best  housing type according to user requirements and a  Market Basket Analysis using Association rules to capture frequent item sets and give suggestions  accordingly.    Technologies - Python, Streamlit, Heroku,  Pandas and Scikit-learn libraries App Deployed link -  https - //streamlitapp-heroku.herokuapp.com/ GitHub - https - //github.com/Krishan- Shehan/StreamlitApp_Heroku.git   Yummy mobile application. A recipe by ingredient mobile application designed to  get recipes when you enter the ingredients and  includes a number of various other features. Technologies - Java , Firebase \\x0c'"
      ]
     },
     "execution_count": 267,
     "metadata": {},
     "output_type": "execute_result"
    }
   ],
   "source": [
    "test2"
   ]
  },
  {
   "cell_type": "code",
   "execution_count": 278,
   "metadata": {},
   "outputs": [],
   "source": [
    "xx = nltk.sent_tokenize(test2)"
   ]
  },
  {
   "cell_type": "code",
   "execution_count": 279,
   "metadata": {},
   "outputs": [
    {
     "data": {
      "text/plain": [
       "[' Shehan Krishan Data Science Graduate  Contact -   0767158801  shehankrishan6@gmail.com  34/25 Kelaninadee rd,Mulleriyawa   https - //www.linkedin.com/in/shehan- krishan/  TECHNICAL SKILLS -   Programming Languages      Python Dart Javascript  Professional Profile -   A motivated and results-oriented Ml Engineer with one   year of experience in AI /ML ,Web Development, API   Development,Mobile App Development .',\n",
       " 'Possesses a   strong a strong Problem Solving,Time Management   and Analytical Thinking.Adept at AI, Machine Learning,   Flutter, Python, and API development.I am a mature   team  worker and adaptable to all challenging   situations.',\n",
       " 'I can work well  both in a team environment   as well as using my own initiative.Seeking to leverage   my skills and experience to contribute effectively to   your company where my skills can shine.',\n",
       " 'Moreover,I   am looking for an opportunity that offers me to   develop  new skills while strengthening those I already   Mobile Application Development  possess.',\n",
       " 'Flutter Java  Web Development      Flutter NextJS HTML,CSS,Tailwind css   Database Handling       Oracle MySQL , MSSQL Firebase MongoDB  Skilled in        Machine Learning Data analysis ETL processing Power BI Tableau AWS  ACHIEVEMENTS -     1st Runner-Up at HackX 7.0 an Inter-University Startup Challenge organized by the Department of Industrial management, University of Kelaniya.',\n",
       " 'Experience -   AI /Ml Engineer - ICT Options PVT    -  02/2023 - 04/2024                 Developed  Computer Vision projects using   Python,Flutter,NextJS   Developed ML and Custom Algorithm projects   using  Python,Flutter,NextJS   Developed Web Applications using   Flutter,NextJS  Developed Mobile Applications using Flutter  Developed APIs using python FastAPI/Flask   frameworks  Data Analysis and Data Preprocessing and   Data Migrations  Developed Chat/Voice Bots using   Python,Flutter ,rasa   Junior Ml Engineer - Emuq Tech (Miami, Florida US)   -  03/2023 - 09/2023          Developed Generative Ml models using Python  Train Ml Models using Python  Developed APIs using python FastAPI/Flask   frameworks  Experience in AWS (instance,s3,sagemaker)     \\x0c     Selected for top 10 teams in Datarush 1.0 organized by DSSC of SLIIT.',\n",
       " 'Selected for the Top 10  teams of Intellihack 2.0  organised by IEEE of  University of Colombo.',\n",
       " 'SOFT SKILLS -  Quick learner Teamwork Critical Thinking Time Management Problem solving Organization Work under minimum supervision           REFERENCES -   Prof. Samantha Thelijjagoda Pro Vice-Chancellor (Research & International), Sri Lanka Institute of Information and Technology.',\n",
       " 'samantha.t@sliit.lk  Mr. Vishwa Priyanatha Senior Software Engineer -global  tote 0756149970  Intern Data Analyst - Dialog Axiata PLC    -  12/2021 - 09/2022          Dashboard development and optimization   using Power BI,Tableau  Developing machine learning models for   customer prediction using Python   Creation of automation scripts using SQL  Develop data pipelines using Python   Education -           B.Sc.',\n",
       " 'Special (Hons) – Information   Technology (Specialization – Data Science)   at Sri Lanka Institute of Information   Technology (SLIIT) Graduate.',\n",
       " '(2019 - 2023)  Successfully completed an Online Bootcamp   “Python and Machine learning” at SHAPEAI in   Collaboration with Google Developer Group.',\n",
       " '(June 6,2021)  Successful completion of Software   Development Diploma Course at Advanced   Technologies and Research Institute.',\n",
       " '(2018)  G.C.E.',\n",
       " '(Advance Level) Exam at Sri Subuthi   National School, Battaramulla in 2017.',\n",
       " 'University Project  Experience -   Research  Sinhala language speech assistive bot to aid children   in managing stuttering (IEEE accepted publication)   Technologies  -  Python ,Flutter  Web Application for a housing type prediction using   classification models and Market Basket Analysis   using Association rules.',\n",
       " 'using classification models to predict the best   housing type according to user requirements and a   Market Basket Analysis using Association rules to  capture frequent item sets and give suggestions   accordingly.',\n",
       " 'Technologies  -  Python, Streamlit, Heroku,   Pandas and Scikit-learn libraries  App Deployed link -    https - //streamlitapp-heroku.herokuapp.com/  GitHub  -  https - //github.com/Krishan-  Shehan/StreamlitApp_Heroku.git     Yummy mobile application.',\n",
       " 'A recipe by ingredient mobile application designed to   get recipes when you enter the ingredients and   includes a number of various other features.',\n",
       " 'Technologies  -  Java , Firebase']"
      ]
     },
     "execution_count": 279,
     "metadata": {},
     "output_type": "execute_result"
    }
   ],
   "source": [
    "xx"
   ]
  },
  {
   "cell_type": "code",
   "execution_count": 269,
   "metadata": {},
   "outputs": [
    {
     "data": {
      "text/plain": [
       "[' Shehan Krishan Data Science Graduate Contact -  0767158801 shehankrishan6@gmail.com 34/25 Kelaninadee rd,Mulleriyawa  https - //www.linkedin.com/in/shehan- krishan/ TECHNICAL SKILLS -  Programming Languages   Python Dart Javascript Professional Profile -  A motivated and results-oriented Ml Engineer with one  year of experience in AI /ML ,Web Development, API  Development,Mobile App Development .',\n",
       " 'Possesses a  strong a strong Problem Solving,Time Management  and Analytical Thinking.Adept at AI, Machine Learning,  Flutter, Python, and API development.I am a mature  team worker and adaptable to all challenging  situations.',\n",
       " 'I can work well both in a team environment  as well as using my own initiative.Seeking to leverage  my skills and experience to contribute effectively to  your company where my skills can shine.',\n",
       " 'Moreover,I  am looking for an opportunity that offers me to  develop new skills while strengthening those I already  Mobile Application Development possess.',\n",
       " 'Flutter Java Web Development   Flutter NextJS HTML,CSS,Tailwind css  Database Handling    Oracle MySQL , MSSQL Firebase MongoDB Skilled in    Machine Learning Data analysis ETL processing Power BI Tableau AWS ACHIEVEMENTS -   1st Runner-Up at HackX 7.0 an Inter-University Startup Challenge organized by the Department of Industrial management, University of Kelaniya.',\n",
       " 'Experience -  AI /Ml Engineer - ICT Options PVT  - 02/2023 - 04/2024         Developed Computer Vision projects using  Python,Flutter,NextJS  Developed ML and Custom Algorithm projects  using Python,Flutter,NextJS  Developed Web Applications using  Flutter,NextJS Developed Mobile Applications using Flutter Developed APIs using python FastAPI/Flask  frameworks Data Analysis and Data Preprocessing and  Data Migrations Developed Chat/Voice Bots using  Python,Flutter ,rasa  Junior Ml Engineer - Emuq Tech (Miami, Florida US)  - 03/2023 - 09/2023     Developed Generative Ml models using Python Train Ml Models using Python Developed APIs using python FastAPI/Flask  frameworks Experience in AWS (instance,s3,sagemaker)   \\x0c   Selected for top 10 teams in Datarush 1.0 organized by DSSC of SLIIT.',\n",
       " 'Selected for the Top 10 teams of Intellihack 2.0 organised by IEEE of University of Colombo.',\n",
       " 'SOFT SKILLS - Quick learner Teamwork Critical Thinking Time Management Problem solving Organization Work under minimum supervision      REFERENCES -  Prof. Samantha Thelijjagoda Pro Vice-Chancellor (Research & International), Sri Lanka Institute of Information and Technology.',\n",
       " 'samantha.t@sliit.lk Mr. Vishwa Priyanatha Senior Software Engineer -global tote 0756149970 Intern Data Analyst - Dialog Axiata PLC  - 12/2021 - 09/2022     Dashboard development and optimization  using Power BI,Tableau Developing machine learning models for  customer prediction using Python  Creation of automation scripts using SQL Develop data pipelines using Python  Education -      B.Sc.',\n",
       " 'Special (Hons) – Information  Technology (Specialization – Data Science)  at Sri Lanka Institute of Information  Technology (SLIIT) Graduate.',\n",
       " '(2019 - 2023) Successfully completed an Online Bootcamp  “Python and Machine learning” at SHAPEAI in  Collaboration with Google Developer Group.',\n",
       " '(June 6,2021) Successful completion of Software  Development Diploma Course at Advanced  Technologies and Research Institute.',\n",
       " '(2018) G.C.E (Advance Level) Exam at Sri Subuthi  National School, Battaramulla in 2017.',\n",
       " 'University Project Experience -  Research Sinhala language speech assistive bot to aid children  in managing stuttering (IEEE accepted publication)  Technologies - Python ,Flutter Web Application for a housing type prediction using  classification models and Market Basket Analysis  using Association rules.',\n",
       " 'using classification models to predict the best  housing type according to user requirements and a  Market Basket Analysis using Association rules to capture frequent item sets and give suggestions  accordingly.',\n",
       " 'Technologies - Python, Streamlit, Heroku,  Pandas and Scikit-learn libraries App Deployed link -  https - //streamlitapp-heroku.herokuapp.com/ GitHub - https - //github.com/Krishan- Shehan/StreamlitApp_Heroku.git   Yummy mobile application.',\n",
       " 'A recipe by ingredient mobile application designed to  get recipes when you enter the ingredients and  includes a number of various other features.',\n",
       " 'Technologies - Java , Firebase']"
      ]
     },
     "execution_count": 269,
     "metadata": {},
     "output_type": "execute_result"
    }
   ],
   "source": [
    "xx"
   ]
  },
  {
   "cell_type": "code",
   "execution_count": 263,
   "metadata": {},
   "outputs": [
    {
     "name": "stderr",
     "output_type": "stream",
     "text": [
      "[nltk_data] Downloading package stopwords to\n",
      "[nltk_data]     C:\\Users\\sheha\\AppData\\Roaming\\nltk_data...\n",
      "[nltk_data]   Package stopwords is already up-to-date!\n",
      "[nltk_data] Downloading package punkt to\n",
      "[nltk_data]     C:\\Users\\sheha\\AppData\\Roaming\\nltk_data...\n",
      "[nltk_data]   Package punkt is already up-to-date!\n",
      "[nltk_data] Downloading package averaged_perceptron_tagger to\n",
      "[nltk_data]     C:\\Users\\sheha\\AppData\\Roaming\\nltk_data...\n",
      "[nltk_data]   Package averaged_perceptron_tagger is already up-to-\n",
      "[nltk_data]       date!\n",
      "[nltk_data] Downloading package maxent_ne_chunker to\n",
      "[nltk_data]     C:\\Users\\sheha\\AppData\\Roaming\\nltk_data...\n",
      "[nltk_data]   Package maxent_ne_chunker is already up-to-date!\n",
      "[nltk_data] Downloading package words to\n",
      "[nltk_data]     C:\\Users\\sheha\\AppData\\Roaming\\nltk_data...\n",
      "[nltk_data]   Package words is already up-to-date!\n"
     ]
    }
   ],
   "source": [
    "import nltk\n",
    " \n",
    "nltk.download('stopwords')\n",
    "nltk.download('punkt')\n",
    "nltk.download('averaged_perceptron_tagger')\n",
    "nltk.download('maxent_ne_chunker')\n",
    "nltk.download('words')\n",
    " \n",
    " \n",
    "RESERVED_WORDS = [\n",
    "    'school',\n",
    "    'college',\n",
    "    'univers',\n",
    "    'academy',\n",
    "    'faculty',\n",
    "    'institute',\n",
    "    'faculdades',\n",
    "    'Schola',\n",
    "    'schule',\n",
    "    'lise',\n",
    "    'lyceum',\n",
    "    'lycee',\n",
    "    'polytechnic',\n",
    "    'kolej',\n",
    "    'ünivers',\n",
    "    'okul',\n",
    "]\n",
    " \n",
    " \n",
    " \n",
    "def extract_education(input_text):\n",
    "    organizations = []\n",
    " \n",
    "    # first get all the organization names using nltk\n",
    "    for sent in nltk.sent_tokenize(input_text):\n",
    "        for chunk in nltk.ne_chunk(nltk.pos_tag(nltk.word_tokenize(sent))):\n",
    "            if hasattr(chunk, 'label') and chunk.label() == 'ORGANIZATION':\n",
    "                organizations.append(' '.join(c[0] for c in chunk.leaves()))\n",
    " \n",
    "    # we search for each bigram and trigram for reserved words\n",
    "    # (college, university etc...)\n",
    "    education = set()\n",
    "    for org in organizations:\n",
    "        for word in RESERVED_WORDS:\n",
    "            if org.lower().find(word) >= 0:\n",
    "                education.add(org)\n",
    " \n",
    "    return education"
   ]
  },
  {
   "cell_type": "code",
   "execution_count": 266,
   "metadata": {},
   "outputs": [
    {
     "data": {
      "text/plain": [
       "{'Research Institute',\n",
       " 'Sri Lanka Institute',\n",
       " 'Sri Subuthi National School',\n",
       " 'University',\n",
       " 'University Project Experience'}"
      ]
     },
     "execution_count": 266,
     "metadata": {},
     "output_type": "execute_result"
    }
   ],
   "source": [
    "extract_education(new_text)"
   ]
  }
 ],
 "metadata": {
  "kernelspec": {
   "display_name": "ADHD",
   "language": "python",
   "name": "python3"
  },
  "language_info": {
   "codemirror_mode": {
    "name": "ipython",
    "version": 3
   },
   "file_extension": ".py",
   "mimetype": "text/x-python",
   "name": "python",
   "nbconvert_exporter": "python",
   "pygments_lexer": "ipython3",
   "version": "3.10.13"
  }
 },
 "nbformat": 4,
 "nbformat_minor": 2
}
