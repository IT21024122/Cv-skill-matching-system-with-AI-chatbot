{
 "cells": [
  {
   "cell_type": "code",
   "execution_count": 1,
   "metadata": {},
   "outputs": [],
   "source": [
    "import requests\n",
    "return_msg = requests.post('http://localhost:5005/webhooks/rest/webhook', json={\"sender\": \"test_user\", \"message\":\"i'm 25 years old\"})\n",
    "for i in return_msg.json():\n",
    "    bot_message = i['text']\n",
    "    print(bot_message)"
   ]
  },
  {
   "cell_type": "markdown",
   "metadata": {},
   "source": [
    "usercase start"
   ]
  },
  {
   "cell_type": "code",
   "execution_count": null,
   "metadata": {},
   "outputs": [],
   "source": [
    "return_msg = requests.post('http://localhost:5005/webhooks/rest/webhook', json={\"sender\": \"test_user\", \"message\":\"my name is gayan\"})"
   ]
  },
  {
   "cell_type": "code",
   "execution_count": 8,
   "metadata": {},
   "outputs": [],
   "source": [
    "return_msg = requests.post('http://localhost:5005/webhooks/rest/webhook', json={\"sender\": \"test_user\", \"message\":\"perfect\"})"
   ]
  },
  {
   "cell_type": "code",
   "execution_count": 12,
   "metadata": {},
   "outputs": [],
   "source": [
    "return_msg = requests.post('http://localhost:5005/webhooks/rest/webhook', json={\"sender\": \"test_user\", \"message\":\"i'm 25 years old\"})"
   ]
  },
  {
   "cell_type": "code",
   "execution_count": 14,
   "metadata": {},
   "outputs": [],
   "source": [
    "return_msg = requests.post('http://localhost:5005/webhooks/rest/webhook', json={\"sender\": \"test_user\", \"message\":\"I am currently employed as a software engineer at XYZ Company, where I develop and maintain web applications\"})"
   ]
  },
  {
   "cell_type": "code",
   "execution_count": 16,
   "metadata": {},
   "outputs": [],
   "source": [
    "return_msg = requests.post('http://localhost:5005/webhooks/rest/webhook', json={\"sender\": \"test_user\", \"message\":\"I'm seeking new challenges and opportunities for growth that are not currently available in my current role.\"})"
   ]
  },
  {
   "cell_type": "code",
   "execution_count": 18,
   "metadata": {},
   "outputs": [],
   "source": [
    "return_msg = requests.post('http://localhost:5005/webhooks/rest/webhook', json={\"sender\": \"test_user\", \"message\":\"I am excited about this position because it will allow me to further enhance my skills and expertise in software engineering.\"})"
   ]
  },
  {
   "cell_type": "code",
   "execution_count": 20,
   "metadata": {},
   "outputs": [],
   "source": [
    "return_msg = requests.post('http://localhost:5005/webhooks/rest/webhook', json={\"sender\": \"test_user\", \"message\":\"yes\"})"
   ]
  },
  {
   "cell_type": "code",
   "execution_count": 22,
   "metadata": {},
   "outputs": [],
   "source": [
    "return_msg = requests.post('http://localhost:5005/webhooks/rest/webhook', json={\"sender\": \"test_user\", \"message\":\"I can start immediately.\"})"
   ]
  },
  {
   "cell_type": "markdown",
   "metadata": {},
   "source": [
    "user case done"
   ]
  },
  {
   "cell_type": "code",
   "execution_count": 24,
   "metadata": {},
   "outputs": [],
   "source": []
  },
  {
   "cell_type": "code",
   "execution_count": null,
   "metadata": {},
   "outputs": [],
   "source": []
  },
  {
   "cell_type": "markdown",
   "metadata": {},
   "source": [
    "company side"
   ]
  },
  {
   "cell_type": "code",
   "execution_count": 26,
   "metadata": {},
   "outputs": [],
   "source": [
    "return_msg = requests.post('http://localhost:5005/webhooks/rest/webhook', json={\"sender\": \"company_user\", \"message\":\"Can you provide me with information about the best candidates for the position?\"})"
   ]
  },
  {
   "cell_type": "code",
   "execution_count": 27,
   "metadata": {},
   "outputs": [],
   "source": [
    "return_msg = requests.post('http://localhost:5005/webhooks/rest/webhook', json={\"sender\": \"company_user\", \"message\":\"I want to know about user gayan.\"})"
   ]
  },
  {
   "cell_type": "code",
   "execution_count": 29,
   "metadata": {},
   "outputs": [],
   "source": [
    "return_msg = requests.post('http://localhost:5005/webhooks/rest/webhook', json={\"sender\": \"company_user\", \"message\":\"What is he currently doing?\"})"
   ]
  },
  {
   "cell_type": "code",
   "execution_count": 31,
   "metadata": {},
   "outputs": [],
   "source": [
    "return_msg = requests.post('http://localhost:5005/webhooks/rest/webhook', json={\"sender\": \"company_user\", \"message\":\"When can he start the job?\"})"
   ]
  },
  {
   "cell_type": "code",
   "execution_count": 32,
   "metadata": {},
   "outputs": [
    {
     "name": "stdout",
     "output_type": "stream",
     "text": [
      "This is what he said : I can start immediately.\n"
     ]
    }
   ],
   "source": [
    "for i in return_msg.json():\n",
    "    bot_message = i['text']\n",
    "    print(bot_message)"
   ]
  },
  {
   "cell_type": "code",
   "execution_count": null,
   "metadata": {},
   "outputs": [],
   "source": []
  },
  {
   "cell_type": "code",
   "execution_count": 1,
   "metadata": {},
   "outputs": [],
   "source": [
    "import re"
   ]
  },
  {
   "cell_type": "code",
   "execution_count": 11,
   "metadata": {},
   "outputs": [],
   "source": [
    "# experience_pattern = re.compile(r'for\\s+(\\d+)\\s+(years?|months?)', re.IGNORECASE)\n",
    "experience_pattern = re.compile(r'(\\d+)\\s+(years?|months?)', re.IGNORECASE)\n"
   ]
  },
  {
   "cell_type": "code",
   "execution_count": 22,
   "metadata": {},
   "outputs": [],
   "source": [
    "user_row_current_activity = \"Currently, I work at LMN Solutions as a Software Developer for the last 9 years\""
   ]
  },
  {
   "cell_type": "code",
   "execution_count": 23,
   "metadata": {},
   "outputs": [],
   "source": [
    "experience_match = experience_pattern.search(user_row_current_activity)"
   ]
  },
  {
   "cell_type": "code",
   "execution_count": 24,
   "metadata": {},
   "outputs": [
    {
     "data": {
      "text/plain": [
       "<re.Match object; span=(72, 79), match='9 years'>"
      ]
     },
     "execution_count": 24,
     "metadata": {},
     "output_type": "execute_result"
    }
   ],
   "source": [
    "experience_match"
   ]
  },
  {
   "cell_type": "code",
   "execution_count": 25,
   "metadata": {},
   "outputs": [],
   "source": [
    "duration = experience_match.group(1) + \" \" + experience_match.group(2)"
   ]
  },
  {
   "cell_type": "code",
   "execution_count": 26,
   "metadata": {},
   "outputs": [
    {
     "data": {
      "text/plain": [
       "'9 years'"
      ]
     },
     "execution_count": 26,
     "metadata": {},
     "output_type": "execute_result"
    }
   ],
   "source": [
    "duration"
   ]
  }
 ],
 "metadata": {
  "kernelspec": {
   "display_name": "ADHD",
   "language": "python",
   "name": "python3"
  },
  "language_info": {
   "codemirror_mode": {
    "name": "ipython",
    "version": 3
   },
   "file_extension": ".py",
   "mimetype": "text/x-python",
   "name": "python",
   "nbconvert_exporter": "python",
   "pygments_lexer": "ipython3",
   "version": "3.10.13"
  }
 },
 "nbformat": 4,
 "nbformat_minor": 2
}
