{
 "cells": [
  {
   "cell_type": "code",
   "execution_count": 192,
   "metadata": {},
   "outputs": [],
   "source": [
    "import os\n",
    "from pyresparser import ResumeParser"
   ]
  },
  {
   "cell_type": "code",
   "execution_count": 219,
   "metadata": {},
   "outputs": [
    {
     "name": "stderr",
     "output_type": "stream",
     "text": [
      "c:\\Users\\sheha\\anaconda3\\envs\\ADHD\\lib\\site-packages\\spacy\\util.py:275: UserWarning: [W031] Model 'en_training' (0.0.0) requires spaCy v2.1 and is incompatible with the current spaCy version (2.3.9). This may lead to unexpected results or runtime errors. To resolve this, download a newer compatible model or retrain your custom model with the current spaCy version. For more details and available updates, run: python -m spacy validate\n",
      "  warnings.warn(warn_msg)\n"
     ]
    }
   ],
   "source": [
    "data = ResumeParser('Curriculum Vitae -Shehan Krishan.pdf').get_extracted_data()"
   ]
  },
  {
   "cell_type": "code",
   "execution_count": 220,
   "metadata": {},
   "outputs": [
    {
     "data": {
      "text/plain": [
       "{'name': 'Shehan Krishan',\n",
       " 'email': 'shehankrishan6@gmail.com',\n",
       " 'mobile_number': '0767158801',\n",
       " 'skills': ['Etl',\n",
       "  'Sql',\n",
       "  'Mysql',\n",
       "  'Css',\n",
       "  'Python',\n",
       "  'Technical skills',\n",
       "  'Javascript',\n",
       "  'Tableau',\n",
       "  'Java',\n",
       "  'Apis',\n",
       "  'Research',\n",
       "  'Html',\n",
       "  'Data analysis',\n",
       "  'Pandas',\n",
       "  'International',\n",
       "  'Analytical',\n",
       "  'Database',\n",
       "  'Ai',\n",
       "  'Aws',\n",
       "  'Flask',\n",
       "  'Startup',\n",
       "  'Api',\n",
       "  'Time management',\n",
       "  'Oracle',\n",
       "  'Github',\n",
       "  'Automation',\n",
       "  'Technical',\n",
       "  'Mobile',\n",
       "  'Analysis',\n",
       "  'Information technology',\n",
       "  'Programming',\n",
       "  'Machine learning'],\n",
       " 'college_name': None,\n",
       " 'degree': ['B.Sc. Special (Hons) – Information'],\n",
       " 'designation': ['Senior Software Engineer',\n",
       "  'Junior Ml Engineer',\n",
       "  'Pro Vice',\n",
       "  'AI /Ml Engineer'],\n",
       " 'experience': ['●',\n",
       "  '●',\n",
       "  'Selected for top 10 teams in',\n",
       "  'Datarush 1.0 organized by',\n",
       "  'DSSC of SLIIT.',\n",
       "  'Selected for the Top 10',\n",
       "  'teams of Intellihack 2.0',\n",
       "  'organised by IEEE of',\n",
       "  'University of Colombo.',\n",
       "  'SOFT SKILLS:',\n",
       "  'Quick learner',\n",
       "  'Teamwork',\n",
       "  'Critical Thinking',\n",
       "  'Time Management',\n",
       "  'Problem solving',\n",
       "  'Organization',\n",
       "  'Work under minimum',\n",
       "  'supervision',\n",
       "  '●',\n",
       "  '●',\n",
       "  '●',\n",
       "  '●',\n",
       "  '●',\n",
       "  '●',\n",
       "  '●',\n",
       "  '●',\n",
       "  'REFERENCES:',\n",
       "  'Prof. Samantha Thelijjagoda',\n",
       "  'Pro Vice-Chancellor (Research &',\n",
       "  'International),',\n",
       "  'Sri Lanka Institute of Information and',\n",
       "  'Technology.',\n",
       "  'samantha.t@sliit.lk',\n",
       "  'Mr. Vishwa Priyanatha',\n",
       "  'Senior Software Engineer -global',\n",
       "  'tote',\n",
       "  '0756149970',\n",
       "  'Intern Data Analyst - Dialog Axiata PLC',\n",
       "  ': 12/2021 - 09/2022',\n",
       "  '●',\n",
       "  '●',\n",
       "  '●',\n",
       "  '●',\n",
       "  'Dashboard development and optimization',\n",
       "  'using Power BI,Tableau',\n",
       "  'Developing machine learning models for',\n",
       "  'customer prediction using Python',\n",
       "  'Creation of automation scripts using SQL',\n",
       "  'Develop data pipelines using Python',\n",
       "  'Education:',\n",
       "  '●',\n",
       "  '●',\n",
       "  '●',\n",
       "  '●',\n",
       "  'B.Sc. Special (Hons) – Information',\n",
       "  'Technology (Specialization – Data Science)',\n",
       "  'at Sri Lanka Institute of Information',\n",
       "  'Technology (SLIIT) Graduate. (2019 - 2023)',\n",
       "  'Successfully completed an Online Bootcamp',\n",
       "  '“Python and Machine learning” at SHAPEAI in',\n",
       "  'Collaboration with Google Developer Group.',\n",
       "  '(June 6,2021)',\n",
       "  'Successful completion of Software',\n",
       "  'Development Diploma Course at Advanced',\n",
       "  'Technologies and Research Institute. (2018)',\n",
       "  'G.C.E (Advance Level) Exam at Sri Subuthi',\n",
       "  'National School, Battaramulla in 2017.',\n",
       "  'University Project  Experience:',\n",
       "  'Research',\n",
       "  'Sinhala language speech assistive bot to aid children',\n",
       "  'in managing stuttering (IEEE accepted publication)',\n",
       "  'Technologies : Python ,Flutter',\n",
       "  'Web Application for a housing type prediction using',\n",
       "  'classification models and Market Basket Analysis',\n",
       "  'using Association rules.',\n",
       "  'using classification models to predict the best',\n",
       "  'housing type according to user requirements and a',\n",
       "  'Market Basket Analysis using Association rules to',\n",
       "  'capture frequent item sets and give suggestions',\n",
       "  'accordingly.',\n",
       "  '●',\n",
       "  '●',\n",
       "  '●',\n",
       "  'Technologies : Python, Streamlit, Heroku,',\n",
       "  'Pandas and Scikit-learn libraries',\n",
       "  'App Deployed link:',\n",
       "  'https://streamlitapp-heroku.herokuapp.com/',\n",
       "  'GitHub : https://github.com/Krishan-',\n",
       "  'Shehan/StreamlitApp_Heroku.git',\n",
       "  'Yummy mobile application.',\n",
       "  'A recipe by ingredient mobile application designed to',\n",
       "  'get recipes when you enter the ingredients and',\n",
       "  'includes a number of various other features.',\n",
       "  'Technologies : Java , Firebase'],\n",
       " 'company_names': ['ICT Options PVT', 'Vishwa Priyanatha'],\n",
       " 'no_of_pages': 2,\n",
       " 'total_experience': 0.0}"
      ]
     },
     "execution_count": 220,
     "metadata": {},
     "output_type": "execute_result"
    }
   ],
   "source": [
    "data"
   ]
  },
  {
   "cell_type": "code",
   "execution_count": 221,
   "metadata": {},
   "outputs": [],
   "source": [
    "from pdfminer.converter import TextConverter\n",
    "from pdfminer.pdfinterp import PDFPageInterpreter\n",
    "from pdfminer.pdfinterp import PDFResourceManager\n",
    "from pdfminer.layout import LAParams\n",
    "from pdfminer.pdfpage import PDFPage\n",
    "import io\n",
    "\n",
    "def extract_text_from_pdf(pdf_path):\n",
    "    with open(pdf_path, 'rb') as fh:\n",
    "        # iterate over all pages of PDF document\n",
    "        for page in PDFPage.get_pages(fh, caching=True, check_extractable=True):\n",
    "            # creating a resoure manager\n",
    "            resource_manager = PDFResourceManager()\n",
    "            \n",
    "            # create a file handle\n",
    "            fake_file_handle = io.StringIO()\n",
    "            \n",
    "            # creating a text converter object\n",
    "            converter = TextConverter(\n",
    "                                resource_manager, \n",
    "                                fake_file_handle, \n",
    "                                codec='utf-8', \n",
    "                                laparams=LAParams()\n",
    "                        )\n",
    "\n",
    "            # creating a page interpreter\n",
    "            page_interpreter = PDFPageInterpreter(\n",
    "                                resource_manager, \n",
    "                                converter\n",
    "                            )\n",
    "\n",
    "            # process current page\n",
    "            page_interpreter.process_page(page)\n",
    "            \n",
    "            # extract text\n",
    "            text = fake_file_handle.getvalue()\n",
    "            yield text\n",
    "\n",
    "            # close open handles\n",
    "            converter.close()\n",
    "            fake_file_handle.close()\n",
    "\n"
   ]
  },
  {
   "cell_type": "code",
   "execution_count": 222,
   "metadata": {},
   "outputs": [],
   "source": [
    "text = \"\"\n",
    "for page in extract_text_from_pdf(\"Curriculum Vitae -Shehan Krishan.pdf\"):\n",
    "    text += ' ' + page\n"
   ]
  },
  {
   "cell_type": "code",
   "execution_count": 223,
   "metadata": {},
   "outputs": [
    {
     "data": {
      "text/plain": [
       "' Shehan Krishan\\nData Science Graduate\\n\\nContact:\\n\\n0767158801\\n\\nshehankrishan6@gmail.com\\n\\n34/25 Kelaninadee rd,Mulleriyawa \\n\\nhttps://www.linkedin.com/in/shehan-\\nkrishan/\\n\\nTECHNICAL SKILLS:\\n\\nProgramming Languages\\n\\n●\\n●\\n●\\n\\nPython\\nDart\\nJavascript\\n\\nProfessional Profile:\\n\\nA motivated and results-oriented Ml Engineer with one \\n\\nyear of experience in AI /ML ,Web Development, API \\n\\nDevelopment,Mobile App Development . Possesses a \\n\\nstrong a strong Problem Solving,Time Management \\n\\nand Analytical Thinking.Adept at AI, Machine Learning, \\n\\nFlutter, Python, and API development.I am a mature \\n\\nteam  worker and adaptable to all challenging \\n\\nsituations. I can work well  both in a team environment \\n\\nas well as using my own initiative.Seeking to leverage \\n\\nmy skills and experience to contribute effectively to \\n\\nyour company where my skills can shine. Moreover,I \\n\\nam looking for an opportunity that offers me to \\n\\ndevelop  new skills while strengthening those I already \\n\\nMobile Application Development\\n\\npossess.\\n\\n●\\n●\\n\\nFlutter\\nJava\\n\\nWeb Development\\n\\n●\\n●\\n●\\n\\nFlutter\\nNextJS\\nHTML,CSS,Tailwind css \\n\\nDatabase Handling\\n\\n●\\n●\\n●\\n●\\n\\nOracle\\nMySQL , MSSQL\\nFirebase\\nMongoDB\\n\\nSkilled in\\n●\\n●\\n●\\n●\\n●\\n●\\n\\nMachine Learning\\nData analysis\\nETL processing\\nPower BI\\nTableau\\nAWS\\n\\nACHIEVEMENTS:\\n\\n●\\n\\n1st Runner-Up at HackX 7.0\\nan Inter-University Startup\\nChallenge organized by the\\nDepartment of Industrial\\nmanagement, University of\\nKelaniya.\\n\\nExperience:\\n\\nAI /Ml Engineer - ICT Options PVT\\n\\n : 02/2023 - 04/2024 \\n\\n●\\n\\n●\\n\\n●\\n\\n●\\n\\n●\\n\\n●\\n\\n●\\n\\nDeveloped  Computer Vision projects using \\n\\nPython,Flutter,NextJS \\n\\nDeveloped ML and Custom Algorithm projects \\n\\nusing  Python,Flutter,NextJS \\n\\nDeveloped Web Applications using \\n\\nFlutter,NextJS\\n\\nDeveloped Mobile Applications using Flutter\\n\\nDeveloped APIs using python FastAPI/Flask \\n\\nframeworks\\n\\nData Analysis and Data Preprocessing and \\n\\nData Migrations\\n\\nDeveloped Chat/Voice Bots using \\n\\nPython,Flutter ,rasa \\n\\nJunior Ml Engineer - Emuq Tech (Miami, Florida US)\\n : 03/2023 - 09/2023\\n\\n●\\n\\n●\\n\\n●\\n\\n●\\n\\nDeveloped Generative Ml models using Python\\n\\nTrain Ml Models using Python\\n\\nDeveloped APIs using python FastAPI/Flask \\n\\nframeworks\\n\\nExperience in AWS (instance,s3,sagemaker)   \\n\\n\\x0c ●\\n\\n●\\n\\nSelected for top 10 teams in\\nDatarush 1.0 organized by\\nDSSC of SLIIT.\\nSelected for the Top 10 \\nteams of Intellihack 2.0 \\norganised by IEEE of \\nUniversity of Colombo.\\n\\nSOFT SKILLS:\\nQuick learner\\nTeamwork\\nCritical Thinking\\nTime Management\\nProblem solving\\nOrganization\\nWork under minimum\\nsupervision\\n\\n●\\n●\\n●\\n●\\n●\\n●\\n●\\n●\\n\\nREFERENCES:\\n\\nProf. Samantha Thelijjagoda\\nPro Vice-Chancellor (Research &\\nInternational),\\nSri Lanka Institute of Information and\\nTechnology.\\nsamantha.t@sliit.lk\\n\\nMr. Vishwa Priyanatha\\nSenior Software Engineer -global \\ntote\\n0756149970\\n\\nIntern Data Analyst - Dialog Axiata PLC\\n\\n : 12/2021 - 09/2022\\n\\n●\\n\\n●\\n\\n●\\n\\n●\\n\\nDashboard development and optimization \\n\\nusing Power BI,Tableau\\n\\nDeveloping machine learning models for \\n\\ncustomer prediction using Python \\n\\nCreation of automation scripts using SQL\\n\\nDevelop data pipelines using Python \\n\\nEducation:\\n\\n●\\n\\n●\\n\\n●\\n\\n●\\n\\nB.Sc. Special (Hons) – Information \\n\\nTechnology (Specialization – Data Science) \\n\\nat Sri Lanka Institute of Information \\n\\nTechnology (SLIIT) Graduate. (2019 - 2023)\\n\\nSuccessfully completed an Online Bootcamp \\n\\n“Python and Machine learning” at SHAPEAI in \\n\\nCollaboration with Google Developer Group. \\n\\n(June 6,2021)\\n\\nSuccessful completion of Software \\n\\nDevelopment Diploma Course at Advanced \\n\\nTechnologies and Research Institute. (2018)\\n\\nG.C.E (Advance Level) Exam at Sri Subuthi \\n\\nNational School, Battaramulla in 2017. \\n\\nUniversity Project  Experience:\\n\\nResearch\\n\\nSinhala language speech assistive bot to aid children \\n\\nin managing stuttering (IEEE accepted publication) \\n\\nTechnologies : Python ,Flutter\\n\\nWeb Application for a housing type prediction using \\n\\nclassification models and Market Basket Analysis \\n\\nusing Association rules.\\n\\nusing classification models to predict the best \\n\\nhousing type according to user requirements and a \\n\\nMarket Basket Analysis using Association rules to\\n\\ncapture frequent item sets and give suggestions \\n\\naccordingly.\\n\\n●\\n\\n●\\n\\n●\\n\\nTechnologies : Python, Streamlit, Heroku, \\n\\nPandas and Scikit-learn libraries\\n\\nApp Deployed link: \\n\\nhttps://streamlitapp-heroku.herokuapp.com/\\n\\nGitHub : https://github.com/Krishan-\\n\\nShehan/StreamlitApp_Heroku.git   \\n\\nYummy mobile application.\\n\\nA recipe by ingredient mobile application designed to \\n\\nget recipes when you enter the ingredients and \\n\\nincludes a number of various other features.\\n\\nTechnologies : Java , Firebase\\n\\n\\x0c'"
      ]
     },
     "execution_count": 223,
     "metadata": {},
     "output_type": "execute_result"
    }
   ],
   "source": [
    "text"
   ]
  },
  {
   "cell_type": "code",
   "execution_count": 224,
   "metadata": {},
   "outputs": [],
   "source": [
    "import re\n",
    "\n",
    "def extract_mobile_number(text):\n",
    "    phone = re.findall(re.compile(r'(?:(?:\\+?([1-9]|[0-9][0-9]|[0-9][0-9][0-9])\\s*(?:[.-]\\s*)?)?(?:\\(\\s*([2-9]1[02-9]|[2-9][02-8]1|[2-9][02-8][02-9])\\s*\\)|([0-9][1-9]|[0-9]1[02-9]|[2-9][02-8]1|[2-9][02-8][02-9]))\\s*(?:[.-]\\s*)?)?([2-9]1[02-9]|[2-9][02-9]1|[2-9][02-9]{2})\\s*(?:[.-]\\s*)?([0-9]{4})(?:\\s*(?:#|x\\.?|ext\\.?|extension)\\s*(\\d+))?'), text)\n",
    "    \n",
    "    if phone:\n",
    "        number = ''.join(phone[0])\n",
    "        if len(number) > 10:\n",
    "            return '+' + number\n",
    "        else:\n",
    "            return number"
   ]
  },
  {
   "cell_type": "code",
   "execution_count": 225,
   "metadata": {},
   "outputs": [
    {
     "data": {
      "text/plain": [
       "'076715880'"
      ]
     },
     "execution_count": 225,
     "metadata": {},
     "output_type": "execute_result"
    }
   ],
   "source": [
    "extract_mobile_number(text)"
   ]
  },
  {
   "cell_type": "code",
   "execution_count": 226,
   "metadata": {},
   "outputs": [],
   "source": [
    "def extract_email(email):\n",
    "    email = re.findall(\"([^@|\\s]+@[^@]+\\.[^@|\\s]+)\", email)\n",
    "    if email:\n",
    "        try:\n",
    "            return email[0].split()[0].strip(';')\n",
    "        except IndexError:\n",
    "            return None"
   ]
  },
  {
   "cell_type": "code",
   "execution_count": 227,
   "metadata": {},
   "outputs": [
    {
     "data": {
      "text/plain": [
       "'shehankrishan6@gmail.com'"
      ]
     },
     "execution_count": 227,
     "metadata": {},
     "output_type": "execute_result"
    }
   ],
   "source": [
    "extract_email(text)"
   ]
  },
  {
   "cell_type": "code",
   "execution_count": 228,
   "metadata": {},
   "outputs": [],
   "source": [
    "import spacy\n",
    "import pandas as pd\n",
    "\n",
    "nlp = spacy.load('en_core_web_sm')\n",
    "\n",
    "def extract_skills(resume_text):\n",
    "    nlp_text = nlp(resume_text)\n",
    "\n",
    "    # removing stop words and implementing word tokenization\n",
    "    tokens = [token.text for token in nlp_text if not token.is_stop]\n",
    "    \n",
    "    # reading the csv file\n",
    "    data = pd.read_csv(\"skills.csv\") \n",
    "    \n",
    "    # extract values\n",
    "    skills = list(data.columns.values)\n",
    "    \n",
    "    skillset = []\n",
    "    \n",
    "    # check for one-grams (example: python)\n",
    "    for token in tokens:\n",
    "        if token.lower() in skills:\n",
    "            skillset.append(token)\n",
    "    \n",
    "    # check for bi-grams and tri-grams (example: machine learning)\n",
    "    for chunk in nlp_text.noun_chunks:\n",
    "        chunk_text = chunk.text.lower().strip()\n",
    "        if chunk_text in skills:\n",
    "            skillset.append(chunk_text)\n",
    "    \n",
    "    return list(set([i.capitalize() for i in skillset]))\n",
    "\n"
   ]
  },
  {
   "cell_type": "code",
   "execution_count": 229,
   "metadata": {},
   "outputs": [
    {
     "name": "stdout",
     "output_type": "stream",
     "text": [
      "['Github', 'Technical skills', 'Analysis', 'Automation', 'Startup', 'Ai', 'Database', 'Java', 'Oracle', 'Css', 'Technical', 'Machine learning', 'Flask', 'Programming', 'Research', 'Tableau', 'Sql', 'Javascript', 'Pandas', 'Flutter', 'Apis', 'Mysql', 'Python', 'Html', 'Api', 'Mobile', 'Data analysis', 'Analytical', 'Etl', 'Aws', 'International', 'Time management']\n"
     ]
    }
   ],
   "source": [
    "skills = extract_skills(text)\n",
    "print(skills) "
   ]
  },
  {
   "cell_type": "code",
   "execution_count": 208,
   "metadata": {},
   "outputs": [
    {
     "name": "stdout",
     "output_type": "stream",
     "text": [
      "nlp_text ['B.Sc.', 'Special (Hons) – Information Technology (Specialization – Data Science) at Sri Lanka Institute of Information Technology (SLIIT) Graduate.', '(2019 - 2023)']\n",
      "tex BSc\n",
      "next_text Special (Hons) – Information Technology (Specialization – Data Science) at Sri Lanka Institute of Information Technology (SLIIT) Graduate\n",
      "Special (Hons) – Information Technology (Specialization – Data Science) at Sri Lanka Institute of Information Technology (SLIIT) Graduate\n",
      "{'BSc': 'Special (Hons) – Information Technology (Specialization – Data Science) at Sri Lanka Institute of Information Technology (SLIIT) Graduate'}\n",
      "['BSc']\n"
     ]
    }
   ],
   "source": [
    "import re\n",
    "import spacy\n",
    "\n",
    "nlp = spacy.load('en_core_web_sm')\n",
    "\n",
    "EDUCATION = ['BSC', 'B.Tech', 'B.E.', 'M.Sc.', 'M.Tech', 'M.E.', 'Ph.D.']\n",
    "STOPWORDS = ['and', 'in', 'of', 'at']\n",
    "\n",
    "\n",
    "def extract_education(resume_text):\n",
    "    nlp_text = nlp(resume_text)\n",
    "\n",
    "    # Sentence Tokenizer\n",
    "    nlp_text = [sent.text.strip() for sent in nlp_text.sents]\n",
    "    # nlp_text = [sent.string.strip() for sent in nlp_text.sents]\n",
    "    print(\"nlp_text\",nlp_text)\n",
    "    \n",
    "    edu = {}\n",
    "    # Extract education degree\n",
    "    for index, text in enumerate(nlp_text[:-1]):\n",
    "        # print(text)\n",
    "        text = re.sub(r'[?|$|.|!|,]', r'', text)\n",
    "        # print(text)\n",
    "\n",
    "        next_text = nlp_text[index + 1]\n",
    "        # print(\"next_text\",next_text)\n",
    "        next_text = re.sub(r'[?|$|.|!|,]', r'', next_text)\n",
    "        # print(\"next_text\",next_text)\n",
    "        for tex in text.split():\n",
    "            # print(\"tex\",tex)\n",
    "            if tex.upper() in EDUCATION and tex not in STOPWORDS:\n",
    "                print(\"tex\",tex)\n",
    "                print(\"next_text\",str(next_text))\n",
    "                cleaned_text = re.sub(r'●\\n', '', next_text)\n",
    "                print(cleaned_text)\n",
    "                edu[tex] = cleaned_text\n",
    "    print(edu)\n",
    "\n",
    "    # Extract year\n",
    "    education = []\n",
    "    for key in edu.keys():\n",
    "        year = re.search(r'(\\b(?:20|19)\\d{2}\\b)', edu[key])\n",
    "        if year:\n",
    "            education.append((key, year.group(0)))\n",
    "        else:\n",
    "            education.append(key)\n",
    "    return education,edu\n",
    "\n",
    "# Example usage:\n",
    "resume_text = \"\"\"\n",
    "B.Sc. Special (Hons) – Information Technology (Specialization – Data Science) at Sri Lanka Institute of Information Technology (SLIIT) Graduate. (2019 - 2023)\n",
    "\"\"\"\n",
    "education,edu = extract_education(resume_text)\n",
    "print(education)\n"
   ]
  },
  {
   "cell_type": "code",
   "execution_count": 209,
   "metadata": {},
   "outputs": [
    {
     "name": "stdout",
     "output_type": "stream",
     "text": [
      "nlp_text ['Prabhashwara', 'Karunarathne', 'prabhashwarabandara665@gmaill.com', '+94716201971', '52,Viduhalpathana, Bandarawela \\n\\nlinkedin.com/in/prabhashwara-\\nkarunarathne \\n     N7365984', 'Achievements', '•', 'Gold Star Award winner in 2008', '•', 'Chess Champion of India and Sri \\nLanka in 2011', 'Hobbies', '•', '•', '•', 'Photography', 'Travel', 'Listening to music', 'Skill Highlights', '•', '•', '•', '•', '•', 'Customer-focused and solutions', 'driven.', 'Strong decision maker', 'Complex analytical person', 'Innovative \\nExcellent interpersonal and \\ncommunication skills', 'Summary', 'I am a resolute, Organized, and Methodical individual.', 'I am seeking a challenge \\noffering  growth  and  potential  in  a  progressive  organization.', 'I  am  a  motivated,', 'highly enthusiastic, hardworking individual who consistently strives to enhance \\nmy learning and personal development whenever possible.', 'Experience \\n\\nExecutive-', 'Recovery Services', 'HNB Finance PLC \\n(2023 October – Present)', '•', 'Manage', 'the  entire  process  of  letter  correspondence,  starting  from \\n\\n• \\n\\nreminder letters to agreement termination letters.', 'Ensure timely dispatch and receipt of letters to customers and follow up \\naccordingly.', '•', 'Maintain  records  of', 'all  communications  and  update  the  system  with \\n\\nrelevant information.', '•', 'Address customer requests regarding settlement invoices promptly and', '•', 'accurately.', 'Provide  necessary  documentation  and  information  as  requested  by \\ncustomers.', 'Process ODI (Overdraft Interest) waive-offs through the system.', '•', '•', 'Verify  and', 'validate  waive-off  requests  against  company', 'policies  and', '•', 'procedures.', 'Ensure  proper  authorization  and  approvals', 'are  obtained  before \\nprocessing waive-offs.', '•  Verify and ensure that all authority approvals are obtained for necessary', '•', 'actions, such as terminations or waive-offs.', 'Coordinate  the  timely  release  of', 'security  documents  to', 'relevant', 'customers  upon  completion  of  the  settlement  process.', 'Verify', 'the \\nauthenticity  of  requests  and  ensure  that  documents  are  released \\nsecurely and in compliance with legal and regulatory requirements.', 'Junior Executive- Security Documentation -  \\nUB Finance PLC \\n(', '2021 April – 2023 October)', '•  Receiving and placing customer service telephone calls regarding loan', '•', 'settlements', 'Proceeding  system  settlements  throughout  the  system  entered \\ninformation into the database.', '•', 'Attending  all  the \\n\\nissues', 'related  to  the  settlement  process', 'and \\n\\ncoordinating with branches.', '•', 'Maintaining  solid  customer  relationships  by  handling  questions  and \\n\\nconcerns related to loan settlements with speed and professionalism.', '•', 'Maintain detailed records of settlement activities, transaction \\nhistories, and documentation releases.', 'Ensure that records are \\naccurate, up-to-date, and securely stored in accordance with data \\nprotection regulations.', 'Coordinate  the  timely  release  of', 'security  documents  to', 'relevant', 'customers  upon  completion  of  the  settlement  process.', 'Verify', 'the \\nauthenticity  of  requests  and  ensure  that  documents  are  released \\nsecurely and in compliance with legal and regulatory requirements.', '•', 'Education', '•  G.C.E Advanced Level (2017) –', 'S.Thomas’ College –', 'Bandarawela', '•  G.C.E Ordinary Level (2013)- S.Thomas’ College –', 'Bandarawela \\n\\nCertifications', 'College Prefect (S.Thomas’ College – Bandarawela 2015-16) \\nPresident of College Chess Club – (2015-16) \\nSecretary of College Scout Guild (2015-2016)', 'Secretary of College Indoor Games Club (2015-2016)', 'College Vice President of English Literary Association (2015-2016)', 'College Vice Secretary of Chemistry Circle (2015-2016)', '•', '•', '•', '•', '•', '•', '•  Member of Buddhist Student Association (2015)', '•  Vice-captain of College Basketball Team (2015-2016)', '•', 'Member of College Cricket Team  \\n•  Member of Athletic Club', '•', 'Captain of De Saram House (Inter School Sportsmeet-2016)', 'Non-Relative referees', '•', 'Mr S A Palitha Jayasooriya', 'Works collins aerospace', 'I-12,B/E Aerospace, \\nP.O Box 293665,DFZA, \\n Dubai, UAE.', '+971 50 565 8608', 'samarakkody2003@yahoo.com', '•', 'Mr.', 'Chaiminda Weerasinghe', 'Assistance General Manager- Recoveries,', 'UB Finance PLC,', 'Colombo 04.', '+9477 780 8801 \\nchamindaw@ubf.lk']\n",
      "{}\n",
      "[]\n"
     ]
    }
   ],
   "source": [
    "education,edu = extract_education(text)\n",
    "print(education)"
   ]
  },
  {
   "cell_type": "code",
   "execution_count": 210,
   "metadata": {},
   "outputs": [
    {
     "data": {
      "text/plain": [
       "'  Prabhashwara \\nKarunarathne \\n\\nprabhashwarabandara665@gmaill.com \\n\\n+94716201971 \\n\\n52,Viduhalpathana, Bandarawela \\n\\nlinkedin.com/in/prabhashwara-\\nkarunarathne \\n     N7365984 \\n\\nAchievements \\n\\n•  Gold Star Award winner in 2008 \\n• \\nChess Champion of India and Sri \\nLanka in 2011 \\n\\nHobbies \\n\\n• \\n• \\n• \\n\\nPhotography \\nTravel \\nListening to music \\n\\nSkill Highlights \\n\\n• \\n\\n• \\n\\n• \\n• \\n• \\n\\nCustomer-focused and solutions \\ndriven. \\nStrong decision maker \\n\\nComplex analytical person \\nInnovative \\nExcellent interpersonal and \\ncommunication skills \\n\\nSummary \\nI am a resolute, Organized, and Methodical individual. I am seeking a challenge \\noffering  growth  and  potential  in  a  progressive  organization.  I  am  a  motivated, \\nhighly enthusiastic, hardworking individual who consistently strives to enhance \\nmy learning and personal development whenever possible. \\n\\nExperience \\n\\nExecutive- Recovery Services  \\nHNB Finance PLC \\n(2023 October – Present) \\n\\n•  Manage  the  entire  process  of  letter  correspondence,  starting  from \\n\\n• \\n\\nreminder letters to agreement termination letters. \\nEnsure timely dispatch and receipt of letters to customers and follow up \\naccordingly. \\n\\n•  Maintain  records  of  all  communications  and  update  the  system  with \\n\\nrelevant information. \\n\\n•  Address customer requests regarding settlement invoices promptly and \\n\\n• \\n\\naccurately. \\nProvide  necessary  documentation  and  information  as  requested  by \\ncustomers. \\nProcess ODI (Overdraft Interest) waive-offs through the system. \\n\\n• \\n•  Verify  and  validate  waive-off  requests  against  company  policies  and \\n\\n• \\n\\nprocedures. \\nEnsure  proper  authorization  and  approvals  are  obtained  before \\nprocessing waive-offs. \\n\\n•  Verify and ensure that all authority approvals are obtained for necessary \\n\\n• \\n\\nactions, such as terminations or waive-offs. \\nCoordinate  the  timely  release  of  security  documents  to  relevant \\ncustomers  upon  completion  of  the  settlement  process.  Verify  the \\nauthenticity  of  requests  and  ensure  that  documents  are  released \\nsecurely and in compliance with legal and regulatory requirements. \\n\\nJunior Executive- Security Documentation -  \\nUB Finance PLC \\n(2021 April – 2023 October) \\n\\n•  Receiving and placing customer service telephone calls regarding loan \\n\\n• \\n\\nsettlements \\nProceeding  system  settlements  throughout  the  system  entered \\ninformation into the database.  \\n\\n•  Attending  all  the \\n\\nissues  related  to  the  settlement  process  and \\n\\ncoordinating with branches. \\n\\n•  Maintaining  solid  customer  relationships  by  handling  questions  and \\n\\nconcerns related to loan settlements with speed and professionalism. \\n\\n•  Maintain detailed records of settlement activities, transaction \\nhistories, and documentation releases. Ensure that records are \\naccurate, up-to-date, and securely stored in accordance with data \\nprotection regulations. \\nCoordinate  the  timely  release  of  security  documents  to  relevant \\ncustomers  upon  completion  of  the  settlement  process.  Verify  the \\nauthenticity  of  requests  and  ensure  that  documents  are  released \\nsecurely and in compliance with legal and regulatory requirements. \\n\\n• \\n\\n \\n \\n \\n \\n \\n \\n \\n \\n \\n \\n\\x0c Education \\n\\n•  G.C.E Advanced Level (2017) – S.Thomas’ College – Bandarawela \\n•  G.C.E Ordinary Level (2013)- S.Thomas’ College – Bandarawela \\n\\nCertifications \\n\\nCollege Prefect (S.Thomas’ College – Bandarawela 2015-16) \\nPresident of College Chess Club – (2015-16) \\nSecretary of College Scout Guild (2015-2016) \\nSecretary of College Indoor Games Club (2015-2016) \\nCollege Vice President of English Literary Association (2015-2016) \\nCollege Vice Secretary of Chemistry Circle (2015-2016) \\n\\n• \\n• \\n• \\n• \\n• \\n• \\n•  Member of Buddhist Student Association (2015) \\n•  Vice-captain of College Basketball Team (2015-2016) \\n•  Member of College Cricket Team  \\n•  Member of Athletic Club \\n• \\n\\nCaptain of De Saram House (Inter School Sportsmeet-2016) \\n\\nNon-Relative referees \\n\\n•  Mr S A Palitha Jayasooriya \\nWorks collins aerospace \\nI-12,B/E Aerospace, \\nP.O Box 293665,DFZA, \\n Dubai, UAE. \\n+971 50 565 8608 \\nsamarakkody2003@yahoo.com \\n\\n•  Mr.Chaiminda Weerasinghe \\n\\nAssistance General Manager- Recoveries, \\nUB Finance PLC, \\nColombo 04. \\n+9477 780 8801 \\nchamindaw@ubf.lk \\n\\n \\n \\n \\n \\n \\n\\x0c'"
      ]
     },
     "execution_count": 210,
     "metadata": {},
     "output_type": "execute_result"
    }
   ],
   "source": [
    "text"
   ]
  },
  {
   "cell_type": "code",
   "execution_count": 211,
   "metadata": {},
   "outputs": [],
   "source": [
    "new_text = re.sub(r'●\\n', ' ', text)"
   ]
  },
  {
   "cell_type": "code",
   "execution_count": 212,
   "metadata": {},
   "outputs": [],
   "source": [
    "new_text = re.sub(r'\\n', ' ', new_text)"
   ]
  },
  {
   "cell_type": "code",
   "execution_count": 213,
   "metadata": {},
   "outputs": [],
   "source": [
    "new_text = re.sub(r':', ' - ', new_text)"
   ]
  },
  {
   "cell_type": "code",
   "execution_count": 214,
   "metadata": {},
   "outputs": [
    {
     "data": {
      "text/plain": [
       "'  Prabhashwara  Karunarathne   prabhashwarabandara665@gmaill.com   +94716201971   52,Viduhalpathana, Bandarawela   linkedin.com/in/prabhashwara- karunarathne       N7365984   Achievements   •  Gold Star Award winner in 2008  •  Chess Champion of India and Sri  Lanka in 2011   Hobbies   •  •  •   Photography  Travel  Listening to music   Skill Highlights   •   •   •  •  •   Customer-focused and solutions  driven.  Strong decision maker   Complex analytical person  Innovative  Excellent interpersonal and  communication skills   Summary  I am a resolute, Organized, and Methodical individual. I am seeking a challenge  offering  growth  and  potential  in  a  progressive  organization.  I  am  a  motivated,  highly enthusiastic, hardworking individual who consistently strives to enhance  my learning and personal development whenever possible.   Experience   Executive- Recovery Services   HNB Finance PLC  (2023 October – Present)   •  Manage  the  entire  process  of  letter  correspondence,  starting  from   •   reminder letters to agreement termination letters.  Ensure timely dispatch and receipt of letters to customers and follow up  accordingly.   •  Maintain  records  of  all  communications  and  update  the  system  with   relevant information.   •  Address customer requests regarding settlement invoices promptly and   •   accurately.  Provide  necessary  documentation  and  information  as  requested  by  customers.  Process ODI (Overdraft Interest) waive-offs through the system.   •  •  Verify  and  validate  waive-off  requests  against  company  policies  and   •   procedures.  Ensure  proper  authorization  and  approvals  are  obtained  before  processing waive-offs.   •  Verify and ensure that all authority approvals are obtained for necessary   •   actions, such as terminations or waive-offs.  Coordinate  the  timely  release  of  security  documents  to  relevant  customers  upon  completion  of  the  settlement  process.  Verify  the  authenticity  of  requests  and  ensure  that  documents  are  released  securely and in compliance with legal and regulatory requirements.   Junior Executive- Security Documentation -   UB Finance PLC  (2021 April – 2023 October)   •  Receiving and placing customer service telephone calls regarding loan   •   settlements  Proceeding  system  settlements  throughout  the  system  entered  information into the database.    •  Attending  all  the   issues  related  to  the  settlement  process  and   coordinating with branches.   •  Maintaining  solid  customer  relationships  by  handling  questions  and   concerns related to loan settlements with speed and professionalism.   •  Maintain detailed records of settlement activities, transaction  histories, and documentation releases. Ensure that records are  accurate, up-to-date, and securely stored in accordance with data  protection regulations.  Coordinate  the  timely  release  of  security  documents  to  relevant  customers  upon  completion  of  the  settlement  process.  Verify  the  authenticity  of  requests  and  ensure  that  documents  are  released  securely and in compliance with legal and regulatory requirements.   •                       \\x0c Education   •  G.C.E Advanced Level (2017) – S.Thomas’ College – Bandarawela  •  G.C.E Ordinary Level (2013)- S.Thomas’ College – Bandarawela   Certifications   College Prefect (S.Thomas’ College – Bandarawela 2015-16)  President of College Chess Club – (2015-16)  Secretary of College Scout Guild (2015-2016)  Secretary of College Indoor Games Club (2015-2016)  College Vice President of English Literary Association (2015-2016)  College Vice Secretary of Chemistry Circle (2015-2016)   •  •  •  •  •  •  •  Member of Buddhist Student Association (2015)  •  Vice-captain of College Basketball Team (2015-2016)  •  Member of College Cricket Team   •  Member of Athletic Club  •   Captain of De Saram House (Inter School Sportsmeet-2016)   Non-Relative referees   •  Mr S A Palitha Jayasooriya  Works collins aerospace  I-12,B/E Aerospace,  P.O Box 293665,DFZA,   Dubai, UAE.  +971 50 565 8608  samarakkody2003@yahoo.com   •  Mr.Chaiminda Weerasinghe   Assistance General Manager- Recoveries,  UB Finance PLC,  Colombo 04.  +9477 780 8801  chamindaw@ubf.lk             \\x0c'"
      ]
     },
     "execution_count": 214,
     "metadata": {},
     "output_type": "execute_result"
    }
   ],
   "source": [
    "new_text"
   ]
  },
  {
   "cell_type": "code",
   "execution_count": 215,
   "metadata": {},
   "outputs": [
    {
     "name": "stdout",
     "output_type": "stream",
     "text": [
      "nlp_text ['Prabhashwara', 'Karunarathne', 'prabhashwarabandara665@gmaill.com', '+94716201971', '52,Viduhalpathana, Bandarawela   linkedin.com/in/prabhashwara- karunarathne       N7365984', 'Achievements', '•', 'Gold Star Award winner in 2008', '•', 'Chess Champion of India and Sri  Lanka in 2011', 'Hobbies', '•', '•', '•', 'Photography', 'Travel  Listening to music', 'Skill Highlights', '•', '•', '•', '•', '•', 'Customer-focused and solutions', 'driven.', 'Strong decision maker   Complex analytical person', 'Innovative  Excellent interpersonal and  communication skills', 'Summary', 'I am a resolute, Organized, and Methodical individual.', 'I am seeking a challenge  offering  growth  and  potential  in  a  progressive  organization.', 'I  am', 'a  motivated,  highly enthusiastic, hardworking individual who consistently strives to enhance  my learning and personal development whenever possible.', 'Experience', 'Executive-', 'Recovery Services', 'HNB Finance PLC  (2023 October – Present)', '•', 'Manage', 'the  entire  process  of  letter  correspondence,  starting  from   •', 'reminder letters to agreement termination letters.', 'Ensure timely dispatch and receipt of letters to customers and follow up  accordingly.', '•', 'Maintain  records  of', 'all  communications  and  update  the  system  with   relevant information.', '•', 'Address customer requests regarding settlement invoices promptly and', '•   accurately.', 'Provide', 'necessary  documentation  and  information  as  requested  by  customers.', 'Process ODI (Overdraft Interest) waive-offs through the system.', '•', '•', 'Verify  and', 'validate  waive-off  requests  against  company', 'policies  and   •   procedures.', 'Ensure  proper  authorization  and  approvals', 'are  obtained  before  processing waive-offs.', '•', 'Verify and ensure that all authority approvals are obtained for necessary', '•   actions, such as terminations or waive-offs.', 'Coordinate', 'the  timely  release  of  security  documents  to  relevant  customers  upon  completion  of', 'the  settlement  process.', 'Verify  the  authenticity  of  requests  and  ensure  that  documents  are  released  securely and in compliance with legal and regulatory requirements.', 'Junior Executive-', 'Security Documentation -   UB Finance PLC  (', '2021 April – 2023 October)', '•', 'Receiving and placing customer service telephone calls regarding loan', '•', 'settlements', 'Proceeding  system  settlements  throughout  the  system  entered  information into the database.', '•', 'Attending  all  the   issues', 'related  to  the  settlement  process  and   coordinating with branches.', '•', 'Maintaining  solid  customer  relationships  by  handling  questions  and   concerns related to loan settlements with speed and professionalism.', '•', 'Maintain detailed records of settlement activities, transaction  histories, and documentation releases.', 'Ensure that records are  accurate, up-to-date, and securely stored in accordance with data  protection regulations.', 'Coordinate', 'the  timely  release  of  security  documents  to  relevant  customers  upon  completion  of', 'the  settlement  process.', 'Verify  the  authenticity  of  requests  and  ensure  that  documents  are  released  securely and in compliance with legal and regulatory requirements.', '•', 'Education', '•  G.C.E Advanced Level (2017) –', 'S.Thomas’ College – Bandarawela  •  G.C.E Ordinary Level (2013)- S.Thomas’ College – Bandarawela   Certifications   College Prefect (S.Thomas’ College – Bandarawela 2015-16)  President of College Chess Club – (2015-16)  Secretary of College Scout Guild (2015-2016)', 'Secretary of College Indoor Games Club (2015-2016)  College Vice President of English Literary Association (2015-2016)  College Vice Secretary of Chemistry Circle (2015-2016)', '•', '•', '•', '•', '•', '•', '•', 'Member of Buddhist Student Association (2015)', '•  Vice-captain of College Basketball Team (2015-2016)', '•  Member of College Cricket Team', '•', 'Member of Athletic Club', '•', 'Captain of De Saram House', '(Inter School Sportsmeet-2016)', 'Non-Relative referees', '•', 'Mr S A Palitha Jayasooriya  Works collins aerospace', 'I-12,B/E Aerospace,  P.O Box 293665,DFZA,   Dubai, UAE.', '+971', '50 565 8608', 'samarakkody2003@yahoo.com', '•', 'Mr.', 'Chaiminda Weerasinghe   Assistance General', 'Manager- Recoveries,  UB Finance PLC,  Colombo 04.', '+9477 780 8801  chamindaw@ubf.lk']\n",
      "{}\n",
      "[]\n"
     ]
    }
   ],
   "source": [
    "education,edu = extract_education(new_text)\n",
    "print(education)"
   ]
  },
  {
   "cell_type": "code",
   "execution_count": 216,
   "metadata": {},
   "outputs": [],
   "source": [
    "EDUCATION = ['BSC', 'B.Tech', 'B.E.', 'M.Sc.', 'M.Tech', 'M.E.', 'Ph.D.', 'DIPLOMA']\n",
    "STOPWORDS = ['and', 'in', 'of', 'at']\n",
    "\n",
    "\n",
    "def extract_education(resume_text):\n",
    "    nlp_text = nlp(resume_text)\n",
    "\n",
    "    # Sentence Tokenizer\n",
    "    nlp_text = [sent.text.strip() for sent in nlp_text.sents]\n",
    "    # nlp_text = [sent.string.strip() for sent in nlp_text.sents]\n",
    "    print(\"nlp_text\",nlp_text)\n",
    "    \n",
    "    edu = {}\n",
    "    # Extract education degree\n",
    "    for index, text in enumerate(nlp_text[:-1]):\n",
    "        # print(text)\n",
    "        text = re.sub(r'[?|$|.|!|,]', r'', text)\n",
    "        # print(text)\n",
    "\n",
    "        # next_text = nlp_text[index + 1]\n",
    "        # print(\"next_text\",next_text)\n",
    "        # next_text = re.sub(r'[?|$|.|!|,]', r'', next_text)\n",
    "        # print(\"next_text\",next_text)\n",
    "        for tex in text.split():\n",
    "            # print(\"tex\",tex)\n",
    "            if tex.upper() in EDUCATION and tex not in STOPWORDS:\n",
    "                next_text = nlp_text[index + 1]\n",
    "                next_text = re.sub(r'[?|$|.|!|,]', r'', next_text)\n",
    "                cleaned_text = re.sub(r'●\\n', '', next_text)\n",
    "                print(cleaned_text)\n",
    "                # for x in range(len(nlp_text) - index):\n",
    "                #     print(x)\n",
    "                #     next_text = nlp_text[index + x]\n",
    "                #     print(\"next_text\",next_text)\n",
    "                #     years = re.findall(r'\\b\\d{4}\\b', next_text)\n",
    "                #     if years:\n",
    "                #         edu[\"years\"] = years\n",
    "                #         break\n",
    "                edu[tex] = cleaned_text\n",
    "                # edu[\"gg\"] = cleaned_text\n",
    "    print(edu)\n",
    "\n",
    "    # Extract year\n",
    "    education = []\n",
    "    # for key in edu.keys():\n",
    "    #     year = re.search(r'(\\b(?:20|19)\\d{2}\\b)', edu[key])\n",
    "    #     if year:\n",
    "    #         education.append((key, year.group(0)))\n",
    "    #     else:\n",
    "    #         education.append(key)\n",
    "    return education,edu"
   ]
  },
  {
   "cell_type": "code",
   "execution_count": 167,
   "metadata": {},
   "outputs": [
    {
     "name": "stdout",
     "output_type": "stream",
     "text": [
      "nlp_text ['Shehan Krishan Data Science Graduate', 'Contact -   0767158801', 'shehankrishan6@gmail.com', '34/25 Kelaninadee rd,Mulleriyawa   https - //www.linkedin.com/', 'in/shehan-', 'krishan/', 'TECHNICAL SKILLS -   Programming Languages', 'Python Dart Javascript', 'Professional Profile -', 'A motivated and results-oriented Ml Engineer with one   year of experience in AI', '/ML ,Web Development, API   Development,Mobile App Development .', 'Possesses a   strong a strong Problem Solving,Time Management   and Analytical Thinking.', 'Adept at AI, Machine Learning,   Flutter, Python, and API development.', 'I am a mature   team  worker and adaptable to all challenging   situations.', 'I can work well  both in a team environment   as well as using my own initiative.', 'Seeking to leverage   my skills and experience to contribute effectively to   your company where my skills can shine.', 'Moreover,I   am looking for an opportunity that offers me to   develop  new skills while strengthening those I already   Mobile Application Development  possess.', 'Flutter Java  Web Development      Flutter NextJS HTML,CSS,Tailwind css', 'Database Handling       Oracle MySQL ,', 'MSSQL Firebase MongoDB  Skilled in        Machine Learning Data analysis ETL processing Power', 'BI', 'Tableau AWS', 'ACHIEVEMENTS -     1st Runner-Up at HackX 7.0', 'an Inter-University Startup Challenge organized by the Department of Industrial management, University of Kelaniya.', 'Experience -   AI /Ml', 'Engineer - ICT Options', 'PVT', '-  02/2023 - 04/2024', 'Developed  Computer Vision projects using   Python,Flutter,NextJS   Developed ML and Custom Algorithm projects   using  Python,Flutter,NextJS   Developed Web Applications using   Flutter,NextJS  Developed Mobile Applications using Flutter  Developed APIs using', 'python FastAPI/Flask   frameworks  Data Analysis and Data Preprocessing and   Data Migrations', 'Developed Chat/Voice Bots using   Python,Flutter ,rasa   Junior Ml Engineer - Emuq Tech (Miami, Florida US)   -  03/2023 - 09/2023', 'Developed Generative Ml models using Python  Train Ml Models using Python  Developed APIs using python', 'FastAPI/Flask   frameworks', 'Experience in AWS (instance,s3,sagemaker)', 'Selected for top 10 teams in Datarush 1.0 organized by DSSC of SLIIT.', 'Selected for the Top 10  teams of Intellihack 2.0  organised by IEEE of  University of Colombo.', 'SOFT SKILLS -  Quick learner Teamwork Critical Thinking Time Management Problem solving Organization Work under minimum supervision           REFERENCES -   Prof. Samantha', 'Thelijjagoda Pro Vice-Chancellor (Research & International), Sri Lanka Institute of Information and Technology.', 'samantha.t@sliit.lk', 'Mr. Vishwa Priyanatha Senior Software Engineer', '-global', 'tote 0756149970', 'Intern Data Analyst - Dialog Axiata PLC    -  12/2021 - 09/2022          Dashboard development and optimization', 'using Power BI,Tableau  Developing machine learning models for   customer prediction using Python   Creation of automation scripts using SQL  Develop data pipelines using Python   Education -           B.Sc.', 'Special (Hons) – Information   Technology (Specialization – Data Science)   at Sri Lanka Institute of Information   Technology (SLIIT) Graduate.', '(2019 - 2023)  Successfully completed an Online Bootcamp   “Python and Machine learning” at SHAPEAI in   Collaboration with Google Developer Group.', '(June 6,2021)', 'Successful completion of Software   Development Diploma Course at Advanced   Technologies and Research Institute.', '(2018)  G.C.E (Advance Level) Exam at Sri Subuthi', 'National School, Battaramulla in 2017.', 'University Project  Experience -   Research  Sinhala language speech assistive bot to aid children   in managing stuttering (IEEE accepted publication)', 'Technologies  -  Python ,Flutter  Web Application for a housing type prediction using   classification models and Market Basket Analysis   using Association rules.', 'using classification models to predict the best   housing type according to user requirements and a   Market Basket Analysis using Association rules to  capture frequent item sets and give suggestions   accordingly.', 'Technologies  -  Python, Streamlit, Heroku,   Pandas and Scikit-learn', 'libraries', 'App Deployed link -    https - //streamlitapp-heroku.herokuapp.com/', 'GitHub  -  https - //github.com/Krishan-', 'Shehan/StreamlitApp_Heroku.git     Yummy mobile application.', 'A recipe by ingredient mobile application designed to   get recipes when you enter the ingredients and   includes a number of various other features.', 'Technologies  -  Java , Firebase']\n",
      "Special (Hons) – Information   Technology (Specialization – Data Science)   at Sri Lanka Institute of Information   Technology (SLIIT) Graduate\n",
      "{'BSc': 'Special (Hons) – Information   Technology (Specialization – Data Science)   at Sri Lanka Institute of Information   Technology (SLIIT) Graduate', 'gg': 'Special (Hons) – Information   Technology (Specialization – Data Science)   at Sri Lanka Institute of Information   Technology (SLIIT) Graduate'}\n",
      "['BSc', 'gg']\n"
     ]
    }
   ],
   "source": [
    "education,edu = extract_education(new_text)\n",
    "print(education)"
   ]
  },
  {
   "cell_type": "code",
   "execution_count": 217,
   "metadata": {},
   "outputs": [
    {
     "data": {
      "text/plain": [
       "'  Prabhashwara \\nKarunarathne \\n\\nprabhashwarabandara665@gmaill.com \\n\\n+94716201971 \\n\\n52,Viduhalpathana, Bandarawela \\n\\nlinkedin.com/in/prabhashwara-\\nkarunarathne \\n     N7365984 \\n\\nAchievements \\n\\n•  Gold Star Award winner in 2008 \\n• \\nChess Champion of India and Sri \\nLanka in 2011 \\n\\nHobbies \\n\\n• \\n• \\n• \\n\\nPhotography \\nTravel \\nListening to music \\n\\nSkill Highlights \\n\\n• \\n\\n• \\n\\n• \\n• \\n• \\n\\nCustomer-focused and solutions \\ndriven. \\nStrong decision maker \\n\\nComplex analytical person \\nInnovative \\nExcellent interpersonal and \\ncommunication skills \\n\\nSummary \\nI am a resolute, Organized, and Methodical individual. I am seeking a challenge \\noffering  growth  and  potential  in  a  progressive  organization.  I  am  a  motivated, \\nhighly enthusiastic, hardworking individual who consistently strives to enhance \\nmy learning and personal development whenever possible. \\n\\nExperience \\n\\nExecutive- Recovery Services  \\nHNB Finance PLC \\n(2023 October – Present) \\n\\n•  Manage  the  entire  process  of  letter  correspondence,  starting  from \\n\\n• \\n\\nreminder letters to agreement termination letters. \\nEnsure timely dispatch and receipt of letters to customers and follow up \\naccordingly. \\n\\n•  Maintain  records  of  all  communications  and  update  the  system  with \\n\\nrelevant information. \\n\\n•  Address customer requests regarding settlement invoices promptly and \\n\\n• \\n\\naccurately. \\nProvide  necessary  documentation  and  information  as  requested  by \\ncustomers. \\nProcess ODI (Overdraft Interest) waive-offs through the system. \\n\\n• \\n•  Verify  and  validate  waive-off  requests  against  company  policies  and \\n\\n• \\n\\nprocedures. \\nEnsure  proper  authorization  and  approvals  are  obtained  before \\nprocessing waive-offs. \\n\\n•  Verify and ensure that all authority approvals are obtained for necessary \\n\\n• \\n\\nactions, such as terminations or waive-offs. \\nCoordinate  the  timely  release  of  security  documents  to  relevant \\ncustomers  upon  completion  of  the  settlement  process.  Verify  the \\nauthenticity  of  requests  and  ensure  that  documents  are  released \\nsecurely and in compliance with legal and regulatory requirements. \\n\\nJunior Executive- Security Documentation -  \\nUB Finance PLC \\n(2021 April – 2023 October) \\n\\n•  Receiving and placing customer service telephone calls regarding loan \\n\\n• \\n\\nsettlements \\nProceeding  system  settlements  throughout  the  system  entered \\ninformation into the database.  \\n\\n•  Attending  all  the \\n\\nissues  related  to  the  settlement  process  and \\n\\ncoordinating with branches. \\n\\n•  Maintaining  solid  customer  relationships  by  handling  questions  and \\n\\nconcerns related to loan settlements with speed and professionalism. \\n\\n•  Maintain detailed records of settlement activities, transaction \\nhistories, and documentation releases. Ensure that records are \\naccurate, up-to-date, and securely stored in accordance with data \\nprotection regulations. \\nCoordinate  the  timely  release  of  security  documents  to  relevant \\ncustomers  upon  completion  of  the  settlement  process.  Verify  the \\nauthenticity  of  requests  and  ensure  that  documents  are  released \\nsecurely and in compliance with legal and regulatory requirements. \\n\\n• \\n\\n \\n \\n \\n \\n \\n \\n \\n \\n \\n \\n\\x0c Education \\n\\n•  G.C.E Advanced Level (2017) – S.Thomas’ College – Bandarawela \\n•  G.C.E Ordinary Level (2013)- S.Thomas’ College – Bandarawela \\n\\nCertifications \\n\\nCollege Prefect (S.Thomas’ College – Bandarawela 2015-16) \\nPresident of College Chess Club – (2015-16) \\nSecretary of College Scout Guild (2015-2016) \\nSecretary of College Indoor Games Club (2015-2016) \\nCollege Vice President of English Literary Association (2015-2016) \\nCollege Vice Secretary of Chemistry Circle (2015-2016) \\n\\n• \\n• \\n• \\n• \\n• \\n• \\n•  Member of Buddhist Student Association (2015) \\n•  Vice-captain of College Basketball Team (2015-2016) \\n•  Member of College Cricket Team  \\n•  Member of Athletic Club \\n• \\n\\nCaptain of De Saram House (Inter School Sportsmeet-2016) \\n\\nNon-Relative referees \\n\\n•  Mr S A Palitha Jayasooriya \\nWorks collins aerospace \\nI-12,B/E Aerospace, \\nP.O Box 293665,DFZA, \\n Dubai, UAE. \\n+971 50 565 8608 \\nsamarakkody2003@yahoo.com \\n\\n•  Mr.Chaiminda Weerasinghe \\n\\nAssistance General Manager- Recoveries, \\nUB Finance PLC, \\nColombo 04. \\n+9477 780 8801 \\nchamindaw@ubf.lk \\n\\n \\n \\n \\n \\n \\n\\x0c'"
      ]
     },
     "execution_count": 217,
     "metadata": {},
     "output_type": "execute_result"
    }
   ],
   "source": [
    "text"
   ]
  },
  {
   "cell_type": "code",
   "execution_count": 172,
   "metadata": {},
   "outputs": [
    {
     "name": "stdout",
     "output_type": "stream",
     "text": [
      "[]\n"
     ]
    }
   ],
   "source": [
    "kk= \"Special (Hons) – Information   Technology (Specialization – Data Science)   at Sri Lanka Institute of Information   Technology (SLIIT) Graduate\"\n",
    "years = re.findall(r'\\b\\d{4}\\b', kk)\n",
    "print(years)"
   ]
  },
  {
   "cell_type": "code",
   "execution_count": 218,
   "metadata": {},
   "outputs": [
    {
     "name": "stdout",
     "output_type": "stream",
     "text": [
      "nlp_text ['Prabhashwara', 'Karunarathne', 'prabhashwarabandara665@gmaill.com', '+94716201971', '52,Viduhalpathana, Bandarawela   linkedin.com/in/prabhashwara- karunarathne       N7365984', 'Achievements', '•', 'Gold Star Award winner in 2008', '•', 'Chess Champion of India and Sri  Lanka in 2011', 'Hobbies', '•', '•', '•', 'Photography', 'Travel  Listening to music', 'Skill Highlights', '•', '•', '•', '•', '•', 'Customer-focused and solutions', 'driven.', 'Strong decision maker   Complex analytical person', 'Innovative  Excellent interpersonal and  communication skills', 'Summary', 'I am a resolute, Organized, and Methodical individual.', 'I am seeking a challenge  offering  growth  and  potential  in  a  progressive  organization.', 'I  am', 'a  motivated,  highly enthusiastic, hardworking individual who consistently strives to enhance  my learning and personal development whenever possible.', 'Experience', 'Executive-', 'Recovery Services', 'HNB Finance PLC  (2023 October – Present)', '•', 'Manage', 'the  entire  process  of  letter  correspondence,  starting  from   •', 'reminder letters to agreement termination letters.', 'Ensure timely dispatch and receipt of letters to customers and follow up  accordingly.', '•', 'Maintain  records  of', 'all  communications  and  update  the  system  with   relevant information.', '•', 'Address customer requests regarding settlement invoices promptly and', '•   accurately.', 'Provide', 'necessary  documentation  and  information  as  requested  by  customers.', 'Process ODI (Overdraft Interest) waive-offs through the system.', '•', '•', 'Verify  and', 'validate  waive-off  requests  against  company', 'policies  and   •   procedures.', 'Ensure  proper  authorization  and  approvals', 'are  obtained  before  processing waive-offs.', '•', 'Verify and ensure that all authority approvals are obtained for necessary', '•   actions, such as terminations or waive-offs.', 'Coordinate', 'the  timely  release  of  security  documents  to  relevant  customers  upon  completion  of', 'the  settlement  process.', 'Verify  the  authenticity  of  requests  and  ensure  that  documents  are  released  securely and in compliance with legal and regulatory requirements.', 'Junior Executive-', 'Security Documentation -   UB Finance PLC  (', '2021 April – 2023 October)', '•', 'Receiving and placing customer service telephone calls regarding loan', '•', 'settlements', 'Proceeding  system  settlements  throughout  the  system  entered  information into the database.', '•', 'Attending  all  the   issues', 'related  to  the  settlement  process  and   coordinating with branches.', '•', 'Maintaining  solid  customer  relationships  by  handling  questions  and   concerns related to loan settlements with speed and professionalism.', '•', 'Maintain detailed records of settlement activities, transaction  histories, and documentation releases.', 'Ensure that records are  accurate, up-to-date, and securely stored in accordance with data  protection regulations.', 'Coordinate', 'the  timely  release  of  security  documents  to  relevant  customers  upon  completion  of', 'the  settlement  process.', 'Verify  the  authenticity  of  requests  and  ensure  that  documents  are  released  securely and in compliance with legal and regulatory requirements.', '•', 'Education', '•  G.C.E Advanced Level (2017) –', 'S.Thomas’ College – Bandarawela  •  G.C.E Ordinary Level (2013)- S.Thomas’ College – Bandarawela   Certifications   College Prefect (S.Thomas’ College – Bandarawela 2015-16)  President of College Chess Club – (2015-16)  Secretary of College Scout Guild (2015-2016)', 'Secretary of College Indoor Games Club (2015-2016)  College Vice President of English Literary Association (2015-2016)  College Vice Secretary of Chemistry Circle (2015-2016)', '•', '•', '•', '•', '•', '•', '•', 'Member of Buddhist Student Association (2015)', '•  Vice-captain of College Basketball Team (2015-2016)', '•  Member of College Cricket Team', '•', 'Member of Athletic Club', '•', 'Captain of De Saram House', '(Inter School Sportsmeet-2016)', 'Non-Relative referees', '•', 'Mr S A Palitha Jayasooriya  Works collins aerospace', 'I-12,B/E Aerospace,  P.O Box 293665,DFZA,   Dubai, UAE.', '+971', '50 565 8608', 'samarakkody2003@yahoo.com', '•', 'Mr.', 'Chaiminda Weerasinghe   Assistance General', 'Manager- Recoveries,  UB Finance PLC,  Colombo 04.', '+9477 780 8801  chamindaw@ubf.lk']\n",
      "{}\n",
      "[]\n"
     ]
    }
   ],
   "source": [
    "education,edu = extract_education(new_text)\n",
    "print(education)"
   ]
  },
  {
   "cell_type": "code",
   "execution_count": 190,
   "metadata": {},
   "outputs": [
    {
     "data": {
      "text/plain": [
       "{'BSc': 'Special (Hons) – Information   Technology (Specialization – Data Science)   at Sri Lanka Institute of Information   Technology (SLIIT) Graduate',\n",
       " 'Diploma': '(2018)  GCE (Advance Level) Exam at Sri Subuthi'}"
      ]
     },
     "execution_count": 190,
     "metadata": {},
     "output_type": "execute_result"
    }
   ],
   "source": [
    "edu"
   ]
  },
  {
   "cell_type": "code",
   "execution_count": 108,
   "metadata": {},
   "outputs": [
    {
     "name": "stdout",
     "output_type": "stream",
     "text": [
      "B.Sc. Special (Hons) – Information Technology\n"
     ]
    }
   ],
   "source": [
    "import re\n",
    "\n",
    "text = \"\\n\\n●\\n\\n●\\n\\n●\\n\\n●\\n\\nB.Sc. Special (Hons) – Information \\n\\nTechnology \\n\\n●\\n\\n●\\n\\n●\\n\\n●\\n\\n\"\n",
    "\n",
    "cleaned_text = re.sub(r'(\\n\\n●)+|\\n\\n', '', text).strip()\n",
    "print(cleaned_text)"
   ]
  }
 ],
 "metadata": {
  "kernelspec": {
   "display_name": "ADHD",
   "language": "python",
   "name": "python3"
  },
  "language_info": {
   "codemirror_mode": {
    "name": "ipython",
    "version": 3
   },
   "file_extension": ".py",
   "mimetype": "text/x-python",
   "name": "python",
   "nbconvert_exporter": "python",
   "pygments_lexer": "ipython3",
   "version": "3.10.13"
  }
 },
 "nbformat": 4,
 "nbformat_minor": 2
}
