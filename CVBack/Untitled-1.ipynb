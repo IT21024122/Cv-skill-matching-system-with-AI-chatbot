{
 "cells": [
  {
   "cell_type": "code",
   "execution_count": 1,
   "metadata": {},
   "outputs": [],
   "source": [
    "from pdfminer.converter import TextConverter\n",
    "from pdfminer.pdfinterp import PDFPageInterpreter\n",
    "from pdfminer.pdfinterp import PDFResourceManager\n",
    "from pdfminer.layout import LAParams\n",
    "from pdfminer.pdfpage import PDFPage\n",
    "import io\n",
    "\n",
    "def extract_text_from_pdf(pdf_path):\n",
    "    with open(pdf_path, 'rb') as fh:\n",
    "        # iterate over all pages of PDF document\n",
    "        for page in PDFPage.get_pages(fh, caching=True, check_extractable=True,):\n",
    "            # creating a resoure manager\n",
    "            resource_manager = PDFResourceManager()\n",
    "            \n",
    "            # create a file handle\n",
    "            fake_file_handle = io.StringIO()\n",
    "            \n",
    "            # creating a text converter object\n",
    "            converter = TextConverter(\n",
    "                                resource_manager, \n",
    "                                fake_file_handle, \n",
    "                                codec='utf-8', \n",
    "                                laparams=LAParams()\n",
    "                        )\n",
    "\n",
    "            # creating a page interpreter\n",
    "            page_interpreter = PDFPageInterpreter(\n",
    "                                resource_manager, \n",
    "                                converter\n",
    "                            )\n",
    "\n",
    "            # process current page\n",
    "            page_interpreter.process_page(page)\n",
    "            \n",
    "            # extract text\n",
    "            text = fake_file_handle.getvalue()\n",
    "            yield text\n",
    "\n",
    "            # close open handles\n",
    "            converter.close()\n",
    "            fake_file_handle.close()\n"
   ]
  },
  {
   "cell_type": "code",
   "execution_count": 3,
   "metadata": {},
   "outputs": [],
   "source": [
    "text = \"\"\n",
    "for page in extract_text_from_pdf(\"service letter sample.pdf\"):\n",
    "    text += ' ' + page"
   ]
  },
  {
   "cell_type": "code",
   "execution_count": 4,
   "metadata": {},
   "outputs": [
    {
     "data": {
      "text/plain": [
       "\" SADISA MANAGEMENT & TECHNOLOGIES\\nSADISA M&T\\nB.R. No. 1998/M3 No. 5/61 138, Thalgaspedesa, Kirimatimulla, Thelijavila.\\n077-8603555/071-8081809\\nsadisamanagment@gmail.com\\n22nd AUGUST 2023\\n\\nTO WHOM IT MAY CONCERN.\\n\\nThis is to certify that DON KODITHUWAKKU KARUNARATHNE RAVEEN SHENOL of 28/A/1,\\nWALANA, WELIGAMA, bearer of NIC 200118200862 is employed at our organization as a\\n'Production Associator 'on sub-contract basis from 20th July 2021 to 30th March 2022.\\n\\nDuring this period he has been assigned to the production department of Midigama Air Tire\\ndivision at Michelin Lanka (pvt) Ltd.\\n\\nDuring this period, we found him to be honest, loyal & hard working. He performed all the duties\\nentrusted to him to the satisfaction of his superiors.\\n\\nHe bears a good moral character & I have no hesitation in recommending him to any\\nprospective employer who needs his service in the same field.\\n\\nWe wish him all success in his future endeavors.\\n\\nThis letter was issued on his request and without prejudice.\\n\\nThanking you,\\nYours truly,\\nSadisa Management & Technologies\\n\\nN.A.G.D Krishantha\\nManager Administration\\nSADISA MANAGEMENT & TECHNOLOGIES\\n61/5, 13/B, Thalgaspedesa, Kirimetimulla, Thelejjavila.\\n\\n\\x0c\""
      ]
     },
     "execution_count": 4,
     "metadata": {},
     "output_type": "execute_result"
    }
   ],
   "source": [
    "text"
   ]
  },
  {
   "cell_type": "code",
   "execution_count": 8,
   "metadata": {},
   "outputs": [],
   "source": [
    "from spacy.matcher import Matcher\n",
    "import spacy\n",
    "nlp = spacy.load('en_core_web_sm')\n",
    "matcher = Matcher(nlp.vocab)\n",
    "import pandas as pd\n",
    "import re"
   ]
  },
  {
   "cell_type": "code",
   "execution_count": 9,
   "metadata": {},
   "outputs": [],
   "source": [
    "def change_month_to_number(text):\n",
    "    month_dict = {\n",
    "        'JANUARY': '01',\n",
    "        'FEBRUARY': '02',\n",
    "        'MARCH': '03',\n",
    "        'APRIL': '04',\n",
    "        'MAY': '05',\n",
    "        'JUNE': '06',\n",
    "        'JULY': '07',\n",
    "        'AUGUST': '08',\n",
    "        'SEPTEMBER': '09',\n",
    "        'OCTOBER': '10',\n",
    "        'NOVEMBER': '11',\n",
    "        'DECEMBER': '12'\n",
    "    }\n",
    "    for month, value in month_dict.items():\n",
    "        text = re.sub(r'\\b{}\\b'.format(month), value, text.upper())\n",
    "    return text"
   ]
  },
  {
   "cell_type": "code",
   "execution_count": 10,
   "metadata": {},
   "outputs": [],
   "source": [
    "tt = change_month_to_number(text)"
   ]
  },
  {
   "cell_type": "code",
   "execution_count": 12,
   "metadata": {},
   "outputs": [],
   "source": [
    "tt = re.sub(r'(\\d{2})(?:ST|ND|RD|TH) (\\d{2}) (\\d{4})', r'\\1 \\2 \\3', tt)\n",
    "tt = re.sub(r'\\.', ' ', tt)"
   ]
  },
  {
   "cell_type": "code",
   "execution_count": 13,
   "metadata": {},
   "outputs": [
    {
     "name": "stdout",
     "output_type": "stream",
     "text": [
      "Date range: 20 07 2021 to 30 03 2022\n"
     ]
    }
   ],
   "source": [
    "lines = tt.split(\"\\n\")\n",
    "\n",
    "for indx, line in enumerate(lines):\n",
    "    # print(line)\n",
    "    if \" TO \" in line:\n",
    "        # dates = re.findall(r'\\b\\d{2}(?:ST|ND|RD|TH) \\d{2} \\d{4}\\b', line)\n",
    "        dates = re.findall(r'\\b\\d{2} \\d{2} \\d{4}\\b', line)\n",
    "        if dates:\n",
    "            date_indexes = [line.index(date) for date in dates]\n",
    "            to_index = line.index(\" TO \")\n",
    "            \n",
    "            for date_index in date_indexes:\n",
    "                print(\"Date range:\", dates[date_indexes.index(date_index)], \"to\", dates[date_indexes.index(date_index)+1])\n",
    "                break"
   ]
  },
  {
   "cell_type": "code",
   "execution_count": 21,
   "metadata": {},
   "outputs": [
    {
     "name": "stdout",
     "output_type": "stream",
     "text": [
      "Extracted Person Names: ['KARUNARATHNE RAVEEN SHENOL', 'WELIGAMA', 'Krishantha']\n"
     ]
    }
   ],
   "source": [
    "# Process the text with spaCy\n",
    "doc = nlp(text)\n",
    "\n",
    "# Extract person names\n",
    "names = [ent.text for ent in doc.ents if ent.label_ == \"PERSON\"]\n",
    "\n",
    "print(\"Extracted Person Names:\", names)"
   ]
  },
  {
   "cell_type": "code",
   "execution_count": 23,
   "metadata": {},
   "outputs": [
    {
     "name": "stdout",
     "output_type": "stream",
     "text": [
      "Extracted Job Roles: ['Production Associator', 'Manager Administration']\n"
     ]
    }
   ],
   "source": [
    "pattern = r'\\b(?:Production Associator|Manager Administration|Developer|Analyst|Engineer)\\b'\n",
    "\n",
    "roles = re.findall(pattern, text)\n",
    "print(\"Extracted Job Roles:\", roles)"
   ]
  },
  {
   "cell_type": "code",
   "execution_count": 24,
   "metadata": {},
   "outputs": [
    {
     "name": "stdout",
     "output_type": "stream",
     "text": [
      "Extracted NIC Numbers: ['200118200862']\n"
     ]
    }
   ],
   "source": [
    "pattern = r'\\bNIC\\s*(\\d{9,12}[A-Z]?)\\b|\\b(\\d{9,12}[A-Z]?)\\s*NIC\\b'\n",
    "\n",
    "# Find all matches\n",
    "matches = re.findall(pattern, text)\n",
    "\n",
    "# Extract NIC numbers from matched groups\n",
    "nic_numbers = [match[0] or match[1] for match in matches]\n",
    "\n",
    "print(\"Extracted NIC Numbers:\", nic_numbers)"
   ]
  },
  {
   "cell_type": "code",
   "execution_count": 25,
   "metadata": {},
   "outputs": [
    {
     "name": "stdout",
     "output_type": "stream",
     "text": [
      "Extracted ofz: ['Sadisa Management & Technologies']\n"
     ]
    }
   ],
   "source": [
    "pattern_ofz = r'\\b(?:Sadisa Management & Technologies)\\b'\n",
    "\n",
    "ofz = re.findall(pattern_ofz, text)\n",
    "print(\"Extracted ofz:\", ofz)"
   ]
  },
  {
   "cell_type": "code",
   "execution_count": 4,
   "metadata": {},
   "outputs": [
    {
     "name": "stdout",
     "output_type": "stream",
     "text": [
      "{'detail': [{'loc': ['body', 'validation_input'], 'msg': 'value is not a valid dict', 'type': 'type_error.dict'}]}\n"
     ]
    }
   ],
   "source": [
    "import requests\n",
    "import json\n",
    "\n",
    "url = \"http://127.0.0.1:8000/extract-data/\"\n",
    "pdf_file_path = \"service letter sample.pdf\"\n",
    "validation_input = {\n",
    "    \"names\": \"John Doe\",\n",
    "    \"roles\": \"Developer\",\n",
    "    \"nic_numbers\": \"199811820086V\",\n",
    "    \"date_ranges\": \"01 01 2021 to 31 12 2021\"\n",
    "}\n",
    "ofz_term = \"Sadisa\"\n",
    "\n",
    "with open(pdf_file_path, 'rb') as f:\n",
    "    files = {\n",
    "        'pdf_file': f,\n",
    "    }\n",
    "    data = {\n",
    "        'ofz_term': ofz_term,\n",
    "        'validation_input': json.dumps(validation_input)\n",
    "    }\n",
    "    response = requests.post(url, files=files, data=data)\n",
    "\n",
    "print(response.json())\n"
   ]
  },
  {
   "cell_type": "code",
   "execution_count": 5,
   "metadata": {},
   "outputs": [
    {
     "name": "stdout",
     "output_type": "stream",
     "text": [
      "{'detail': [{'loc': ['body', 'validation_input'], 'msg': 'value is not a valid dict', 'type': 'type_error.dict'}]}\n"
     ]
    }
   ],
   "source": [
    "import requests\n",
    "import json\n",
    "\n",
    "url = \"http://127.0.0.1:8000/extract-data/\"\n",
    "validation_input = {\n",
    "    \"names\": \"John Doe\",\n",
    "    \"roles\": \"Developer\",\n",
    "    \"nic_numbers\": \"199811820086V\",\n",
    "    \"date_ranges\": \"01 01 2021 to 31 12 2021\"\n",
    "}\n",
    "ofz_term = \"Sadisa\"\n",
    "\n",
    "with open(pdf_file_path, 'rb') as f:\n",
    "    files = {\n",
    "        'pdf_file': f,\n",
    "    }\n",
    "    data = {\n",
    "        'ofz_term': ofz_term,\n",
    "        'validation_input': json.dumps(validation_input)  # Encode validation_input as a JSON string\n",
    "    }\n",
    "    response = requests.post(url, files=files, data=data)\n",
    "\n",
    "print(response.json())\n"
   ]
  },
  {
   "cell_type": "code",
   "execution_count": 10,
   "metadata": {},
   "outputs": [
    {
     "ename": "AttributeError",
     "evalue": "'list' object has no attribute 'split'",
     "output_type": "error",
     "traceback": [
      "\u001b[1;31m---------------------------------------------------------------------------\u001b[0m",
      "\u001b[1;31mAttributeError\u001b[0m                            Traceback (most recent call last)",
      "Cell \u001b[1;32mIn[10], line 33\u001b[0m\n\u001b[0;32m     30\u001b[0m     validations[\u001b[38;5;124m\"\u001b[39m\u001b[38;5;124mnic_number\u001b[39m\u001b[38;5;124m\"\u001b[39m] \u001b[38;5;241m=\u001b[39m \u001b[38;5;28;01mTrue\u001b[39;00m\n\u001b[0;32m     32\u001b[0m \u001b[38;5;66;03m# Parse validation_input date range\u001b[39;00m\n\u001b[1;32m---> 33\u001b[0m val_start, val_end \u001b[38;5;241m=\u001b[39m \u001b[43mparse_date_range\u001b[49m\u001b[43m(\u001b[49m\u001b[43mvalidation_input\u001b[49m\u001b[43m[\u001b[49m\u001b[38;5;124;43m'\u001b[39;49m\u001b[38;5;124;43mdate_ranges\u001b[39;49m\u001b[38;5;124;43m'\u001b[39;49m\u001b[43m]\u001b[49m\u001b[43m)\u001b[49m\n\u001b[0;32m     35\u001b[0m \u001b[38;5;66;03m# Check if the validation_input date range is found in any extracted_data date ranges\u001b[39;00m\n\u001b[0;32m     36\u001b[0m \u001b[38;5;28;01mfor\u001b[39;00m range_str \u001b[38;5;129;01min\u001b[39;00m extracted_data[\u001b[38;5;124m'\u001b[39m\u001b[38;5;124mdate_ranges\u001b[39m\u001b[38;5;124m'\u001b[39m]:\n\u001b[0;32m     37\u001b[0m     \u001b[38;5;66;03m# Extract date range from the string (removing 'Date range:' prefix)\u001b[39;00m\n",
      "Cell \u001b[1;32mIn[10], line 4\u001b[0m, in \u001b[0;36mparse_date_range\u001b[1;34m(date_range_str)\u001b[0m\n\u001b[0;32m      3\u001b[0m \u001b[38;5;28;01mdef\u001b[39;00m \u001b[38;5;21mparse_date_range\u001b[39m(date_range_str):\n\u001b[1;32m----> 4\u001b[0m     start_str, end_str \u001b[38;5;241m=\u001b[39m \u001b[43mdate_range_str\u001b[49m\u001b[38;5;241;43m.\u001b[39;49m\u001b[43msplit\u001b[49m(\u001b[38;5;124m'\u001b[39m\u001b[38;5;124m to \u001b[39m\u001b[38;5;124m'\u001b[39m)\n\u001b[0;32m      5\u001b[0m     start_date \u001b[38;5;241m=\u001b[39m datetime\u001b[38;5;241m.\u001b[39mstrptime(start_str\u001b[38;5;241m.\u001b[39mstrip(), \u001b[38;5;124m'\u001b[39m\u001b[38;5;132;01m%d\u001b[39;00m\u001b[38;5;124m \u001b[39m\u001b[38;5;124m%\u001b[39m\u001b[38;5;124mm \u001b[39m\u001b[38;5;124m%\u001b[39m\u001b[38;5;124mY\u001b[39m\u001b[38;5;124m'\u001b[39m)\n\u001b[0;32m      6\u001b[0m     end_date \u001b[38;5;241m=\u001b[39m datetime\u001b[38;5;241m.\u001b[39mstrptime(end_str\u001b[38;5;241m.\u001b[39mstrip(), \u001b[38;5;124m'\u001b[39m\u001b[38;5;132;01m%d\u001b[39;00m\u001b[38;5;124m \u001b[39m\u001b[38;5;124m%\u001b[39m\u001b[38;5;124mm \u001b[39m\u001b[38;5;124m%\u001b[39m\u001b[38;5;124mY\u001b[39m\u001b[38;5;124m'\u001b[39m)\n",
      "\u001b[1;31mAttributeError\u001b[0m: 'list' object has no attribute 'split'"
     ]
    }
   ],
   "source": [
    "from datetime import datetime\n",
    "\n",
    "def parse_date_range(date_range_str):\n",
    "    start_str, end_str = date_range_str.split(' to ')\n",
    "    start_date = datetime.strptime(start_str.strip(), '%d %m %Y')\n",
    "    end_date = datetime.strptime(end_str.strip(), '%d %m %Y')\n",
    "    return start_date, end_date\n",
    "\n",
    "# validation_input = {'names': 'John Doe','roles': 'Developer','nic_numbers': '199811820086V','date_ranges': '01 01 2021 to 31 12 2021'}\n",
    "# extracted_data = {'names': ['KARUNARATHNE RAVEEN SHENOL', 'WELIGAMA', 'Krishantha','John Doe'],'roles': ['Production Associator', 'Manager Administration','Developer'],'nic_numbers': ['200118200862'],'date_ranges': ['Date range: 20 07 2021 to 30 03 2022']}\n",
    "\n",
    "validation_input = {'names': ['John Doe'], 'roles': ['Manager'], 'nic_numbers': ['199811820086V'], 'date_ranges': ['01 01 2020 to 31 12 2020']}\n",
    "extracted_data = {'names': ['KARUNARATHNE RAVEEN SHENOL', 'WELIGAMA', 'Krishantha'], 'roles': ['Production Associator', 'Manager Administration'], 'nic_numbers': ['200118200862'], 'ofz': [], 'date_ranges': ['Date range: 20 07 2021 to 30 03 2022']}\n",
    "\n",
    "validations = {\n",
    "    \"name\" : False,\n",
    "    \"role\" : False,\n",
    "    \"nic_number\" : False,\n",
    "    \"date_ranges\": False\n",
    "}\n",
    "# Check if the validation_input name is in the extracted_data names\n",
    "if validation_input['names'] in extracted_data['names']:\n",
    "    print(\"Valid\")\n",
    "    validations[\"name\"] = True\n",
    "if validation_input['roles'] in extracted_data['roles']:\n",
    "    print(\"Valid\")\n",
    "    validations[\"role\"] = True\n",
    "if validation_input['nic_numbers'] in extracted_data['nic_numbers']:\n",
    "    print(\"Valid\")\n",
    "    validations[\"nic_number\"] = True\n",
    "\n",
    "# Parse validation_input date range\n",
    "val_start, val_end = parse_date_range(validation_input['date_ranges'])\n",
    "\n",
    "# Check if the validation_input date range is found in any extracted_data date ranges\n",
    "for range_str in extracted_data['date_ranges']:\n",
    "    # Extract date range from the string (removing 'Date range:' prefix)\n",
    "    extracted_range = range_str.replace('Date range:', '').strip()\n",
    "    ext_start, ext_end = parse_date_range(extracted_range)\n",
    "    \n",
    "    # Check for overlap or exact match\n",
    "    if val_start <= ext_end and val_end >= ext_start:\n",
    "        validations[\"date_ranges\"] = True\n",
    "        break\n",
    "\n",
    "print(validations)"
   ]
  },
  {
   "cell_type": "code",
   "execution_count": 12,
   "metadata": {},
   "outputs": [
    {
     "name": "stdout",
     "output_type": "stream",
     "text": [
      "{'name': False, 'role': False, 'nic_number': False, 'date_ranges': True}\n"
     ]
    }
   ],
   "source": [
    "from datetime import datetime\n",
    "\n",
    "def parse_date_range(date_range_str):\n",
    "    start_str, end_str = date_range_str.split(' to ')\n",
    "    start_date = datetime.strptime(start_str.strip(), '%d %m %Y')\n",
    "    end_date = datetime.strptime(end_str.strip(), '%d %m %Y')\n",
    "    return start_date, end_date\n",
    "\n",
    "validation_input = {'names': ['John Doe'], 'roles': ['Manager'], 'nic_numbers': ['199811820086V'], 'date_ranges': ['20 07 2021 to 30 03 2022']}\n",
    "extracted_data = {'names': ['KARUNARATHNE RAVEEN SHENOL', 'WELIGAMA', 'Krishantha'], 'roles': ['Production Associator', 'Manager Administration'], 'nic_numbers': ['200118200862'], 'ofz': [], 'date_ranges': ['Date range: 20 07 2021 to 30 03 2022']}\n",
    "\n",
    "validations = {\n",
    "    \"name\": False,\n",
    "    \"role\": False,\n",
    "    \"nic_number\": False,\n",
    "    \"date_ranges\": False\n",
    "}\n",
    "\n",
    "# Check if the validation_input name is in the extracted_data names\n",
    "if validation_input['names'][0] in extracted_data['names']:\n",
    "    print(\"Valid name\")\n",
    "    validations[\"name\"] = True\n",
    "\n",
    "# Check if the validation_input role is in the extracted_data roles\n",
    "if validation_input['roles'][0] in extracted_data['roles']:\n",
    "    print(\"Valid role\")\n",
    "    validations[\"role\"] = True\n",
    "\n",
    "# Check if the validation_input nic_number is in the extracted_data nic_numbers\n",
    "if validation_input['nic_numbers'][0] in extracted_data['nic_numbers']:\n",
    "    print(\"Valid NIC number\")\n",
    "    validations[\"nic_number\"] = True\n",
    "\n",
    "# Parse validation_input date range\n",
    "val_start, val_end = parse_date_range(validation_input['date_ranges'][0])\n",
    "\n",
    "# Check if the validation_input date range is found in any extracted_data date ranges\n",
    "for range_str in extracted_data['date_ranges']:\n",
    "    # Extract date range from the string (removing 'Date range:' prefix)\n",
    "    extracted_range = range_str.replace('Date range:', '').strip()\n",
    "    ext_start, ext_end = parse_date_range(extracted_range)\n",
    "    \n",
    "    # Check for overlap or exact match\n",
    "    if val_start <= ext_end and val_end >= ext_start:\n",
    "        validations[\"date_ranges\"] = True\n",
    "        break\n",
    "\n",
    "print(validations)\n"
   ]
  },
  {
   "cell_type": "code",
   "execution_count": 8,
   "metadata": {},
   "outputs": [
    {
     "name": "stdout",
     "output_type": "stream",
     "text": [
      "{'date_ranges': True}\n"
     ]
    }
   ],
   "source": [
    "from datetime import datetime\n",
    "\n",
    "# Function to parse date ranges\n",
    "def parse_date_range(date_range_str):\n",
    "    start_str, end_str = date_range_str.split(' to ')\n",
    "    start_date = datetime.strptime(start_str.strip(), '%d %m %Y')\n",
    "    end_date = datetime.strptime(end_str.strip(), '%d %m %Y')\n",
    "    return start_date, end_date\n",
    "\n",
    "validation_input = {'date_ranges': '01 01 2021 to 31 12 2021'}\n",
    "extracted_data = {'date_ranges': ['Date range: 20 07 2021 to 30 03 2022']}\n",
    "validations = {\"date_ranges\": False}\n",
    "\n",
    "# Parse validation_input date range\n",
    "val_start, val_end = parse_date_range(validation_input['date_ranges'])\n",
    "\n",
    "# Check if the validation_input date range is found in any extracted_data date ranges\n",
    "for range_str in extracted_data['date_ranges']:\n",
    "    # Extract date range from the string (removing 'Date range:' prefix)\n",
    "    extracted_range = range_str.replace('Date range:', '').strip()\n",
    "    ext_start, ext_end = parse_date_range(extracted_range)\n",
    "    \n",
    "    # Check for overlap or exact match\n",
    "    if val_start <= ext_end and val_end >= ext_start:\n",
    "        validations[\"date_ranges\"] = True\n",
    "        break\n",
    "\n",
    "print(validations)\n"
   ]
  }
 ],
 "metadata": {
  "kernelspec": {
   "display_name": "ADHD",
   "language": "python",
   "name": "python3"
  },
  "language_info": {
   "codemirror_mode": {
    "name": "ipython",
    "version": 3
   },
   "file_extension": ".py",
   "mimetype": "text/x-python",
   "name": "python",
   "nbconvert_exporter": "python",
   "pygments_lexer": "ipython3",
   "version": "3.10.13"
  }
 },
 "nbformat": 4,
 "nbformat_minor": 2
}
